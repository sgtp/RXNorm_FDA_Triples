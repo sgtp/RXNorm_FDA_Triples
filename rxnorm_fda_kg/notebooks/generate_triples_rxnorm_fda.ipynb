{
 "cells": [
  {
   "cell_type": "code",
   "execution_count": null,
   "metadata": {
    "colab": {
     "base_uri": "https://localhost:8080/",
     "height": 1000
    },
    "executionInfo": {
     "elapsed": 65550,
     "status": "ok",
     "timestamp": 1608218945997,
     "user": {
      "displayName": "Vishal Lal",
      "photoUrl": "",
      "userId": "14499003186519065342"
     },
     "user_tz": 480
    },
    "id": "aSjC5BQhv9JT",
    "outputId": "346fbf4f-e783-48ce-da29-6da66c7c803e"
   },
   "outputs": [],
   "source": [
    "!pip install kgtk"
   ]
  },
  {
   "cell_type": "markdown",
   "metadata": {
    "id": "OWUT38vnBb8p"
   },
   "source": [
    "# **Step 0: Download RXNORM and FDA Data**\n",
    "**RXNORM**:\n",
    "1. Use this DATABASE creation automation script from RXNORM Technical Documentation- https://www.nlm.nih.gov/research/umls/rxnorm/docs/techdoc.html#s13_0\n",
    "2. Convert the Resultant SQL Files to get required CSV Files \n",
    "\n",
    "**FDA**:\n",
    "1. Use this JSON from OPENFDA Documentation to get required - https://api.fda.gov/download.json\n",
    "2. Get the Required FDA files from: fda_json[\"results\"][\"drug\"][\"ndc\"], fda_json[\"results\"][\"drug\"][\"label\"], fda_json[\"results\"][\"drug\"][\"drugsfda\"] & fda_json[\"results\"][\"drug\"][\"enforcement\"]\n",
    "\n",
    "\n",
    "\n",
    "\n"
   ]
  },
  {
   "cell_type": "code",
   "execution_count": null,
   "metadata": {
    "colab": {
     "base_uri": "https://localhost:8080/"
    },
    "executionInfo": {
     "elapsed": 65535,
     "status": "ok",
     "timestamp": 1608218945998,
     "user": {
      "displayName": "Vishal Lal",
      "photoUrl": "",
      "userId": "14499003186519065342"
     },
     "user_tz": 480
    },
    "id": "FyYK5QrJwEfW",
    "outputId": "17f82701-0971-4414-ddbd-d8bab3411aaf"
   },
   "outputs": [],
   "source": [
    "cd sample_data/"
   ]
  },
  {
   "cell_type": "code",
   "execution_count": null,
   "metadata": {
    "colab": {
     "base_uri": "https://localhost:8080/"
    },
    "executionInfo": {
     "elapsed": 236187,
     "status": "ok",
     "timestamp": 1608219116663,
     "user": {
      "displayName": "Vishal Lal",
      "photoUrl": "",
      "userId": "14499003186519065342"
     },
     "user_tz": 480
    },
    "id": "a9kvqWTbwQ1r",
    "outputId": "2beb4500-7eff-46df-80bc-d9b21d1772e3"
   },
   "outputs": [],
   "source": [
    "from google.colab import drive\n",
    "drive.mount('/content/drive')"
   ]
  },
  {
   "cell_type": "code",
   "execution_count": null,
   "metadata": {
    "colab": {
     "base_uri": "https://localhost:8080/"
    },
    "executionInfo": {
     "elapsed": 236383,
     "status": "ok",
     "timestamp": 1608219116873,
     "user": {
      "displayName": "Vishal Lal",
      "photoUrl": "",
      "userId": "14499003186519065342"
     },
     "user_tz": 480
    },
    "id": "s4vL-qI5wRti",
    "outputId": "d3a33a6a-afc3-4504-efe1-64f84f9f970e"
   },
   "outputs": [],
   "source": [
    "cd ../drive/MyDrive/Colab\\ Notebooks/rxnorm_fda_kg/notebooks"
   ]
  },
  {
   "cell_type": "code",
   "execution_count": null,
   "metadata": {
    "executionInfo": {
     "elapsed": 236735,
     "status": "ok",
     "timestamp": 1608219117246,
     "user": {
      "displayName": "Vishal Lal",
      "photoUrl": "",
      "userId": "14499003186519065342"
     },
     "user_tz": 480
    },
    "id": "QrAzo65lvxxc"
   },
   "outputs": [],
   "source": [
    "import csv\n",
    "import json\n",
    "from SPARQLWrapper import SPARQLWrapper, JSON\n",
    "import sys\n",
    "import re"
   ]
  },
  {
   "cell_type": "code",
   "execution_count": null,
   "metadata": {
    "executionInfo": {
     "elapsed": 236727,
     "status": "ok",
     "timestamp": 1608219117248,
     "user": {
      "displayName": "Vishal Lal",
      "photoUrl": "",
      "userId": "14499003186519065342"
     },
     "user_tz": 480
    },
    "id": "Tr3dQhAlPMOC"
   },
   "outputs": [],
   "source": [
    "#Function: Write results to tsv file\n",
    "def write_tsv(file_name, data_lists):\n",
    "\twith open(file_name, \"w\", encoding=\"utf-8\") as f:\n",
    "\t\tf.write(\"node1\\tlabel\\tnode2\\n\")\n",
    "\t\tfor data in data_lists:\n",
    "\t\t\tline = \"\\t\".join(data)\n",
    "\t\t\tline += \"\\n\"\n",
    "\t\t\tf.write(line)"
   ]
  },
  {
   "cell_type": "code",
   "execution_count": null,
   "metadata": {
    "executionInfo": {
     "elapsed": 236715,
     "status": "ok",
     "timestamp": 1608219117249,
     "user": {
      "displayName": "Vishal Lal",
      "photoUrl": "",
      "userId": "14499003186519065342"
     },
     "user_tz": 480
    },
    "id": "FGjcyhuzPQse"
   },
   "outputs": [],
   "source": [
    "#subject_list= ['1656341', '317541', '69749', '1656328', '1656339', '1656346', '1656351', '1656356', '1656342', '1656350', '1656355', '1656343', '1656340', '1656349', '1656354', '1656334', '1656335', '1656347', '1656348', '1656352', '1656353', '1656338', '1656336', '1656337', '1656344', '1656345', '1151131', '1151133']"
   ]
  },
  {
   "cell_type": "markdown",
   "metadata": {
    "id": "ACTbAxMjMb-v"
   },
   "source": [
    "# **Step 1: Generate Intermediate RXNORM Triples**"
   ]
  },
  {
   "cell_type": "markdown",
   "metadata": {
    "id": "R9xX6LnWOaok"
   },
   "source": [
    "# **1A. Generate Intermediate RXNORM Triples from RXNCONSO table**\n",
    "RXNCONSO table provides the following information:<br>\n",
    "*   RXNorm General Information: rxcui (RXNormID), name (label), tty (description), language (lat) and suppress (Y/N)\n",
    "*   RXNorm Synonym Information: synonym (alias)\n",
    "*   RXNorm Related Identifier Information: such as MSH, DRUGBANK and SNOMEDCT etc.\n",
    "\n",
    "**RXNCONSO Headers for Reference**:<br>\n",
    "RXCUI,LAT,TS,LUI,STT,SUI,ISPREF,RXAUI,SAUI,SCUI,SDUI,SAB,TTY,CODE,STR,SRL,SUPPRESS,CVF\n",
    "\n",
    "**RXNorm General Information**:<br>\n",
    "Example for Entresto sample record:<br>\n",
    "1656341,ENG,,,,,,7249807,7249807.0,1656341,,RXNORM,BN,1656341,Entresto,,N,4096.0<br>\n",
    "Subject: RXCUI (1656341) <br>\n",
    "Predicates & Object: [Read as Predicate: Source Header (Object Value)]<br>\n",
    "*   label: STR (Entresto)<br>\n",
    "*   description: TTY (BN)<br>\n",
    "*   language: LAT (ENG)<br>\n",
    "*   suppress: SUPPRESS (N)<br>\n",
    "*   rxcui: CODE (1656341) <br>\n",
    "\n",
    "**RXNorm Synonym Information**:<br>\n",
    "Example for Entresto sample record:<br>\n",
    "3 entries- One Regular Information for Term Type SBD followed by 2 synonyms- PSN (Prescribable Name) and SY (Synonym)<br>\n",
    "Regular Record:<br>\n",
    "1656346,ENG,,,,,,7249812,7249812.0,1656346,,RXNORM,SBD,1656346,sacubitril 24 MG / valsartan 26 MG Oral Tablet [Entresto],,N,4096.0<br>\n",
    "2 Synonym Records:<br>\n",
    "1656346,ENG,,,,,,7249813,7249813.0,1656346,,RXNORM,PSN,1656346,Entresto 24 MG / 26 MG Oral Tablet,,N,4096.0\n",
    "1656346,ENG,,,,,,7249814,7249814.0,1656346,,RXNORM,SY,1656346,Entresto (sacubitril 24 MG / valsartan 26 MG) Oral Tablet,,N,4096.0\n",
    "\n",
    "Subject: RXCUI (1656346) <br>\n",
    "Predicates & object:<br>\n",
    "*   alias: STR (Entresto 24 MG / 26 MG Oral Tablet)<br>\n",
    "*   alias: STR (Entresto (sacubitril 24 MG / valsartan 26 MG) Oral Tablet)<br>\n",
    "\n",
    "**RXNorm Identifier Information**:<br>\n",
    "Example for Entresto sample record:<br>\n",
    "2 entries- One for MMSL and other for MSH:<br>\n",
    "1656341,ENG,,,,,,7255921,,,,MMSL,BN,234762,Entresto,,N,\n",
    "1656341,ENG,,,,,,8138471,,M000614616,C549068,MSH,PCE,C549068,entresto,,N,\n",
    "\n",
    "Subject: RXCUI (1656346) <br>\n",
    "Predicates & Object:<br>\n",
    "*   MMSL: CODE (234762)<br>\n",
    "*   MSH: CODE (C549068)<br>\n",
    "\n",
    "\n",
    "\n"
   ]
  },
  {
   "cell_type": "code",
   "execution_count": null,
   "metadata": {
    "executionInfo": {
     "elapsed": 236707,
     "status": "ok",
     "timestamp": 1608219117250,
     "user": {
      "displayName": "Vishal Lal",
      "photoUrl": "",
      "userId": "14499003186519065342"
     },
     "user_tz": 480
    },
    "id": "5zG3AHT7PWJ8"
   },
   "outputs": [],
   "source": [
    "#Declare list to hold all RXNorm triples\n",
    "triples_all=[]"
   ]
  },
  {
   "cell_type": "code",
   "execution_count": null,
   "metadata": {
    "executionInfo": {
     "elapsed": 243959,
     "status": "ok",
     "timestamp": 1608219124513,
     "user": {
      "displayName": "Vishal Lal",
      "photoUrl": "",
      "userId": "14499003186519065342"
     },
     "user_tz": 480
    },
    "id": "JTRhtc-OPYs3"
   },
   "outputs": [],
   "source": [
    "#Create a dictionary to hold all the Term types for an RXNorm\n",
    "rxcui_tty_dict={}\n",
    "\n",
    "#Create a dictionary to hold the Identifier Label as a qualifier\n",
    "rxcui_identifier_qual_dict={}\n",
    "\n",
    "#RXNCONSO table: gives rxcui, name(label),tty(description), synonym(alias), language(ENG) and suppress(Y/N)\n",
    "#RXNCONSO table: gives related identifiers e.g. MSH, DRUGBANK, SNOMEDCT\n",
    "with open('../data/rxnorm/rxnconso.csv', encoding=\"utf-8\") as f:\n",
    "    reader = csv.reader(f)\n",
    "    \n",
    "    #Get the list of headers from the file\n",
    "    header_list = next(reader)\n",
    "    #print(\"Header=\", header_list)\n",
    "    \n",
    "    \n",
    "    for row in reader:\n",
    "        triples=[]\n",
    "        \n",
    "        #Check the identifier is not RXNORM i.e MSH, SNOMED, DRUGBANK etc.\n",
    "        #since RXNORM is the subject and we already get the rxcui from the name\n",
    "        if row[11] != 'RXNORM':\n",
    "            #print(\"Subject Identifier=\",row[0])\n",
    "            #print(row[0], row[11], row[13])\n",
    "            \n",
    "            #Get the triples related to identifiers- MSH, SNOMED etc.\n",
    "            triples.append(\"\\\"\"+row[0]+\"\\\"\")\n",
    "            triples.append(row[11])\n",
    "            triples.append(\"\\\"\"+row[13]+\"\\\"\")\n",
    "\n",
    "            #Construct the dictionary for Identifier Label related Qualifier\n",
    "            rxcui_identifier_qual_dict_key=row[0]+\"_\"+row[11]\n",
    "            if rxcui_identifier_qual_dict_key not in rxcui_identifier_qual_dict:\n",
    "              rxcui_identifier_qual_dict[rxcui_identifier_qual_dict_key]=[]\n",
    "              rxcui_identifier_qual_dict[rxcui_identifier_qual_dict_key].append(str(row[14]))\n",
    "            else:\n",
    "              rxcui_identifier_qual_dict[rxcui_identifier_qual_dict_key].append(str(row[14]))\n",
    "\n",
    "            #Append triples related to identifiers to list of all triples\n",
    "            triples_all.append(triples)\n",
    "        \n",
    "        #Declare list of triples for lang, rxcui, tty, name, synonym, suppress\n",
    "        triples_lang=[]\n",
    "        triples_rxcui=[]\n",
    "        triples_tty=[]\n",
    "        triples_name=[]\n",
    "        triples_suppress=[]\n",
    "        triples_synonym=[]\n",
    "        \n",
    "        #Check identifier is RXNORM and is not a Synonym/Tall Man Lettering Synonym/Prescribable Name\n",
    "        #This gives us all the required RXNORM triples other than synonym\n",
    "        if row[11] == 'RXNORM' and row[12] not in ('SY', 'TMSY', 'PSN'):\n",
    "            #print(\"Subject Triples=\",row[0])\n",
    "            \n",
    "            #Get the triples for language\n",
    "            triples_lang.append(\"\\\"\"+row[0]+\"\\\"\")\n",
    "            triples_lang.append(\"language\")\n",
    "            triples_lang.append(\"\\\"\"+row[1]+\"\\\"\")\n",
    "            \n",
    "            #Get the triples for rxcui\n",
    "            triples_rxcui.append(\"\\\"\"+row[0]+\"\\\"\")\n",
    "            triples_rxcui.append(\"rxcui\")\n",
    "            triples_rxcui.append(\"\\\"\"+row[13]+\"\\\"\")\n",
    "            \n",
    "            #Get the triples for tty (description)\n",
    "            triples_tty.append(\"\\\"\"+row[0]+\"\\\"\")\n",
    "            triples_tty.append(\"tty\")\n",
    "            triples_tty.append(\"\\\"\"+row[12]+\"\\\"\")\n",
    "\n",
    "            #Add the tty in the dictionary for the subject\n",
    "            rxcui_tty_dict[row[0]]=row[12]\n",
    "            \n",
    "            #Get the triples for name (label)\n",
    "            triples_name.append(\"\\\"\"+row[0]+\"\\\"\")\n",
    "            triples_name.append(\"name\")\n",
    "            triples_name.append(\"\\\"\"+row[14]+\"\\\"\")\n",
    "            \n",
    "            #Get the triples for suppress\n",
    "            triples_suppress.append(\"\\\"\"+row[0]+\"\\\"\")\n",
    "            triples_suppress.append(\"suppress\")\n",
    "            triples_suppress.append(\"\\\"\"+row[16]+\"\\\"\")\n",
    "            \n",
    "            #Append triples for lang, rxcui, tty, name, synonym, suppress\n",
    "            if triples_lang != []:\n",
    "                triples_all.append(triples_lang)\n",
    "            if triples_rxcui != []:\n",
    "                triples_all.append(triples_rxcui)\n",
    "            if triples_tty != []:\n",
    "                triples_all.append(triples_tty)\n",
    "            if triples_name != []:\n",
    "                triples_all.append(triples_name)\n",
    "            if triples_suppress !=[]:\n",
    "                triples_all.append(triples_suppress)\n",
    "        \n",
    "        #Check identifier is RXNORM and is a Synonym/Tall Man Lettering Synonym/Prescribable Name\n",
    "        #This gives us all the required triples for synonym\n",
    "        if row[11] == 'RXNORM' and row[12] in ('SY', 'TMSY', 'PSN'):\n",
    "            #print(\"Subject Triples=\",row[0])\n",
    "            \n",
    "            #Get all triples for synonym\n",
    "            triples_synonym.append(\"\\\"\"+row[0]+\"\\\"\")\n",
    "            triples_synonym.append(\"synonym\")\n",
    "            triples_synonym.append(\"\\\"\"+row[14]+\"\\\"\")\n",
    "\n",
    "            #Append triples for synonym\n",
    "            if triples_synonym !=[]:\n",
    "                triples_all.append(triples_synonym)\n",
    "\n",
    "#print(\"Added Triples from RXNCONSO\")"
   ]
  },
  {
   "cell_type": "code",
   "execution_count": null,
   "metadata": {
    "executionInfo": {
     "elapsed": 250704,
     "status": "ok",
     "timestamp": 1608219131266,
     "user": {
      "displayName": "Vishal Lal",
      "photoUrl": "",
      "userId": "14499003186519065342"
     },
     "user_tz": 480
    },
    "id": "Xjmc_GM7R0tn"
   },
   "outputs": [],
   "source": [
    "#Write the required triples for RXNorm information and Identifiers to rxnorm_triples.tsv file\n",
    "write_tsv('../results/rxnorm/intermediate_triples/rxnorm_triples.tsv', triples_all)"
   ]
  },
  {
   "cell_type": "markdown",
   "metadata": {
    "id": "tJ6t2WGHeMuX"
   },
   "source": [
    "# **1B. Generate Intermediate RXNORM Triples from RXNREL table**\n",
    "RXNREL table provides the following information:<br>\n",
    "*   RXNorm Relation Information: has_tradename, ingredient_of etc.<br>\n",
    "\n",
    "\n",
    "**RXNREL Headers for Reference**:<br>\n",
    "RXCUI1,RXAUI1,STYPE1,REL,RXCUI2,RXAUI2,STYPE2,RELA,RUI,SRUI,SAB,SL,RG,DIR,SUPPRESS,CVF<br>\n",
    "Note: Relationship is what RXCUI2 HAS TO RXCUI1<br>\n",
    "\n",
    "**RXNorm Relationship Information**:<br>\n",
    "Example for Entresto sample record:<br>\n",
    "1656355.0,,CUI,RO,1656341.0,,CUI,ingredient_of,86154613.0,,RXNORM,,,,,4096.0<br>\n",
    "1656346.0,,CUI,RO,1656341.0,,CUI,ingredient_of,86154533.0,,RXNORM,,,,,4096.0<br>\n",
    "1656328.0,,CUI,RN,1656341.0,,CUI,tradename_of,86154502.0,,RXNORM,,,,,4096.0<br>\n",
    "\n",
    "Subject: RXCUI2 (1656341) <br>\n",
    "Predicates & Object: [Read as Predicate: Source Header (Object Value)]<br>\n",
    "*   ingredient_of: RELA (1656355)<br>\n",
    "*   ingredient_of: RELA (1656346)<br>\n",
    "*   tradename_of: RELA (1656328)<br>\n",
    "\n",
    "\n",
    "\n",
    "\n",
    "\n",
    "\n"
   ]
  },
  {
   "cell_type": "code",
   "execution_count": null,
   "metadata": {
    "executionInfo": {
     "elapsed": 259870,
     "status": "ok",
     "timestamp": 1608219140440,
     "user": {
      "displayName": "Vishal Lal",
      "photoUrl": "",
      "userId": "14499003186519065342"
     },
     "user_tz": 480
    },
    "id": "LwLCaJ1PS7JZ"
   },
   "outputs": [],
   "source": [
    "#Create a dictionary to hold all relations for a subject\n",
    "rxcui_rel_dict={}\n",
    "\n",
    "#RXNREL table: Gives us all the related RXNORMs for an RXNORMID\n",
    "with open('../data/rxnorm/rxnrel.csv', encoding=\"utf-8\") as f:\n",
    "    reader = csv.reader(f)\n",
    "    \n",
    "    #Get the list of headers from the file\n",
    "    header_list = next(reader)\n",
    "    #print(\"Header=\", header_list)\n",
    "    \n",
    "    \n",
    "    for row in reader:\n",
    "        triples=[]\n",
    "        \n",
    "        #We only need the relations between the concepts (CUI) and not atoms (AUI)\n",
    "        if row[2]=='AUI':\n",
    "            break\n",
    "        \n",
    "        #For the subject we need to split the RXNORM which is present in this form '1656341.0'\n",
    "        x=row[4].split(\".\",1)[0]\n",
    "    \n",
    "        #We only need the relation between the concepts\n",
    "        if row[2]=='CUI' and row[6]=='CUI':\n",
    "            subject=x\n",
    "            #print(\"Subject Rel=\",x)\n",
    "            # print(row[4], row[7], row[0])\n",
    "            \n",
    "            #Get the triples for RXNORM Relations\n",
    "            triples.append(\"\\\"\"+subject+\"\\\"\")\n",
    "            triples.append(row[7])\n",
    "\n",
    "            #Split the object since object is also of the form '1656341.0'\n",
    "            obj=row[0].split(\".\",1)[0]\n",
    "            triples.append(\"\\\"\"+obj+\"\\\"\")\n",
    "\n",
    "            #Check if the subject is in the Relation dictionary=> Then Add the relation for the subject\n",
    "            if subject not in rxcui_rel_dict:\n",
    "                 rxcui_rel_dict[subject]=[]\n",
    "                 rxcui_rel_dict[subject].append([row[7],obj])\n",
    "            else:\n",
    "                rxcui_rel_dict[subject].append([row[7],obj])\n",
    "           \n",
    "            #Append the triples for RXNORM relations to the list of all triples\n",
    "            triples_all.append(triples)\n",
    "           \n",
    "#print(\"Added Triples from RXNREL\")"
   ]
  },
  {
   "cell_type": "code",
   "execution_count": null,
   "metadata": {
    "executionInfo": {
     "elapsed": 261502,
     "status": "ok",
     "timestamp": 1608219142081,
     "user": {
      "displayName": "Vishal Lal",
      "photoUrl": "",
      "userId": "14499003186519065342"
     },
     "user_tz": 480
    },
    "id": "cBtFFF4gTLMi"
   },
   "outputs": [],
   "source": [
    "#Write the required triples for RXNorm Relations to rxnorm_triples.tsv file\n",
    "write_tsv('../results/rxnorm/intermediate_triples/rxnorm_triples.tsv', triples_all)"
   ]
  },
  {
   "cell_type": "markdown",
   "metadata": {
    "id": "xeYCIDS-hLUW"
   },
   "source": [
    "# **1C. Generate Intermediate RXNORM Triples from RXNSAT table**\n",
    "RXNSAT table provides the following information:<br>\n",
    "*   RXNorm Strength Information: RXN_STRENGTH, RXN_AVAILABLE STRENGTH\n",
    "*   NDC Code Information: NDC11 Code, NDC 2 Segment, NDC 3 Segment, SPL_SET_ID, DrugsFDA Application Number\n",
    "*   UMLS Code Information: UMLSCUI, UMLSAUI\n",
    "\n",
    "**Note: NDC Code Information Identifiers provide the Link to FDA**\n",
    "\n",
    "**RXNSAT Headers for Reference**:<br>\n",
    "RXCUI,LUI,SUI,RXAUI,STYPE,CODE,ATUI,SATUI,ATN,SAB,ATV,SUPPRESS,CVF\n",
    "\n",
    "**RXNorm Strength Information**:<br>\n",
    "Example for Entresto sample record:<br>\n",
    "1656340,,,7249806,AUI,1656340,,,RXN_AVAILABLE_STRENGTH,RXNORM,24 MG / 26 MG,N,4096.0<br>\n",
    "Subject: RXCUI (1656340) <br>\n",
    "Predicates & Object: [Read as Predicate: Source Header (Object Value)]<br>\n",
    "*   RXN_AVAILABLE_STRENGTH: ATV (24 MG / 26 MG)<br>\n",
    "\n",
    "**NDC Code Information**:<br>\n",
    "Example for NDC Code:<br>\n",
    "1305100,,,12332251,AUI,1305100,,,NDC,RXNORM,75142000109,N,4096.0<br>\n",
    "1305100,,,12332251,AUI,1305100,,,NDC,RXNORM,52687000201,N,4096.0<br>\n",
    "1305100,,,12387798,AUI,50563-195,,,NDC,MTHSPL,50563-195-08,N,4096.0\n",
    "1305100,,,12374233,AUI,75556-001,,,NDC,MTHSPL,75556-001-05,N,4096.0\n",
    "\n",
    "Subject: RXCUI (1305100) <br>\n",
    "Predicates & object:<br>\n",
    "*   NDC11: ATV (75142000109)<br>\n",
    "*   NDC11: ATV (52687000201)<br>\n",
    "*   NDC 3 Segment: ATV (50563-195-08)<br>\n",
    "*   NDC 3 Segment: ATV (75556-001-05)<br>\n",
    "*   NDC 2 Segment: ATV (50563-195)<br>\n",
    "*   NDC 2 Segment: ATV (75556-001)<br>\n",
    "\n",
    "Example for SPL_SET_ID Code:<br>\n",
    "1305100,,,12388790,AUI,76861-001,,,SPL_SET_ID,MTHSPL,a4f6c932-fe40-7226-e053-2a95a90a2205,N,4096.0<br>\n",
    "\n",
    "Subject: RXCUI (1305100) <br>\n",
    "Predicates & object:<br>\n",
    "*   SPL_SET_ID: ATV (a4f6c932-fe40-7226-e053-2a95a90a2205)<br>\n",
    "\n",
    "Example for Application Number:<br>\n",
    "995253,,,12387879,AUI,55700-860,,,ANDA,MTHSPL,ANDA040156,N,4096.0<br>\n",
    "\n",
    "Subject: RXCUI (995253) <br>\n",
    "Predicates & object:<br>\n",
    "*   ANDA: ATV (ANDA040156)<br>\n",
    "\n",
    "**UMLS Code Information**:<br>\n",
    "Example for Entresto sample record:<br>\n",
    "2 entries- One for UMLSCUI and other for UMLSAUI:<br>\n",
    "1656341,,,7249807,AUI,1656341,,,UMLSCUI,RXNORM,C4033616,,4096.0\n",
    "1656341,,,7255921,AUI,234762,,,UMLSAUI,RXNORM,A24842892,,\n",
    "\n",
    "Subject: RXCUI (1656341) <br>\n",
    "Predicates & Object:<br>\n",
    "*   UMLSCUI: ATV (C4033616)<br>\n",
    "*   UMLSAUI: ATV (A24842892)<br>\n",
    "\n",
    "\n",
    "\n"
   ]
  },
  {
   "cell_type": "code",
   "execution_count": null,
   "metadata": {
    "executionInfo": {
     "elapsed": 261494,
     "status": "ok",
     "timestamp": 1608219142081,
     "user": {
      "displayName": "Vishal Lal",
      "photoUrl": "",
      "userId": "14499003186519065342"
     },
     "user_tz": 480
    },
    "id": "B6KtpaFfTPKK"
   },
   "outputs": [],
   "source": [
    "#Create dictionaries to hold RXNormIDs for NDC11 Code, NDC 2 Segment, NDC 3 Segment, Application No and Spl Set ID\n",
    "ndc11_dict={}\n",
    "ndc2seg_dict={}\n",
    "ndc3seg_dict={}\n",
    "spl_setid_dict={}\n",
    "application_dict={}"
   ]
  },
  {
   "cell_type": "code",
   "execution_count": null,
   "metadata": {
    "executionInfo": {
     "elapsed": 292513,
     "status": "ok",
     "timestamp": 1608219173108,
     "user": {
      "displayName": "Vishal Lal",
      "photoUrl": "",
      "userId": "14499003186519065342"
     },
     "user_tz": 480
    },
    "id": "vsKQ7qlpTTbK"
   },
   "outputs": [],
   "source": [
    "#RXNSAT: Gives us information about the Source Atoms such as RXNorm Strength Attribtues, NDC Codes and UMLSCUI:\n",
    "with open('../data/rxnorm/rxnsat.csv', encoding=\"utf-8\") as f:\n",
    "    reader = csv.reader(f)\n",
    "    \n",
    "    #Get the list of headers from the file\n",
    "    header_list = next(reader)\n",
    "    #print(\"Header=\", header_list)\n",
    "    \n",
    "    \n",
    "    for row in reader:\n",
    "      \n",
    "        #Check if the identifier source is RXNORM or the related fields are NDC, Application No (NDA/ANDA), Spl Set ID or UMLSCUI\n",
    "        if ((row[9]== 'RXNORM') or row[8] in ('NDC', 'SPL_SET_ID', 'NDA', 'ANDA')):\n",
    "            #print(\"Subject SAT=\",row[0])\n",
    "            \n",
    "            #Count the frequency of '-' for NDC Code\n",
    "            counter = row[10].count('-') \n",
    "            if row[8] =='NDC':\n",
    "                #If counter is 0, then it is NDC11 Code\n",
    "                if counter==0:\n",
    "                    #Construct the dict for NDC11\n",
    "                    ndc11_dict[row[10]]=row[0]\n",
    "\n",
    "                    #Get all triples for NDC11\n",
    "                    triples=[]\n",
    "                    triples.append(\"\\\"\"+row[0]+\"\\\"\")\n",
    "                    triples.append(row[8])\n",
    "                    triples.append(\"\\\"\"+row[10]+\"\\\"\")\n",
    "                    #Append NDC11 triples to all triples\n",
    "                    triples_all.append(triples)\n",
    "                \n",
    "                #If counter is 1, then it is NDC 2 Segment Code  \n",
    "                elif counter==1:\n",
    "                    #Construct the dict for NDC 2 Segment\n",
    "                    ndc2seg_dict[row[10]]=row[0]\n",
    "\n",
    "                    #Get all triples for NDC 2 Segment\n",
    "                    triples=[]\n",
    "                    triples.append(\"\\\"\"+row[0]+\"\\\"\")\n",
    "                    triples.append(\"NDC 2 Segment\")\n",
    "                    triples.append(\"\\\"\"+row[10]+\"\\\"\")\n",
    "                    #Append NDC 2 Segment triples to all triples\n",
    "                    triples_all.append(triples)\n",
    "                \n",
    "                #If counter is 2, then it is NDC 3 Segment Code  \n",
    "                elif counter==2:\n",
    "                    #Construct the dict for NDC 3 Segment\n",
    "                    ndc3seg_dict[row[10]]=row[0]\n",
    "\n",
    "                    #Get all triples for NDC 3 Segment\n",
    "                    triples=[]\n",
    "                    triples.append(\"\\\"\"+row[0]+\"\\\"\")\n",
    "                    triples.append(\"NDC 3 Segment\")\n",
    "                    triples.append(\"\\\"\"+row[10]+\"\\\"\")\n",
    "                    #Append NDC 3 Segment Triples to all triples\n",
    "                    triples_all.append(triples)\n",
    "                    \n",
    "                    #Get the NDC 2 Segment Code from 3 Segment\n",
    "                    ndc2seg='-'.join(row[10].split('-')[0:2])\n",
    "                    ndc2seg_dict[ndc2seg]=row[0]\n",
    "\n",
    "                    #Get all triples for NDC 2 Segment\n",
    "                    triples=[]\n",
    "                    triples.append(\"\\\"\"+row[0]+\"\\\"\")\n",
    "                    triples.append(\"NDC 2 Segment\")\n",
    "                    triples.append(\"\\\"\"+ndc2seg+\"\\\"\")\n",
    "                    #Append NDC 2 Segment Triples to all triples\n",
    "                    triples_all.append(triples)\n",
    "\n",
    "            #Check if predicate is Application Number- NDA/ANDA\n",
    "            elif row[8] in ('NDA', 'ANDA'):\n",
    "                #Construct Dict for Application Number\n",
    "                application_dict[row[10]]=row[0]\n",
    "\n",
    "                #Get all triples for Application Number\n",
    "                triples=[]\n",
    "                triples.append(\"\\\"\"+row[0]+\"\\\"\")\n",
    "                triples.append(\"DrugsFDA Application Number\")\n",
    "                triples.append(\"\\\"\"+row[10]+\"\\\"\")\n",
    "\n",
    "                #Append Application Number Triples to all triples\n",
    "                triples_all.append(triples)\n",
    "            \n",
    "            #Check if predicate is Spl Set ID\n",
    "            elif row[8] in ('SPL_SET_ID'):\n",
    "                #Construct Dict for SPL Set ID\n",
    "                spl_setid_dict[row[10]]=row[0]\n",
    "\n",
    "                #Get all triples for Spl Set ID\n",
    "                triples=[]\n",
    "                triples.append(\"\\\"\"+row[0]+\"\\\"\")\n",
    "                triples.append(row[8])\n",
    "                triples.append(\"\\\"\"+row[10]+\"\\\"\")\n",
    "\n",
    "                #Append Spl Set ID triples to all triples\n",
    "                triples_all.append(triples)\n",
    "            \n",
    "            #Else predicates are RXNorm Strength Related or UMLS Codes\n",
    "            else:\n",
    "                #Get all triples for RXNorm Strength and UMLS Codes\n",
    "                triples=[]\n",
    "                triples.append(\"\\\"\"+row[0]+\"\\\"\")\n",
    "                triples.append(row[8])\n",
    "                triples.append(\"\\\"\"+row[10]+\"\\\"\")\n",
    "\n",
    "                #Append triples to all triples\n",
    "                triples_all.append(triples)\n",
    "#print(\"Added Triples from RXNSAT\")"
   ]
  },
  {
   "cell_type": "code",
   "execution_count": null,
   "metadata": {
    "executionInfo": {
     "elapsed": 297324,
     "status": "ok",
     "timestamp": 1608219177927,
     "user": {
      "displayName": "Vishal Lal",
      "photoUrl": "",
      "userId": "14499003186519065342"
     },
     "user_tz": 480
    },
    "id": "Mto9UMTHThtr"
   },
   "outputs": [],
   "source": [
    "#Write the required triples for RXNorm  Strength and Source Identifiers- NDC, UMLSCUI to rxnorm intermediate folder for rxnorm_triples.tsv file\n",
    "write_tsv('../results/rxnorm/intermediate_triples/rxnorm_triples.tsv', triples_all)"
   ]
  },
  {
   "cell_type": "markdown",
   "metadata": {
    "id": "p-WO7ekinT8r"
   },
   "source": [
    "# **1D. Create List/Dict to hold Known Information**\n",
    "1.   Identifier Source List\n",
    "2.   RXNORM Relationship Types\n",
    "3.   RXNorm Term Type Dictionary\n",
    "4.   Predicates in Wikidata Dictionary\n",
    "\n"
   ]
  },
  {
   "cell_type": "code",
   "execution_count": null,
   "metadata": {
    "executionInfo": {
     "elapsed": 297320,
     "status": "ok",
     "timestamp": 1608219177930,
     "user": {
      "displayName": "Vishal Lal",
      "photoUrl": "",
      "userId": "14499003186519065342"
     },
     "user_tz": 480
    },
    "id": "PmFJqRPdTkpS"
   },
   "outputs": [],
   "source": [
    "#Create a list to hold all known identifiers\n",
    "identifier_source_list=[\n",
    "\"USP\"\n",
    ",\"GS\"\n",
    ",\"SNOMEDCT_US\"\n",
    ",\"VANDF\"\n",
    ",\"MTHSPL\"\n",
    ",\"NDDF\"\n",
    ",\"ATC\"\n",
    ",\"MMSL\"\n",
    ",\"MSH\"\n",
    ",\"DRUGBANK\"\n",
    ",\"MMX\"\n",
    ",\"NDC\"\n",
    ",\"NDC 3 Segment\"\n",
    ",\"NDC 2 Segment\"\n",
    ",\"SPL_SET_ID\"\n",
    ",\"DrugsFDA Application Number\"\n",
    ",\"spl_id\"\n",
    ",\"product_id\"\n",
    ",\"unii\"\n",
    ",\"event_id\"\n",
    ",\"upc\"]"
   ]
  },
  {
   "cell_type": "code",
   "execution_count": null,
   "metadata": {
    "executionInfo": {
     "elapsed": 297313,
     "status": "ok",
     "timestamp": 1608219177931,
     "user": {
      "displayName": "Vishal Lal",
      "photoUrl": "",
      "userId": "14499003186519065342"
     },
     "user_tz": 480
    },
    "id": "DFe-0ECdToEj"
   },
   "outputs": [],
   "source": [
    "#Create a list to hold all known RXNORM relationship types\n",
    "rela_types_list=[\n",
    "'consists_of',\n",
    "'constitutes',\n",
    "'contained_in',\n",
    "'contains',\n",
    "'dose_form_of',\n",
    "'form_of',\n",
    "'has_dose_form',\n",
    "'doseformgroup_of',\n",
    "'has_form',\n",
    "'has_ingredient',\n",
    "'has_ingredients',\n",
    "'has_part',\n",
    "'has_precise_ingredient',\n",
    "'has_quantified_form',\n",
    "'has_tradename',\n",
    "'has_doseformgroup',\n",
    "'ingredient_of',\n",
    "'ingredients_of',\n",
    "'inverse_isa',\n",
    "'isa',\n",
    "'part_of',\n",
    "'precise_ingredient_of',\n",
    "'quantified_form_of',\n",
    "'reformulated_to',\n",
    "'reformulation_of',\n",
    "'tradename_of'\n",
    "]"
   ]
  },
  {
   "cell_type": "code",
   "execution_count": null,
   "metadata": {
    "executionInfo": {
     "elapsed": 297305,
     "status": "ok",
     "timestamp": 1608219177931,
     "user": {
      "displayName": "Vishal Lal",
      "photoUrl": "",
      "userId": "14499003186519065342"
     },
     "user_tz": 480
    },
    "id": "9cxE8tv2TrVn"
   },
   "outputs": [],
   "source": [
    "#Create a dictionary to hold all RXNORM Term Types and their meanings \n",
    "tty_dict={\n",
    "   'BN': 'brand_name'\t    \n",
    "  ,'BPCK': 'branded_pack'\t    \n",
    "  ,'DF': 'dose_form'\t    \n",
    "  ,'DFG': 'dose_form_group'\t\n",
    "  ,'ET': 'dose_form_entry_term'    \n",
    "  ,'GPCK': 'generic_pack'\t    \n",
    "  ,'IN': 'ingredient'\t    \n",
    "  ,'MIN': 'multiple_ingredients'\t    \n",
    "  ,'PIN': 'precise_ingredient'\t    \n",
    "  ,'SBD': 'branded_drug'\n",
    "  ,'SBDC': 'branded_drug_component'\n",
    "  ,'SBDF': 'branded_dose_form'\n",
    "  ,'SBDG': 'branded_dose_form_group'\n",
    "  ,'SCD': 'clinical_drug'\n",
    "  ,'SCDC': 'clinical_drug_component'\n",
    "  ,'SCDF': 'clinical_dose_form'\n",
    "  ,'SCDG': 'clinical_dose_form_group'}"
   ]
  },
  {
   "cell_type": "code",
   "execution_count": null,
   "metadata": {
    "executionInfo": {
     "elapsed": 297297,
     "status": "ok",
     "timestamp": 1608219177931,
     "user": {
      "displayName": "Vishal Lal",
      "photoUrl": "",
      "userId": "14499003186519065342"
     },
     "user_tz": 480
    },
    "id": "HruNd5wLTuKz"
   },
   "outputs": [],
   "source": [
    "#Create a dictionary to hold all predicates and their corresponding Wikidata PNodes\n",
    "pred_wikidata_dict={\n",
    "        'instanceOf':'P31'\n",
    "        ,'rxcui':'P3345'\n",
    "        ,'UMLSCUI':'P2892'\n",
    "        ,'SNOMEDCT_US':'P5806'\n",
    "        ,'MSH':'P486'\n",
    "        ,'DRUGBANK':'P715'\n",
    "        ,'NDC': 'P3640'\n",
    "        ,'ATC': 'P267'\n",
    "        ,'unii':'P652'\n",
    "        ,'manufacturer_name':'P176'\n",
    "        ,'sponsor_name':'P859'\n",
    "        ,'postal_code':'P281'\n",
    "        }"
   ]
  },
  {
   "cell_type": "markdown",
   "metadata": {
    "id": "KlaG-c4Hole5"
   },
   "source": [
    "# **Step 2. Find RXNormID Coverage in WIKIDATA**\n",
    "\n",
    "\n"
   ]
  },
  {
   "cell_type": "markdown",
   "metadata": {
    "id": "fF9wnHbBoxGF"
   },
   "source": [
    "# **2A. Query Wikidata SPARQL Endpoint**\n",
    "\n",
    "Create Functions to:<br>\n",
    "Generate Query for RXNorm Identifier<br>\n",
    "Generate Results from the Query<br>\n",
    "\n",
    "Note: Wikidata SPARQL Endpoint is used to get Full Coverage. To Remove API Dependency, Wikidata Dump must be used <br>\n",
    "\n"
   ]
  },
  {
   "cell_type": "code",
   "execution_count": null,
   "metadata": {
    "executionInfo": {
     "elapsed": 297291,
     "status": "ok",
     "timestamp": 1608219177932,
     "user": {
      "displayName": "Vishal Lal",
      "photoUrl": "",
      "userId": "14499003186519065342"
     },
     "user_tz": 480
    },
    "id": "u9oCv_PqTxlZ"
   },
   "outputs": [],
   "source": [
    "#Create a dictionary to hold the predicates not in Wikidata\n",
    "pred_notinwikidata_dict_rxnorm={}"
   ]
  },
  {
   "cell_type": "code",
   "execution_count": null,
   "metadata": {
    "executionInfo": {
     "elapsed": 297283,
     "status": "ok",
     "timestamp": 1608219177933,
     "user": {
      "displayName": "Vishal Lal",
      "photoUrl": "",
      "userId": "14499003186519065342"
     },
     "user_tz": 480
    },
    "id": "1vNwokAxT0U2"
   },
   "outputs": [],
   "source": [
    "#Create a list to hold output of triples of RXNorm QNodes with predicates in Wikidata\n",
    "output_rows_qnode_pnode_rxnorm=[]\n",
    "#Create a list to hold output of triples of RXNorm QNodes with predicates NOT in Wikidata\n",
    "output_rows_qnode_prxnode_rxnorm=[]\n",
    "\n",
    "#Create a list to hold output of triples of RXNorm QRXNodes with predicates in Wikidata\n",
    "output_rows_qrxnode_pnode_rxnorm=[]\n",
    "#Create a list to hold output of triples of RXNorm QNodes with predicates  NOT in Wikidata\n",
    "output_rows_qrxnode_prxnode_rxnorm=[]\n",
    "\n",
    "#Create a list to hold output of triples of RXNorm PRXNOdes\n",
    "output_rows_prxnode_rxnorm=[]\n",
    "\n",
    "#Create a list to hold output of Edges and DataType triples of RXNorm PRXNOdes\n",
    "output_rows_prxnode_edges_rxnorm=[]\n",
    "output_rows_prxnode_datatype_rxnorm=[]"
   ]
  },
  {
   "cell_type": "code",
   "execution_count": null,
   "metadata": {
    "executionInfo": {
     "elapsed": 297277,
     "status": "ok",
     "timestamp": 1608219177935,
     "user": {
      "displayName": "Vishal Lal",
      "photoUrl": "",
      "userId": "14499003186519065342"
     },
     "user_tz": 480
    },
    "id": "3DGUddrKT3ee"
   },
   "outputs": [],
   "source": [
    "#Function: Generate a SPARQL query given an identifier\n",
    "def get_query(identifier):\n",
    "    query = \"\"\"#All items with a property\n",
    "    # Sample to query all values of a property\n",
    "    # Property talk pages on Wikidata include basic queries adapted to each property\n",
    "    SELECT\n",
    "      ?item ?itemLabel\n",
    "      ?value ?valueLabel\n",
    "    # valueLabel is only useful for properties with item-datatype\n",
    "    WHERE \n",
    "    {\n",
    "      ?item wdt:\"\"\"+pred_wikidata_dict[identifier]+\"\"\" ?value\n",
    "              \n",
    "      SERVICE wikibase:label { bd:serviceParam wikibase:language \"[AUTO_LANGUAGE],en\". }\n",
    "    }\n",
    "    # remove or change limit for more results\n",
    "    \"\"\"\n",
    "    return query"
   ]
  },
  {
   "cell_type": "code",
   "execution_count": null,
   "metadata": {
    "executionInfo": {
     "elapsed": 297268,
     "status": "ok",
     "timestamp": 1608219177935,
     "user": {
      "displayName": "Vishal Lal",
      "photoUrl": "",
      "userId": "14499003186519065342"
     },
     "user_tz": 480
    },
    "id": "xuxksx29T7s5"
   },
   "outputs": [],
   "source": [
    "#Function: Get the results from Wikidata SPARQL endpoint given a query\n",
    "def get_results(endpoint_url, query):\n",
    "    user_agent = \"WDQS-example Python/%s.%s\" % (sys.version_info[0], sys.version_info[1])\n",
    "    # TODO adjust user agent; see https://w.wiki/CX6\n",
    "    sparql = SPARQLWrapper(endpoint_url, agent=user_agent)\n",
    "    sparql.setQuery(query)\n",
    "    sparql.setReturnFormat(JSON)\n",
    "    return sparql.query().convert()"
   ]
  },
  {
   "cell_type": "markdown",
   "metadata": {
    "id": "jLP8UUjHpUqw"
   },
   "source": [
    "# **2B. Create Dictionary for RXNormIDs with Wikidata QNode**\n",
    "1.   Get the results from function created\n",
    "2.   Create Dictionary qnode_dict_inwiki\n",
    "3.   Write the results for P3345 [RXNORMID] to RXNorm QRXNode_PNode file\n",
    "\n",
    "\n"
   ]
  },
  {
   "cell_type": "code",
   "execution_count": null,
   "metadata": {
    "executionInfo": {
     "elapsed": 297262,
     "status": "ok",
     "timestamp": 1608219177936,
     "user": {
      "displayName": "Vishal Lal",
      "photoUrl": "",
      "userId": "14499003186519065342"
     },
     "user_tz": 480
    },
    "id": "IR8OdusvT-fZ"
   },
   "outputs": [],
   "source": [
    "#Create a dict to hold all QNodes in Wikidata which have RXNORMIDs\n",
    "qnode_dict_inwiki={}\n",
    "\n",
    "#Specify the endpoint for the url and the identifier name\n",
    "endpoint_url = \"https://query.wikidata.org/sparql\"\n",
    "identifier=\"rxcui\"\n",
    "\n",
    "#Generate the query\n",
    "query=get_query(identifier)"
   ]
  },
  {
   "cell_type": "code",
   "execution_count": null,
   "metadata": {
    "executionInfo": {
     "elapsed": 299362,
     "status": "ok",
     "timestamp": 1608219180045,
     "user": {
      "displayName": "Vishal Lal",
      "photoUrl": "",
      "userId": "14499003186519065342"
     },
     "user_tz": 480
    },
    "id": "4mIUEJRPUCgq"
   },
   "outputs": [],
   "source": [
    "#Get the results from the Query\n",
    "results = get_results(endpoint_url, query)\n",
    "   \n",
    "#From the results, get the RXNorm IDs as the Key and QNodes as the Value   \n",
    "for result in results[\"results\"][\"bindings\"]:\n",
    "    \n",
    "    if result['item']['type']=='uri':\n",
    "        qnode=result['item']['value']\n",
    "        identifier_value=result['value']['value']\n",
    "        qnode=qnode.split(\"entity/\",1)[1]\n",
    "        if identifier=='rxcui':\n",
    "            qnode_dict_inwiki[identifier_value]=qnode"
   ]
  },
  {
   "cell_type": "code",
   "execution_count": null,
   "metadata": {
    "executionInfo": {
     "elapsed": 299356,
     "status": "ok",
     "timestamp": 1608219180046,
     "user": {
      "displayName": "Vishal Lal",
      "photoUrl": "",
      "userId": "14499003186519065342"
     },
     "user_tz": 480
    },
    "id": "EnPzV9CuUHC_"
   },
   "outputs": [],
   "source": [
    "#Create a list to hold triples for RXNorm Qnodes\n",
    "triples_qnode_all=[]\n",
    "#Create triples for subject QNode, Predicate- P3345 and value as the RXNormID\n",
    "for x in qnode_dict_inwiki:\n",
    "    triples_qnode=[]\n",
    "    triples_qnode.append(qnode_dict_inwiki[x])\n",
    "    triples_qnode.append('P3345')\n",
    "    triples_qnode.append(\"\\\"\"+x+\"\\\"\")\n",
    "    #Append the result to the list of all Qnode triples\n",
    "    triples_qnode_all.append(triples_qnode)"
   ]
  },
  {
   "cell_type": "code",
   "execution_count": null,
   "metadata": {
    "executionInfo": {
     "elapsed": 299926,
     "status": "ok",
     "timestamp": 1608219180625,
     "user": {
      "displayName": "Vishal Lal",
      "photoUrl": "",
      "userId": "14499003186519065342"
     },
     "user_tz": 480
    },
    "id": "QFvZCaYoUKCk"
   },
   "outputs": [],
   "source": [
    "#Write the list of triples for RXNorm QNodes to Qnode Predicates in Wiki file\n",
    "write_tsv(\"../results/rxnorm/kgtk_triples/nodes/qnode_pnode_rxnorm.tsv\", triples_qnode_all)"
   ]
  },
  {
   "cell_type": "markdown",
   "metadata": {
    "id": "vu2UGwi3qWf6"
   },
   "source": [
    "# **Step 3. Find RXNORM NOT in Wikidata coverage using Intermediate Triples**\n",
    "\n",
    "\n",
    "\n"
   ]
  },
  {
   "cell_type": "markdown",
   "metadata": {
    "id": "2dJdQDRJrAwF"
   },
   "source": [
    "# **3A. Create Dictionary for RXNormIDs NOT in Wikidata**\n",
    "1.   Get the RXNORMIDs from Intermediate Triples [using results from Step 1]\n",
    "2.   Create Dictionary qnode_dict_notinwiki by checking if RXNORMID is in Wikidata or not [using results from Step 2]\n",
    "3.   Assign QRXNode to RXNormIDs NOT in Wikidata\n",
    "\n",
    "\n"
   ]
  },
  {
   "cell_type": "code",
   "execution_count": null,
   "metadata": {
    "executionInfo": {
     "elapsed": 309588,
     "status": "ok",
     "timestamp": 1608219190294,
     "user": {
      "displayName": "Vishal Lal",
      "photoUrl": "",
      "userId": "14499003186519065342"
     },
     "user_tz": 480
    },
    "id": "2brO_q_UUMzV"
   },
   "outputs": [],
   "source": [
    "#Load the rxnorm_triples file which contains all RXNorm Information, Identifiers, Relations and Source Identifiers\n",
    "with open('../results/rxnorm/intermediate_triples/rxnorm_triples.tsv', encoding=\"utf-8\") as f:\n",
    "    reader = csv.reader(f, delimiter='\\t')\n",
    "    \n",
    "    #Get the list of all headers in the file\n",
    "    header_list = next(reader)\n",
    "    #print(\"Header=\", header_list)\n",
    "    \n",
    "    #Create a dictionary to hold QRXNodes for the RXNormIDs\n",
    "    qnode_dict_notinwiki={}\n",
    "    #Create label and description as '' (Not needed since we are using QRXNode method)\n",
    "    label=''\n",
    "    desc=''\n",
    "    \n",
    "    #Read every row from the rxnorm_triples file\n",
    "    for row in reader:\n",
    "        output_row=[]\n",
    "        \n",
    "       \n",
    "        #Get the label and description \n",
    "        #Alt-Method: label+description can also work- Not used here\n",
    "        if row[1]=='name':\n",
    "            label=str(row[2])\n",
    "            \n",
    "        if row[1]=='tty':\n",
    "            desc=str(tty_dict[row[2]].replace(\"_\",\" \"))\n",
    "        \n",
    "        #If subject is not in the dictionary and not in Wikidata, then add the QRXNode in the value\n",
    "        if row[0] not in qnode_dict_notinwiki and row[0] not in qnode_dict_inwiki:\n",
    "            qnode_dict_notinwiki[row[0]]='QRX'+str(row[0])\n",
    "\n",
    "            #Alt-Method: label+description can also work- Not used here\n",
    "            #label_desc_dict[row[0]]=label+'-'+desc\n",
    "        \n",
    "#print(qnode_dict_notinwiki)"
   ]
  },
  {
   "cell_type": "markdown",
   "metadata": {
    "id": "ozXiHkUDsGW0"
   },
   "source": [
    "# **3B. Add InstanceOf Predicate for RXNormIDs NOT in Wikidata**\n",
    "1.   Add P31 as 'Pharmaceutical Product' for this QRXNode. \n",
    "2.   Write the results to QRXNode_PNode file\n",
    "\n",
    "\n"
   ]
  },
  {
   "cell_type": "code",
   "execution_count": null,
   "metadata": {
    "executionInfo": {
     "elapsed": 309581,
     "status": "ok",
     "timestamp": 1608219190295,
     "user": {
      "displayName": "Vishal Lal",
      "photoUrl": "",
      "userId": "14499003186519065342"
     },
     "user_tz": 480
    },
    "id": "818jHyb0USon"
   },
   "outputs": [],
   "source": [
    "#Get all the QRXNodes in qnode_dict_notinwiki and add P31 predicate for all\n",
    "#The object is Pharmaceutical Product/ Q28885102 for all\n",
    "for x in qnode_dict_notinwiki.keys():\n",
    "   \n",
    "    output_row=[]  \n",
    "   \n",
    "    #Get all triples for P31\n",
    "    output_row.append(qnode_dict_notinwiki[x])\n",
    "    output_row.append(pred_wikidata_dict['instanceOf'])    \n",
    "    output_row.append(\"Q28885102\")\n",
    "    #print(output_row)\n",
    "\n",
    "    #Append triples to the Output of Predicates in Wikidata\n",
    "    output_rows_qrxnode_pnode_rxnorm.append(output_row)"
   ]
  },
  {
   "cell_type": "code",
   "execution_count": null,
   "metadata": {
    "executionInfo": {
     "elapsed": 311392,
     "status": "ok",
     "timestamp": 1608219192114,
     "user": {
      "displayName": "Vishal Lal",
      "photoUrl": "",
      "userId": "14499003186519065342"
     },
     "user_tz": 480
    },
    "id": "WG5GNvuHUWGd"
   },
   "outputs": [],
   "source": [
    "#Write the output to QRXNode Predicates in Wikidata file\n",
    "write_tsv(\"../results/rxnorm/kgtk_triples/nodes/qrxnode_pnode_rxnorm.tsv\", output_rows_qrxnode_pnode_rxnorm)"
   ]
  },
  {
   "cell_type": "markdown",
   "metadata": {
    "id": "1IHYt17hsYxh"
   },
   "source": [
    "# **Step 4: Generate Intermediate Triples for FDA using NDC Code Identifiers**\n",
    "Uses NDC Code information from RXNORM intermediate Triples generated in Step 1C:\n",
    "1. NDC 2 Segment: Used to link Predicates in Drug-NDC source\n",
    "2. NDC 3 Segment: Used to link Predicates in Drug-NDC and Drug-Enforcement Source\n",
    "3. SPL_SET_ID: Used to link Predicates in Drug-NDC and Drug-Label source\n",
    "4. Application Number: Used to link Predicates in Drug-Drugs@FDA source\n",
    "\n",
    "\n"
   ]
  },
  {
   "cell_type": "markdown",
   "metadata": {
    "id": "Yni7BOVWtagq"
   },
   "source": [
    "# **Step 4A: Generate Intermediate Triples from Drug-NDC Source**\n",
    "1. Load the data present in JSON Format. There is 1 file for this source<br> \n",
    "2. For Drug-NDC, we get information at 3 levels: NDC 2 Segment, NDC 3 Segment and SPL_SET_ID\n",
    "For FDA-NDC, we get predicates for Product NDC Code [NDC 2 segment] E.g. marketing_start_date, product_type, marketing_category etc.<br>\n",
    "For FDA-NDC, we also get predicates for OpenFDA attributes which uses [SPL_SET_ID] E.g. is_original_packager, manufacturer_name, unii etc.<br>\n",
    "For FDA-NDC, we also get predicates for Packaging attributes which uses Package_NDC_Code [NDC 3 Segment] E.g. marketing_start_date, sample, description etc.<br>\n",
    "3. For Active Ingredients, we also get **Qualifiers** for Strength\n",
    "4. Write the results to 3 Intermediate Triple Files:\n",
    "fda_triples_product_ndc, fda_triples_package_ndc and fda_triples_spl_ndc"
   ]
  },
  {
   "cell_type": "code",
   "execution_count": null,
   "metadata": {
    "executionInfo": {
     "elapsed": 323877,
     "status": "ok",
     "timestamp": 1608219204608,
     "user": {
      "displayName": "Vishal Lal",
      "photoUrl": "",
      "userId": "14499003186519065342"
     },
     "user_tz": 480
    },
    "id": "R8NBhVCmUZCE"
   },
   "outputs": [],
   "source": [
    "#Create a dict to hold active ingredient strength as a qualifier\n",
    "active_ingredients_dict={}\n",
    "#FDA DRUG-NDC: Source provides information for 3 different identifiers- Product NDC (2 Segment), Package NDC (3 Segment) AND Spl Set ID\n",
    "with open('../data/fda/drug-ndc-0001-of-0001.json') as ndc_json:\n",
    "    data=json.load(ndc_json)\n",
    "    #Check meta-data\n",
    "    #print(data['meta'])\n",
    "\n",
    "    #Create list to gold triples for Product NDC, Package NDC and Spl Set ID\n",
    "    triples_product_ndc=[]\n",
    "    triples_spl_ndc=[]\n",
    "    triples_package_ndc=[]\n",
    "    for entry in data['results']:\n",
    "        \n",
    "        #Get the Product NDC Code \n",
    "        product_ndc=entry['product_ndc']\n",
    "        #print(product_ndc)\n",
    "        #Get list of all predicates for Drug-NDC Source\n",
    "        klist=entry.keys()\n",
    "\n",
    "        #Check if Product NDC is in NDC 2 Segment Dicitonary\n",
    "        if product_ndc in ndc2seg_dict:\n",
    "        \n",
    "            #Iterate for all predicates\n",
    "            for k in klist:\n",
    "                \n",
    "                \n",
    "                #Check if predicate is NOT Product NDC itself\n",
    "                #Check if predicate is NOT Package NDC related (packaging), Spl_Set_ID related (openfda) \n",
    "                #Check if predicate is NOT List(route/pharm class) or Dict (Active Ingredients)\n",
    "                if k not in ('product_ndc', 'openfda', 'packaging', 'route', 'pharm_class', 'active_ingredients'):\n",
    "                    #Get triples for all other predicates\n",
    "                    triple=[]\n",
    "                    triple.append(product_ndc)\n",
    "                    triple.append(str(k))\n",
    "                    triple.append(str(entry[k]))\n",
    "\n",
    "                    #Append triples to all product_ndc triples\n",
    "                    triples_product_ndc.append(triple)\n",
    "\n",
    "                #Check if predicate is List(route/pharm class)\n",
    "                elif k in ('route', 'pharm_class'):\n",
    "                    for field in entry[k]:\n",
    "                        #Get triples for all entries in list\n",
    "                        triple=[]\n",
    "                        triple.append(product_ndc)\n",
    "                        triple.append(str(k))\n",
    "                        triple.append(str(field))\n",
    "\n",
    "                        #Append triples to all product_ndc triples\n",
    "                        triples_product_ndc.append(triple)\n",
    "                #Check if predicate is active ingredient\n",
    "                elif k in ('active_ingredients'):\n",
    "                    for field in entry[k]:\n",
    "                        #Get the triples for active ingredient name\n",
    "                        \n",
    "                        triple=[]\n",
    "                        triple.append(product_ndc)\n",
    "                        triple.append(str(k))\n",
    "                        triple.append(str(field['name']))\n",
    "\n",
    "                        #Check if strength is present for active ingredient and Construct Dict for Active_ingredients strength qualifiers\n",
    "                        if 'strength' in field:\n",
    "                          active_ingredients_dict_key=ndc2seg_dict[product_ndc]+\"_\"+str(field['name'])\n",
    "                          active_ingredients_dict[active_ingredients_dict_key]=str(field['strength'])\n",
    "\n",
    "                        #Append triples to all product_ndc triples\n",
    "                        triples_product_ndc.append(triple)\n",
    "                    \n",
    "         \n",
    "      \n",
    "        #Check if spl_set_id is in Key list of openfda Predicate of ProductNDC [This contains data at Spl_set_id level]\n",
    "        if 'spl_set_id' in entry['openfda'].keys():\n",
    "            #Get the spl_set_id\n",
    "            spl_set_id=str(entry['openfda']['spl_set_id']).replace(\"['\",\"\").replace(\"']\",\"\")\n",
    "            #print(spl_set_id)\n",
    "            \n",
    "            #Check if spl_set_id is in spl_set_id dictionary:\n",
    "            if spl_set_id in spl_setid_dict:\n",
    "                #Get the keys in openfda predicate\n",
    "                openfda=entry['openfda']\n",
    "                slist=openfda.keys()\n",
    "                \n",
    "                #Check all keys in openfda\n",
    "                for p in slist:\n",
    "                    triple=[]\n",
    "                    \n",
    "                    if p != 'spl_set_id':\n",
    "                        #All the objects are lists in openfda, so iterate over all elements\n",
    "                        for field in openfda[p]:\n",
    "                            #Get all triples for openfda predicates\n",
    "                            triple=[]\n",
    "                            triple.append(str(spl_set_id))\n",
    "                            triple.append(str(p))\n",
    "                            triple.append(str(field))\n",
    "                            #Append triples to list of all Spl_ndc triples\n",
    "                            triples_spl_ndc.append(triple)\n",
    "        \n",
    "        #Check if packaging is present in predicates of Product NDC\n",
    "        if 'packaging' in klist:\n",
    "            for package in entry['packaging']:\n",
    "                #Get the package NDC Code\n",
    "                package_ndc=package['package_ndc']\n",
    "                #print(package_ndc)\n",
    "                \n",
    "                #Check if package_ndc is in NDC 3 Segment dictionary\n",
    "                if package_ndc in ndc3seg_dict:\n",
    "                    #print(package_ndc)\n",
    "                    \n",
    "                    #Get list of all keys for packaging predicate\n",
    "                    plist=package.keys()\n",
    "\n",
    "                    #Iterate over list of all keys\n",
    "                    for p in plist:\n",
    "                        triple=[]\n",
    "                        #Get all predicates for package_ndc related \n",
    "                        if p != 'package_ndc':\n",
    "                            triple.append(str(package_ndc))\n",
    "                            triple.append(str(p))\n",
    "                            triple.append(str(package[p]))\n",
    "                            #Append predicates to list of all package_ndc triples\n",
    "                            triples_package_ndc.append(triple)\n",
    "#print(\"Added triples from FDA NDC\")"
   ]
  },
  {
   "cell_type": "code",
   "execution_count": null,
   "metadata": {
    "executionInfo": {
     "elapsed": 329556,
     "status": "ok",
     "timestamp": 1608219210294,
     "user": {
      "displayName": "Vishal Lal",
      "photoUrl": "",
      "userId": "14499003186519065342"
     },
     "user_tz": 480
    },
    "id": "f211PeCUUlH2"
   },
   "outputs": [],
   "source": [
    "#Write the results to intermediate_triples folder for product_ndc, spl_ndc and package_ndc\n",
    "write_tsv('../results/fda/intermediate_triples/fda_triples_product_ndc.tsv', triples_product_ndc)\n",
    "write_tsv('../results/fda/intermediate_triples/fda_triples_spl_ndc.tsv', triples_spl_ndc)\n",
    "write_tsv('../results/fda/intermediate_triples/fda_triples_package_ndc.tsv', triples_package_ndc)"
   ]
  },
  {
   "cell_type": "markdown",
   "metadata": {
    "id": "HvSA9bXNuqrN"
   },
   "source": [
    "# **Step 4B: Generate Intermediate Triples from Drug-Label Source**\n",
    "1. Load the data present in JSON Format. There are 9 file for this source<br> \n",
    "2. For Drug-Label, we get information at 1 levels: SPL_SET_ID\n",
    "For FDA-Labeling, we get predicates at SPL_SET_ID level E.G package_label_principal_display_panel, pregnancy, pharmacokinetics, drug_interactions etc.<br>\n",
    "4. Write the results to 1 Intermediate Triple Files:\n",
    "fda_triples_spl_label"
   ]
  },
  {
   "cell_type": "code",
   "execution_count": null,
   "metadata": {
    "executionInfo": {
     "elapsed": 343817,
     "status": "ok",
     "timestamp": 1608219224566,
     "user": {
      "displayName": "Vishal Lal",
      "photoUrl": "",
      "userId": "14499003186519065342"
     },
     "user_tz": 480
    },
    "id": "z8VBkX-YUyPv"
   },
   "outputs": [],
   "source": [
    "#Create a list to hold all triples for FDA-Labeling\n",
    "triples=[]\n",
    "#FDA- Drug-Label: This gives data for labeling information at Spl_Set_ID level\n",
    "#Create a counter to read from all 9 files for FDA Labeling\n",
    "for counter in range(1,2):\n",
    "    #print(counter)\n",
    "    filename='../data/fda/drug-label-000'+str(counter)+'-of-0009.json'\n",
    "    #print(filename)\n",
    "    \n",
    "    with open(filename) as ndc_json: \n",
    "        #Load data from json\n",
    "        data=json.load(ndc_json)\n",
    "        #Check meta-data\n",
    "        #print(data['meta'])\n",
    "        \n",
    "        for entry in data['results']:\n",
    "            #Get the Spl_set_id from keys\n",
    "            set_id=entry['set_id']\n",
    "            #print(set_id)\n",
    "            \n",
    "            #Get all key list\n",
    "            klist=entry.keys()\n",
    "            #print(klist)\n",
    "            \n",
    "            #Check if spl_set_id is in spl setid dictionary\n",
    "            if set_id in spl_setid_dict:\n",
    "   \n",
    "                #Iterate all keys in the Labeling keylist:\n",
    "                for k in klist:\n",
    "                    #Check if key is NOT openfda\n",
    "                    if k not in ('openfda'):\n",
    "                        #Check if object type is a list\n",
    "                        if type(entry[k])== list:\n",
    "                            #Iterate over all entries in the list\n",
    "                            for field in entry[k]:\n",
    "                                triple=[]\n",
    "                                #Get all triples for each entry in the list\n",
    "                                triple.append(str(set_id))\n",
    "                                triple.append(str(k))\n",
    "                                triple.append(str(field))\n",
    "                                #Append triples to list of all triples\n",
    "                                triples.append(triple)\n",
    "                        else:\n",
    "                            #Get all triples\n",
    "                            triple=[]\n",
    "                            triple.append(str(set_id))\n",
    "                            triple.append(str(k))\n",
    "                            triple.append(str(entry[k]))\n",
    "                            #Append triples to list of all triples\n",
    "                            triples.append(triple)\n",
    "                    #Check if key is not openfda\n",
    "                    elif k== 'openfda':\n",
    "                        #Get all keys in openfda\n",
    "                        openfda=entry['openfda']\n",
    "                        slist=openfda.keys()\n",
    "                        \n",
    "                        #Iterate over all keys\n",
    "                        for p in slist:\n",
    "                            #Check if type is list\n",
    "                            if type(openfda[p]) == list:\n",
    "                                for field in openfda[p]:\n",
    "                                    #Get triples for all entries in list\n",
    "                                    triple=[]\n",
    "                                    triple.append(str(set_id))\n",
    "                                    triple.append(str(p))\n",
    "                                    triple.append(str(field))\n",
    "                                    #Append to list of all triples\n",
    "                                    triples.append(triple)\n",
    "                            else:\n",
    "                                #Get all non-list triples\n",
    "                                triple=[]\n",
    "                                triple.append(str(set_id))\n",
    "                                triple.append(str(p))\n",
    "                                triple.append(str(openfda[p]))\n",
    "                                #Append to list of all triples\n",
    "                                triples.append(triple)\n",
    "                \n",
    "#print(\"Added triples from FDA labeling\")"
   ]
  },
  {
   "cell_type": "code",
   "execution_count": null,
   "metadata": {
    "executionInfo": {
     "elapsed": 350896,
     "status": "ok",
     "timestamp": 1608219231652,
     "user": {
      "displayName": "Vishal Lal",
      "photoUrl": "",
      "userId": "14499003186519065342"
     },
     "user_tz": 480
    },
    "id": "09WRzsr3VbJT"
   },
   "outputs": [],
   "source": [
    "#Write the results to intermediate_triples folder for spl_labeling\n",
    "write_tsv('../results/fda/intermediate_triples/fda_triples_spl_labeling.tsv', triples)"
   ]
  },
  {
   "cell_type": "markdown",
   "metadata": {
    "id": "FlnzvZcKvLc2"
   },
   "source": [
    "# **Step 4C: Generate Intermediate Triples from Drug-Drugs@FDA Source**\n",
    "1. Load the data present in JSON Format. There is 1 file for this source<br> \n",
    "2. For Drug-Drugs@FDA, we get information at 1 level: Application Number\n",
    "For FDA-Drugs@FDA, we get predicates for Application Number: Openfda related predicates, sponsor_name, products information and submissions information<br>\n",
    "3. For Products Information and Submissions Information, we also get a set of **Related Qualifiers**\n",
    "4. Write the results to 1 Intermediate Triple Files:\n",
    "fda_triples_application_drugsfda"
   ]
  },
  {
   "cell_type": "code",
   "execution_count": null,
   "metadata": {
    "executionInfo": {
     "elapsed": 360253,
     "status": "ok",
     "timestamp": 1608219241018,
     "user": {
      "displayName": "Vishal Lal",
      "photoUrl": "",
      "userId": "14499003186519065342"
     },
     "user_tz": 480
    },
    "id": "2a45JXC6Vdz6"
   },
   "outputs": [],
   "source": [
    "#Create a list to hold triples for FDA- Drugs@FDA\n",
    "triples=[]\n",
    "#Create 2 dictionaries to hold Qualifiers related to Products and Submissions in Drugs@FDA\n",
    "products_dict={}\n",
    "submisions_dict={}\n",
    "\n",
    "#FDA- Drugs-Drugs@FDA: This contains data at Application Number level\n",
    "with open('../data/fda/drug-drugsfda-0001-of-0001.json') as drugsfda_json:\n",
    "    #Load data from json file\n",
    "    data=json.load(drugsfda_json)\n",
    "    \n",
    "    #Get the data from json results\n",
    "    for entry in data['results']:\n",
    "        #Get list of all keys\n",
    "        \n",
    "        klist=entry.keys()\n",
    "        #print(klist)\n",
    "\n",
    "        #Check if application number is in key list\n",
    "        if 'application_number' in klist:\n",
    "            #Get the application number\n",
    "            application_no=entry['application_number']\n",
    "            \n",
    "            #Check if application number is in application dictionary\n",
    "            if application_no in application_dict:\n",
    "                #Iterate over all keys in key list\n",
    "                for k in klist:\n",
    "                    #Check if key is openfda\n",
    "                    if k=='openfda':\n",
    "                        #Get all list of openfda keys\n",
    "                        openfda=entry['openfda']\n",
    "                        slist=openfda.keys()\n",
    "                        \n",
    "                        #Iterate over all keys in openfda\n",
    "                        for p in slist:\n",
    "                            #if object type is list\n",
    "                            if type(openfda[p]) == list:\n",
    "                                #Iterate over all entries in the list\n",
    "                                for field in openfda[p]:\n",
    "                                    #Get all triples for entries in list\n",
    "                                    triple=[]\n",
    "                                    triple.append(str(application_no))\n",
    "                                    triple.append(str(p))\n",
    "                                    triple.append(str(field))\n",
    "                                    #Append triples to list of all triples\n",
    "                                    triples.append(triple)\n",
    "                            else:\n",
    "                                #Get all non-list triples\n",
    "                                triple=[]\n",
    "                                triple.append(str(application_no))\n",
    "                                triple.append(str(p))\n",
    "                                triple.append(str(openfda[p]))\n",
    "                                #Append to list to all triples\n",
    "                                triples.append(triple)\n",
    "                    #Check if key is sponsor name or application number\n",
    "                    elif k  in ('sponsor_name', 'application_number'):\n",
    "                        #Get all triples\n",
    "                        triple=[]\n",
    "                        triple.append(str(application_no))\n",
    "                        triple.append(str(k))\n",
    "                        triple.append(str(entry[k]))\n",
    "                        #Append to list of triples\n",
    "                        triples.append(triple)\n",
    "                    #Check if key is products, get the triple for product number\n",
    "                    elif k in ('products'):\n",
    "                        #Get the object for products\n",
    "                        products=entry[k]\n",
    "                        #Iterate over all keys in product\n",
    "                        for prod in products:\n",
    "                            #Get list of all keys in the keylist of each entry\n",
    "                            slist=prod.keys()\n",
    "                            #Get the product number\n",
    "                            prod_no=prod['product_number']\n",
    "\n",
    "                            #Iterate over each key \n",
    "                            for p in slist:\n",
    "                                \n",
    "                                #Check if obect type is a field\n",
    "                                if type(prod[p]) == list:\n",
    "                                    for field in prod[p]:\n",
    "                                        #Get triples for all entries in list\n",
    "                                        triple=[]\n",
    "                                        triple.append(str(application_no))\n",
    "                                        triple.append(str(p))\n",
    "                                        triple.append(str(field))\n",
    "                                        #triples.append(triple)\n",
    "                                else:\n",
    "                                    #Get triples for all non-list triples\n",
    "                                    triple=[]\n",
    "                                    triple.append(str(application_no))\n",
    "                                    triple.append(str(p))\n",
    "                                    triple.append(str(prod[p]))\n",
    "\n",
    "                                #Append to triples if predicate is product number \n",
    "                                #This triple will be linked to all other qualifier triples\n",
    "                                if p=='product_number':\n",
    "                                    triples.append(triple)\n",
    "                                #Otherwise add the triples as a value in the products dictionary Qualifier\n",
    "                                else:\n",
    "                                    #Generate the product key as concatenation of application no and product number\n",
    "                                    product_dict_key=str(application_dict[application_no])+\"_\"+str(prod_no)\n",
    "                                    #Construct the products dictionary for Qualifiers\n",
    "                                    if product_dict_key not in products_dict:\n",
    "                                         products_dict[product_dict_key]=[]\n",
    "                                         products_dict[product_dict_key].append(triple)\n",
    "                                    else:\n",
    "                                        products_dict[product_dict_key].append(triple)\n",
    "                    \n",
    "                    #Check if key is submissions, get the triple for submission date\n",
    "                    elif k == 'submissions':\n",
    "                        #Get the object for submissions\n",
    "                        submissions=entry[k]\n",
    "                        #Iterate over all keys in submissions\n",
    "                        for sub in submissions:\n",
    "                            #Get list of all keys\n",
    "                            slist=sub.keys()\n",
    "                            #print(slist)\n",
    "\n",
    "                            #Get the submission status date\n",
    "                            sub_date=sub['submission_status_date']\n",
    "\n",
    "                            #Iterate over all keys\n",
    "                            for p in slist:\n",
    "                                #Check if object type is a list\n",
    "                                if type(sub[p]) == list:\n",
    "                                    #Iterate over entries in the list\n",
    "                                    for field in sub[p]:\n",
    "                                        #Get all triples for all entries in list\n",
    "                                        triple=[]\n",
    "                                        triple.append(str(application_no))\n",
    "                                        triple.append(str(p))\n",
    "                                        triple.append(str(field))\n",
    "                                        #triples.append(triple)\n",
    "                                #Else get triples for non-list objects\n",
    "                                else:\n",
    "                                    triple=[]\n",
    "                                    triple.append(str(application_no))\n",
    "                                    triple.append(str(p))\n",
    "                                    triple.append(str(sub[p]))\n",
    "                                \n",
    "                                #if predicate is submission status date, append to list of all triples\n",
    "                                #This triple will be linked to all other qualifier triples \n",
    "                                if p=='submission_status_date':\n",
    "                                    triples.append(triple)\n",
    "                                #Otherwise add the triples as a value in the products dictionary Qualifier\n",
    "                                else:\n",
    "                                    #Generate the submissions key as concatenation of application no and submissions status date\n",
    "                                    submisions_dict_key=str(application_dict[application_no])+\"_\"+str(sub_date)\n",
    "                                    #Construct the submissions dictionary for Qualifiers\n",
    "                                    if submisions_dict_key not in submisions_dict:\n",
    "                                         submisions_dict[submisions_dict_key]=[]\n",
    "                                         submisions_dict[submisions_dict_key].append(triple)\n",
    "                                    else:\n",
    "                                        submisions_dict[submisions_dict_key].append(triple)\n",
    "#print(\"Added triples from FDA DrugsFDA\")"
   ]
  },
  {
   "cell_type": "code",
   "execution_count": null,
   "metadata": {
    "executionInfo": {
     "elapsed": 360739,
     "status": "ok",
     "timestamp": 1608219241511,
     "user": {
      "displayName": "Vishal Lal",
      "photoUrl": "",
      "userId": "14499003186519065342"
     },
     "user_tz": 480
    },
    "id": "2RatLJoFVndI"
   },
   "outputs": [],
   "source": [
    "#Write the results to intermediate_triples folder for application_drugsfda\n",
    "write_tsv('../results/fda/intermediate_triples/fda_triples_application_drugsfda.tsv', triples)   "
   ]
  },
  {
   "cell_type": "markdown",
   "metadata": {
    "id": "9SuJ8RROv-hv"
   },
   "source": [
    "# **Step 4D: Generate Intermediate Triples from Drug-Enforcement Source**\n",
    "1. Load the data present in JSON Format. There is 1 file for this source<br> \n",
    "2. For Drug-Drugs@FDA, we get information at 1 level: Package-NDC Code which is extracted from the Product Description\n",
    "For FDA-Drugs@FDA, we get predicates for Package-NDC: Recall, Location, Reason for Recall, Event_id<br>\n",
    "3. Write the results to 1 Intermediate Triple Files:\n",
    "fda_triples_package_enforcement"
   ]
  },
  {
   "cell_type": "code",
   "execution_count": null,
   "metadata": {
    "executionInfo": {
     "elapsed": 361957,
     "status": "ok",
     "timestamp": 1608219242738,
     "user": {
      "displayName": "Vishal Lal",
      "photoUrl": "",
      "userId": "14499003186519065342"
     },
     "user_tz": 480
    },
    "id": "3bE1gPFQVq58"
   },
   "outputs": [],
   "source": [
    "#FDA- Drug-Enforcement: Contains drug recall info, Need to extract Package Ndc Code from Product Description\n",
    "with open('../data/fda/drug-enforcement-0001-of-0001.json') as ndc_json:\n",
    "    #Load data from json\n",
    "    data=json.load(ndc_json)\n",
    "    #Check meta-data\n",
    "    #print(data['meta'])\n",
    "\n",
    "    #Create list to hold all Enforcement triples\n",
    "    triples=[]\n",
    "    for entry in data['results']:\n",
    "        #Check if NDC is in product description\n",
    "        if \"NDC\" in entry['product_description']:\n",
    "\n",
    "            #Get the Package NDC Code using regex function\n",
    "            code = re.search(r'(\\d+-?){1,3}$', entry['product_description'])\n",
    "            \n",
    "            #If we get a code\n",
    "            if code != None:\n",
    "                \n",
    "            \n",
    "                #print(code.group())\n",
    "                #print(product_ndc)\n",
    "\n",
    "                #Get the subject\n",
    "                subj=code.group()\n",
    "                #If the Package NDC code actually exists and present in NDC 3 Segment Dictionary\n",
    "                if (len(str(code.group()))>10) and subj in ndc3seg_dict:\n",
    "                    \n",
    "                    #Get all key list\n",
    "                    klist=entry.keys()\n",
    "                    #print(klist)\n",
    "                    \n",
    "                    for k in klist:\n",
    "                        #Get triples for Enforcement predicates\n",
    "                        triple=[]\n",
    "                        \n",
    "                        triple.append(subj)\n",
    "                        triple.append(str(k))\n",
    "                        triple.append(str(entry[k]))\n",
    "\n",
    "                        #Add to list of all triples\n",
    "                        triples.append(triple)\n",
    "#print(\"Added triples from FDA Enforcement\")"
   ]
  },
  {
   "cell_type": "code",
   "execution_count": null,
   "metadata": {
    "executionInfo": {
     "elapsed": 362743,
     "status": "ok",
     "timestamp": 1608219243531,
     "user": {
      "displayName": "Vishal Lal",
      "photoUrl": "",
      "userId": "14499003186519065342"
     },
     "user_tz": 480
    },
    "id": "GYLeRAadV0MF"
   },
   "outputs": [],
   "source": [
    "#Write the results to intermediate_triples folder for package-enforcement\n",
    "write_tsv('../results/fda/intermediate_triples/fda_triples_package_enforcement.tsv', triples)"
   ]
  },
  {
   "cell_type": "markdown",
   "metadata": {
    "id": "zPfcAj9BxnXD"
   },
   "source": [
    "# **Step 5: Generate KGTK Triples for RXNORM using RXNORM-Intermediate Triples**\n",
    "Uses the RXNORM Intermediate Triples File generated in Step 1<br>\n",
    "Uses the 2 dictionaries created in Step 2 and Step 3:<br>\n",
    "qnode_dict_inwiki: RXNormIDs with QNODE in Wikidata<br>\n",
    "qnode_dict_notinwiki: RXNormIDs with QRXNODE NOT in Wikidata<br>\n",
    "\n"
   ]
  },
  {
   "cell_type": "markdown",
   "metadata": {
    "id": "hBkaQtwjyx-B"
   },
   "source": [
    "# **Step 5A: Generate KGTK Triples for RXNORM NODE Edge Files**\n",
    "1. Get the data in required KGTK Format\n",
    "2. Dump the Output in 4 files [Naming convention is as follows]:\n",
    "*   Subject in Wikidata, Predicate in Wikidata: QNODE_PNODE_RXNORM\n",
    "*   Subject in Wikidata, Predicate NOT in Wikidata: QNODE_PRXNODE_RXNORM\n",
    "*   Subject NOT in Wikidata, Predicate in Wikidata: QRXNODE_PNODE_RXNORM\n",
    "*   Subject NOT in Wikidata, Predicate NOT in Wikidata: QRXNODE_PRXNODE_RXNORM\n",
    "3. Create the Predicates NOT in Wikidata dictionary\n",
    "4. Write the results to these 4 KGTK Triples Files\n",
    "\n",
    "\n",
    "\n",
    "\n"
   ]
  },
  {
   "cell_type": "code",
   "execution_count": null,
   "metadata": {
    "executionInfo": {
     "elapsed": 415645,
     "status": "ok",
     "timestamp": 1608219296441,
     "user": {
      "displayName": "Vishal Lal",
      "photoUrl": "",
      "userId": "14499003186519065342"
     },
     "user_tz": 480
    },
    "id": "2Ojt5cU4WBgf"
   },
   "outputs": [],
   "source": [
    "#Load the rxnorm_triples file which contains all RXNorm Information, Identifiers, Relations and Source Identifiers\n",
    "with open('../results/rxnorm/intermediate_triples/rxnorm_triples.tsv', encoding=\"utf-8\") as f:\n",
    "    reader = csv.reader(f, delimiter='\\t')\n",
    "    \n",
    "    #Get all the headers from the file\n",
    "    header_list = next(reader)\n",
    "    #print(\"Header=\", header_list)\n",
    "    \n",
    "    #umlscui_dict={}\n",
    "    \n",
    "    #Check every row for QRXNode triples\n",
    "    for row in reader:\n",
    "        output_row=[]\n",
    "    \n",
    "        #Get the object\n",
    "        obj=str(row[2])\n",
    "        #Get the predicate\n",
    "        pred=str(row[1])\n",
    "        \n",
    "        #If predicate is name, change it to label\n",
    "        if pred==\"name\":\n",
    "            pred=\"label\"\n",
    "        #If predicate is tty, change it to description, remove the underscore(_) from the object\n",
    "        elif pred==\"tty\":\n",
    "            pred=\"description\"\n",
    "            obj=tty_dict[obj].replace(\"_\",\" \")\n",
    "        #If predicate is synonym, change it to alias\n",
    "        elif pred==\"synonym\":\n",
    "            pred=\"alias\"\n",
    "        #If predicate is present in Term Type dictionary, change it to meaniningful context using the dictionary\n",
    "        elif pred in tty_dict.keys():\n",
    "            pred=tty_dict[pred]\n",
    "            #Check if object has QRXNode then make object as QRXNode\n",
    "            if obj in qnode_dict_notinwiki.keys():\n",
    "                obj=qnode_dict_notinwiki[obj]\n",
    "            #Check if object has QNode then make object as QNode\n",
    "            elif obj in qnode_dict_inwiki.keys():\n",
    "                obj=qnode_dict_inwiki[obj]\n",
    "            #Else just a check but this is not possible\n",
    "            else:\n",
    "                print(\"Not in Both!\")\n",
    "        #If predicate is present in RXNorm Relations list\n",
    "        elif pred in rela_types_list:\n",
    "             #Check if object has QRXNode then make object as QRXNode\n",
    "             if obj in qnode_dict_notinwiki.keys():\n",
    "                obj=qnode_dict_notinwiki[obj]\n",
    "             #Check if object has QNode then make object as QNode\n",
    "             elif obj in qnode_dict_inwiki.keys():\n",
    "                obj=qnode_dict_inwiki[obj]\n",
    "             #Else just a check but this is not possible\n",
    "             else:\n",
    "                obj=\"QRX\"+obj #temp\n",
    "                \n",
    "        #If predicate is label, description, alias or suppress, use escape sequence for Quotes inside (')\n",
    "        if \"'\" in obj:\n",
    "            obj=obj.replace(\"\\'\",\"\\\\'\")\n",
    "        \n",
    "        \n",
    "        if pred in (\"alias\", \"label\", \"description\", \"suppress\"):\n",
    "            if \"'\" in obj:\n",
    "                obj=obj.replace(\"\\'\",\"\")\n",
    "            #Change the object to have Quotes followed by @ and then the language en as default since all are english\n",
    "            if obj != '':\n",
    "                obj=\"\\'\"+obj+\"\\'\"+\"@en\"   #This is hardcoded for now\n",
    "        #If predicate is RXCUI or UMLSCUI or in any of the identifiers then change the object to have quotes\n",
    "        if pred in ( \"rxcui\", \"UMLSCUI\", \"UMLSAUI\") or pred in identifier_source_list or pred == 'NDC' or \"RX\" in pred or \"ORIG_\" in pred:\n",
    "            obj=\"\\\"\"+obj+\"\\\"\"\n",
    "        #If predicate is language, change the object to en as default since all are english\n",
    "        elif pred ==\"language\":\n",
    "            obj=\"en\"\n",
    "        \n",
    "        \n",
    "        \n",
    "        #Check if predicate is an RXNorm information such as label, alias, description \n",
    "        #Check if predicate is an identifier- SNOMED, MSH, DRUGBANK, NDC which has Wikidata PNodes\n",
    "        #Check if object is not empty\n",
    "        if pred in (\"alias\",\"label\",\"description\", \"rxcui\", \"UMLSCUI\", \"SNOMEDCT_US\", \"MSH\", \"DRUGBANK\", \"NDC\", \"ATC\") and str(obj) != '':\n",
    "            #Check if the predicate is an identifier, then change the predicate to the corresponding PNodes\n",
    "            if pred in (\"rxcui\", \"UMLSCUI\",\"SNOMEDCT_US\", \"MSH\", \"DRUGBANK\", \"NDC\", \"ATC\"):\n",
    "                pred=pred_wikidata_dict[pred]\n",
    "            #If the subject is Not In Wikidata (has a QRXNode), then append the triples for that QRXNode\n",
    "            if row[0] in qnode_dict_notinwiki:\n",
    "                output_row.append(str(qnode_dict_notinwiki[row[0]]))\n",
    "                output_row.append(str(pred))\n",
    "                output_row.append(str(obj))\n",
    "\n",
    "                #Append the triples to the QRXNode Predicates in Wikidata file\n",
    "                output_rows_qrxnode_pnode_rxnorm.append(output_row)\n",
    "            \n",
    "            #Else If the subject is In Wikidata (has a QNode), then append the triples for that QNode\n",
    "            else:\n",
    "                output_row.append(str(qnode_dict_inwiki[row[0]]))\n",
    "                output_row.append(str(pred))\n",
    "                output_row.append(str(obj))\n",
    "\n",
    "                #Append the triples to the QNode Predicates in Wikidata file\n",
    "                output_rows_qnode_pnode_rxnorm.append(output_row)\n",
    "        else:\n",
    "            #Check if the predicate is not language and object is not empty\n",
    "            if pred not in(\"language\") and str(obj) != '':\n",
    "                #Add key, values pair to the predicates NOT in Wikidata dictionary\n",
    "                \n",
    "                #Check if predicate is in Term Type Dictionary Values, then append PRX_TTY_\n",
    "                if pred in tty_dict.values():\n",
    "                    pred_notinwikidata_dict_rxnorm[pred]=\"PRX_TTY_\"+pred\n",
    "                #Check if predicate is in Identifier Values, then append PRX_ID_\n",
    "                elif pred in identifier_source_list:\n",
    "                    pred_notinwikidata_dict_rxnorm[pred]=\"PRX_ID_\"+pred\n",
    "                #Check if predicate is in RXnorm Relations Values, then append PRX_REL_\n",
    "                elif pred in rela_types_list:\n",
    "                    pred_notinwikidata_dict_rxnorm[pred]=\"PRX_REL_\"+pred\n",
    "                #Else just append PRX_ to denote it is not in Wikidata\n",
    "                else:\n",
    "                     pred_notinwikidata_dict_rxnorm[pred]=\"PRX_\"+pred\n",
    "                pred=pred_notinwikidata_dict_rxnorm[pred]\n",
    "                \n",
    "                #If the subject is Not In Wikidata (has a QRXNode), then append the triples for that QRXNode\n",
    "                if row[0] in qnode_dict_notinwiki:\n",
    "                    output_row.append(str(qnode_dict_notinwiki[row[0]]))\n",
    "                    \n",
    "                    output_row.append(str(pred))\n",
    "                    output_row.append(str(obj))\n",
    "                    output_rows_qrxnode_prxnode_rxnorm.append(output_row)\n",
    "                #Else If the subject is In Wikidata (has a QNode), then append the triples for that QNode\n",
    "                else:\n",
    "                    output_row.append(str(qnode_dict_inwiki[row[0]]))\n",
    "                    output_row.append(str(pred))\n",
    "                    output_row.append(str(obj))\n",
    "                \n",
    "                    output_rows_qnode_prxnode_rxnorm.append(output_row)\n",
    "\n",
    "#print(output_rows_qrxnode_pnode_rxnorm)"
   ]
  },
  {
   "cell_type": "code",
   "execution_count": null,
   "metadata": {
    "executionInfo": {
     "elapsed": 427713,
     "status": "ok",
     "timestamp": 1608219308517,
     "user": {
      "displayName": "Vishal Lal",
      "photoUrl": "",
      "userId": "14499003186519065342"
     },
     "user_tz": 480
    },
    "id": "zTDOAk7PWHgf"
   },
   "outputs": [],
   "source": [
    "#Write the results to the QRXNode Predicate in Wikidata RXNORM file and QRXNode Predicate NOT in Wikidata RXNORM file\n",
    "write_tsv(\"../results/rxnorm/kgtk_triples/nodes/qrxnode_pnode_rxnorm.tsv\", output_rows_qrxnode_pnode_rxnorm)\n",
    "write_tsv(\"../results/rxnorm/kgtk_triples/nodes/qrxnode_prxnode_rxnorm.tsv\", output_rows_qrxnode_prxnode_rxnorm)\n",
    "\n",
    "#Write the results to the QNode Predicate in Wikidata RXNORM file and QNode Predicate NOT in Wikidata RXNORM file\n",
    "write_tsv(\"../results/rxnorm/kgtk_triples/nodes/qnode_pnode_rxnorm.tsv\", output_rows_qnode_pnode_rxnorm)\n",
    "write_tsv(\"../results/rxnorm/kgtk_triples/nodes/qnode_prxnode_rxnorm.tsv\", output_rows_qnode_prxnode_rxnorm)"
   ]
  },
  {
   "cell_type": "markdown",
   "metadata": {
    "id": "1BSRKoxCz8tT"
   },
   "source": [
    "# **Step 5B: Generate KGTK Triples for RXNORM PROPERTIES Edge & DataType Files**\n",
    "1. Segregate and Get the data in required KGTK Format for Edges and DataType using the Predicates NOT in Wikidata dictionary\n",
    "2. Dump the Output in 3 files [Naming convention is as follows]:\n",
    "*   Predicates NOT in Wikidata: PRXNODE_RXNORM [For Reference Only]\n",
    "*   Predicates NOT in Wikidata Edges: PRXNODE_Edges_RXNORM\n",
    "*   Predicates NOT in Wikidata DataType: PRXNODE_DataType_RXNORM\n",
    "3. Write the results to these 3 KGTK Triples Files\n",
    "\n",
    "\n",
    "\n",
    "\n"
   ]
  },
  {
   "cell_type": "code",
   "execution_count": null,
   "metadata": {
    "executionInfo": {
     "elapsed": 427706,
     "status": "ok",
     "timestamp": 1608219308518,
     "user": {
      "displayName": "Vishal Lal",
      "photoUrl": "",
      "userId": "14499003186519065342"
     },
     "user_tz": 480
    },
    "id": "TEeqOCTMWLVL"
   },
   "outputs": [],
   "source": [
    "#Get all the keys from the Predicate NOT in Wikidata Dictionary\n",
    "for x in pred_notinwikidata_dict_rxnorm.keys():\n",
    "    \n",
    "    #print(x)\n",
    "    \n",
    "    output_row=[]\n",
    "    pred_value=pred_notinwikidata_dict_rxnorm[x]\n",
    "\n",
    "    #Get the triple for label\n",
    "    output_row.append(pred_value)\n",
    "    output_row.append(\"label\")\n",
    "    output_row.append(\"\\'\"+x+\"\\'\"+\"@en\")\n",
    "\n",
    "    #Append the label triple to both PRXNode file and PRXNode Edges file\n",
    "    output_rows_prxnode_rxnorm.append(output_row)\n",
    "    output_rows_prxnode_edges_rxnorm.append(output_row)\n",
    "    \n",
    "    output_row=[]\n",
    "    #Get the triple for description- For now desciption and label are same\n",
    "    output_row.append(pred_value)\n",
    "    output_row.append(\"description\")\n",
    "    output_row.append(\"\\'\"+x+\"\\'\"+\"@en\")\n",
    "\n",
    "    #Append the description triple to both PRXNode file and PRXNode Edges file\n",
    "    output_rows_prxnode_rxnorm.append(output_row)\n",
    "    output_rows_prxnode_edges_rxnorm.append(output_row)\n",
    "    \n",
    "    output_row=[]\n",
    "    #Get the triple for Data Type\n",
    "    output_row.append(pred_value)\n",
    "    output_row.append(\"data_type\")\n",
    "\n",
    "    #Check if predicate is Relation or Term Type, then data type is an item\n",
    "    if (\"PRX_REL_\" in pred_value or \"PRX_TTY_\" in pred_value):\n",
    "        output_row.append(\"\\\"\"+\"item\"+\"\\\"\")\n",
    "    #Check if predicate is Identifier, then data type is an external-identifier\n",
    "    elif (\"PRX_ID_\" in pred_value):\n",
    "        output_row.append(\"\\\"\"+\"external-identifier\"+\"\\\"\")\n",
    "    #Else predicate is simply a string\n",
    "    elif (\"PRX_\" in pred_value):\n",
    "        output_row.append(\"\\\"\"+\"string\"+\"\\\"\")\n",
    "        \n",
    "    #Append the data-type triple to both PRXNode file and PRXNode DataType file\n",
    "    output_rows_prxnode_rxnorm.append(output_row)\n",
    "    output_rows_prxnode_datatype_rxnorm.append(output_row)"
   ]
  },
  {
   "cell_type": "code",
   "execution_count": null,
   "metadata": {
    "executionInfo": {
     "elapsed": 428970,
     "status": "ok",
     "timestamp": 1608219309790,
     "user": {
      "displayName": "Vishal Lal",
      "photoUrl": "",
      "userId": "14499003186519065342"
     },
     "user_tz": 480
    },
    "id": "VlIwWAcuWQCR"
   },
   "outputs": [],
   "source": [
    "#Write the results to PRXNode RXNORM file\n",
    "write_tsv(\"../results/rxnorm/kgtk_triples/properties/prxnode_rxnorm.tsv\", output_rows_prxnode_rxnorm)\n",
    "\n",
    "#Write the results to PRXNode Edges RXNORM file\n",
    "write_tsv(\"../results/rxnorm/kgtk_triples/properties/prxnode_edges_rxnorm.tsv\", output_rows_prxnode_edges_rxnorm)\n",
    "\n",
    "#Write the results to PRXNode Data-Type RXNORM file\n",
    "write_tsv(\"../results/rxnorm/kgtk_triples/properties/prxnode_datatype_rxnorm.tsv\", output_rows_prxnode_datatype_rxnorm)"
   ]
  },
  {
   "cell_type": "markdown",
   "metadata": {
    "id": "O3k4mhqS08VZ"
   },
   "source": [
    "# **Step 6: Generate KGTK Triples for FDA using FDA-Intermediate Triples**\n",
    "Uses the FDA Intermediate Triple files generated in Step 4\n",
    "Uses the 2 dictionaries created in Step 2 and Step 3:<br>\n",
    "qnode_dict_inwiki: RXNormIDs with QNODE in Wikidata<br>\n",
    "qnode_dict_notinwiki: RXNormIDs with QRXNODE NOT in Wikidata<br>\n",
    "\n"
   ]
  },
  {
   "cell_type": "code",
   "execution_count": null,
   "metadata": {
    "executionInfo": {
     "elapsed": 428961,
     "status": "ok",
     "timestamp": 1608219309790,
     "user": {
      "displayName": "Vishal Lal",
      "photoUrl": "",
      "userId": "14499003186519065342"
     },
     "user_tz": 480
    },
    "id": "r0H1ko-VWTgv"
   },
   "outputs": [],
   "source": [
    "#Create a list to hold output of triples of FDA QNodes with predicates in Wikidata\n",
    "output_rows_qnode_pnode_fda=[]\n",
    "#Create a list to hold output of triples of FDA QNodes with predicates NOT in Wikidata\n",
    "output_rows_qnode_prxnode_fda=[]\n",
    "\n",
    "#Create a list to hold output of triples of FDA QRXNodes with predicates in Wikidata\n",
    "output_rows_qrxnode_pnode_fda=[]\n",
    "#Create a list to hold output of triples of FDA QRXNodes with predicates NOT in Wikidata\n",
    "output_rows_qrxnode_prxnode_fda=[]\n",
    "\n",
    "#Create a list to hold output of triples of FDA PRXNodes \n",
    "output_rows_prxnode_fda=[]\n",
    "output_rows_prxnode_edges_fda=[]\n",
    "output_rows_prxnode_datatype_fda=[]"
   ]
  },
  {
   "cell_type": "code",
   "execution_count": null,
   "metadata": {
    "executionInfo": {
     "elapsed": 428952,
     "status": "ok",
     "timestamp": 1608219309791,
     "user": {
      "displayName": "Vishal Lal",
      "photoUrl": "",
      "userId": "14499003186519065342"
     },
     "user_tz": 480
    },
    "id": "fzyxOMwcWWi2"
   },
   "outputs": [],
   "source": [
    "#Create a dictionary for FDA Predicates NOT in Wikidata\n",
    "pred_notinwikidata_dict_fda={}"
   ]
  },
  {
   "cell_type": "markdown",
   "metadata": {
    "id": "o2JfeWjL2YVF"
   },
   "source": [
    "# **Step 6A: Generate KGTK Triples for FDA NODES Edge File- from PRODUCT-NDC Intermediate File**\n",
    "1. Uses the fda_product_ndc Intermediate Triple files generated in Step 4\n",
    "2. Get the data in required KGTK Format\n",
    "3. Handle the 4 cases to Dump the Output in 4 files [Naming convention is as follows]:\n",
    "*   Subject in Wikidata, Predicate in Wikidata: QNODE_PNODE_FDA\n",
    "*   Subject in Wikidata, Predicate NOT in Wikidata: QNODE_PRXNODE_FDA\n",
    "*   Subject NOT in Wikidata, Predicate in Wikidata: QRXNODE_PNODE_FDA\n",
    "*   Subject NOT in Wikidata, Predicate NOT in Wikidata: QRXNODE_PRXNODE_FDA\n",
    "4. Create the Predicates NOT in Wikidata dictionary\n",
    "5. Write the results to these 4 KGTK Triples Files\n",
    "\n"
   ]
  },
  {
   "cell_type": "code",
   "execution_count": null,
   "metadata": {
    "executionInfo": {
     "elapsed": 436683,
     "status": "ok",
     "timestamp": 1608219317531,
     "user": {
      "displayName": "Vishal Lal",
      "photoUrl": "",
      "userId": "14499003186519065342"
     },
     "user_tz": 480
    },
    "id": "wKSh54KzWY0r"
   },
   "outputs": [],
   "source": [
    "#Load the intermediate triples file for product_ndc\n",
    "with open('../results/fda/intermediate_triples/fda_triples_product_ndc.tsv', encoding=\"utf-8\") as f:\n",
    "    reader = csv.reader(f, delimiter='\\t')\n",
    "    \n",
    "    #Get all headers\n",
    "    header_list = next(reader)\n",
    "    #print(\"Header=\", header_list)\n",
    "    \n",
    "    #umlscui_dict={}\n",
    "    \n",
    "   \n",
    "    for row in reader:\n",
    "        output_row=[]\n",
    "        \n",
    "        #Get the object\n",
    "        obj=str(row[2])\n",
    "        if \"'\" in obj:\n",
    "            obj=obj.replace(\"\\'\",\"\\\\'\")\n",
    "\n",
    "        #print(obj[:1])\n",
    "        #Get the predicate\n",
    "        pred=str(row[1])\n",
    "        if pred== \"package_ndc\":\n",
    "            pred=\"NDC 3 Segment\"\n",
    "        elif pred== \"spl_set_id\":\n",
    "            pred=\"SPL_SET_ID\"\n",
    "        elif pred==\"rxcui\":\n",
    "            pred=\"Related RXNorm\"\n",
    "        \n",
    "        #Get the subject from ndc2Seg dictionary\n",
    "        subj=ndc2seg_dict[str(row[0])]\n",
    "        \n",
    "        #Conver dates to kgtk format\n",
    "        if \"date\" in pred and pred != \"voluntary_mandated\":\n",
    "            obj=\"^\"+'-'.join([obj[:4], obj[4:6], obj[6:]])\n",
    "        #Check if predicates are identifers\n",
    "        elif pred in (\"NDC 3 Segment\", \"SPL_SET_ID\", \"spl_id\", \"product_id\"):\n",
    "            obj=\"\\\"\"+obj+\"\\\"\"\n",
    "        #Else check for finished predicate as its boolean\n",
    "        elif pred not in (\"finished\"):\n",
    "            obj=\"\\'\"+obj+\"\\'\"+\"@en\" \n",
    "        \n",
    "        #Case 1: Subject NOT in Wikidata, Predicate in Wikidata- Get triples\n",
    "        if subj in qnode_dict_notinwiki and pred in pred_wikidata_dict:\n",
    "            subj=qnode_dict_notinwiki[subj]\n",
    "            output_row.append(str(subj))\n",
    "            output_row.append(str(pred_wikidata_dict[pred]))\n",
    "            output_row.append(str(obj))\n",
    "\n",
    "            #Append to list of all QRXNode-PNode triples\n",
    "            output_rows_qrxnode_pnode_fda.append(output_row)\n",
    "        \n",
    "        #Case 2: Subject NOT in Wikidata, Predicate NOT in Wikidata- Get triples\n",
    "        elif subj in qnode_dict_notinwiki and pred not in pred_wikidata_dict:\n",
    "            subj=qnode_dict_notinwiki[subj]\n",
    "            output_row.append(str(subj))\n",
    "\n",
    "            #Check if predicate is identifier or not\n",
    "            if pred in identifier_source_list:\n",
    "                pred_notinwikidata_dict_fda[pred]=\"PRX_ID_\"+pred\n",
    "            else:\n",
    "                pred_notinwikidata_dict_fda[pred]=\"PRX_FDA_\"+pred\n",
    "            pred=pred_notinwikidata_dict_fda[pred]\n",
    "            output_row.append(str(pred))\n",
    "            output_row.append(str(obj))\n",
    "\n",
    "            #Append to list of all QRXNode-PRXNode triples\n",
    "            output_rows_qrxnode_prxnode_fda.append(output_row)\n",
    "        \n",
    "        #Case 3: Subject in Wikidata, Predicate in Wikidata- Get triples\n",
    "        elif subj not in qnode_dict_notinwiki and pred in pred_wikidata_dict:\n",
    "            subj=qnode_dict_inwiki[subj]\n",
    "            output_row.append(str(subj))\n",
    "            output_row.append(str(pred_wikidata_dict[pred]))\n",
    "            output_row.append(str(obj))\n",
    "\n",
    "            #Append to list of all QNode-PNode triples\n",
    "            output_rows_qnode_pnode_fda.append(output_row)\n",
    "        \n",
    "        #Case 4: Subject in Wikidata, Predicate NOT in Wikidata- Get triples\n",
    "        elif subj not in qnode_dict_notinwiki and pred not in pred_wikidata_dict:\n",
    "            subj=qnode_dict_inwiki[subj]\n",
    "            output_row.append(str(subj))\n",
    "\n",
    "            #Check if predicate is identifier or not\n",
    "            if pred in identifier_source_list:\n",
    "                pred_notinwikidata_dict_fda[pred]=\"PRX_ID_\"+pred\n",
    "            else:\n",
    "                pred_notinwikidata_dict_fda[pred]=\"PRX_FDA_\"+pred\n",
    "            pred=pred_notinwikidata_dict_fda[pred]\n",
    "            output_row.append(str(pred))\n",
    "            output_row.append(str(obj))\n",
    "\n",
    "            #Append to list of all QNode-PRXNode triples\n",
    "            output_rows_qnode_prxnode_fda.append(output_row)"
   ]
  },
  {
   "cell_type": "markdown",
   "metadata": {
    "id": "WlCjEdn03Ksc"
   },
   "source": [
    "# **Step 6B: Generate KGTK Triples for FDA NODES Edge File- from PACKAGE-NDC Intermediate File**\n",
    "1. Uses the fda_package_ndc Intermediate Triple files generated in Step 4\n",
    "2. Get the data in required KGTK Format\n",
    "3. Handle the 4 cases to Dump the Output in 4 files [Naming convention is as follows]:\n",
    "*   Subject in Wikidata, Predicate in Wikidata: QNODE_PNODE_FDA\n",
    "*   Subject in Wikidata, Predicate NOT in Wikidata: QNODE_PRXNODE_FDA\n",
    "*   Subject NOT in Wikidata, Predicate in Wikidata: QRXNODE_PNODE_FDA\n",
    "*   Subject NOT in Wikidata, Predicate NOT in Wikidata: QRXNODE_PRXNODE_FDA\n",
    "4. Create the Predicates NOT in Wikidata dictionary\n",
    "5. Write the results to these 4 KGTK Triples Files\n"
   ]
  },
  {
   "cell_type": "code",
   "execution_count": null,
   "metadata": {
    "executionInfo": {
     "elapsed": 439459,
     "status": "ok",
     "timestamp": 1608219320315,
     "user": {
      "displayName": "Vishal Lal",
      "photoUrl": "",
      "userId": "14499003186519065342"
     },
     "user_tz": 480
    },
    "id": "2KFO7FxBWdDb"
   },
   "outputs": [],
   "source": [
    "#Load the intermediate triples file for package_ndc\n",
    "with open('../results/fda/intermediate_triples/fda_triples_package_ndc.tsv', encoding=\"utf-8\") as f:\n",
    "    reader = csv.reader(f, delimiter='\\t')\n",
    "    \n",
    "    #Get all headers\n",
    "    header_list = next(reader)\n",
    "    #print(\"Header=\", header_list)\n",
    "    \n",
    "    #umlscui_dict={}\n",
    "    \n",
    "   \n",
    "    for row in reader:\n",
    "        output_row=[]\n",
    "        \n",
    "        #Get object\n",
    "        obj=str(row[2])\n",
    "        if \"'\" in obj:\n",
    "            obj=obj.replace(\"\\'\",\"\\\\'\")\n",
    "        \n",
    "        #Get predicate\n",
    "        pred=str(row[1])\n",
    "        if pred== \"package_ndc\":\n",
    "            pred=\"NDC 3 Segment\"\n",
    "        elif pred== \"spl_set_id\":\n",
    "            pred=\"SPL_SET_ID\"\n",
    "        elif pred==\"rxcui\":\n",
    "            pred=\"Related RXNorm\"\n",
    "        \n",
    "        #Get subject from NDC 3Segment Dict\n",
    "        subj=ndc3seg_dict[str(row[0])]\n",
    "        \n",
    "        #Convert date to KGTK format\n",
    "        if \"date\" in pred and pred != \"voluntary_mandated\":\n",
    "            obj=\"^\"+'-'.join([obj[:4], obj[4:6], obj[6:]])\n",
    "        #Check if predicate is identifer\n",
    "        elif pred in (\"NDC 3 Segment\", \"SPL_SET_ID\", \"spl_id\", \"product_id\"):\n",
    "            obj=\"\\\"\"+obj+\"\\\"\"\n",
    "        #Check for Boolean sample predicate\n",
    "        elif pred not in (\"sample\"):\n",
    "            obj=\"\\'\"+obj+\"\\'\"+\"@en\" \n",
    "        \n",
    "        #Case 1: Subject NOT in Wikidata, Predicate in Wikidata- Get triples\n",
    "        if subj in qnode_dict_notinwiki and pred in pred_wikidata_dict:\n",
    "            subj=qnode_dict_notinwiki[subj]\n",
    "            output_row.append(str(subj))\n",
    "            output_row.append(str(pred_wikidata_dict[pred]))\n",
    "            output_row.append(str(obj))\n",
    "        \n",
    "            output_rows_qrxnode_pnode_fda.append(output_row)\n",
    "        \n",
    "        #Case 2: Subject NOT in Wikidata, Predicate NOT in Wikidata- Get triples\n",
    "        elif subj in qnode_dict_notinwiki and pred not in pred_wikidata_dict:\n",
    "            subj=qnode_dict_notinwiki[subj]\n",
    "            output_row.append(str(subj))\n",
    "            if pred in identifier_source_list:\n",
    "                pred_notinwikidata_dict_fda[pred]=\"PRX_ID_\"+pred\n",
    "            else:\n",
    "                pred_notinwikidata_dict_fda[pred]=\"PRX_FDA_\"+pred\n",
    "            pred=pred_notinwikidata_dict_fda[pred]\n",
    "            output_row.append(str(pred))\n",
    "            output_row.append(str(obj))\n",
    "        \n",
    "            output_rows_qrxnode_prxnode_fda.append(output_row)\n",
    "        \n",
    "        #Case 3: Subject in Wikidata, Predicate in Wikidata- Get triples\n",
    "        elif subj not in qnode_dict_notinwiki and pred in pred_wikidata_dict:\n",
    "            subj=qnode_dict_inwiki[subj]\n",
    "            output_row.append(str(subj))\n",
    "            output_row.append(str(pred_wikidata_dict[pred]))\n",
    "            output_row.append(str(obj))\n",
    "        \n",
    "            output_rows_qnode_pnode_fda.append(output_row)\n",
    "        \n",
    "        #Case 4: Subject in Wikidata, Predicate NOT in Wikidata- Get triples\n",
    "        elif subj not in qnode_dict_notinwiki and pred not in pred_wikidata_dict:\n",
    "            subj=qnode_dict_inwiki[subj]\n",
    "            output_row.append(str(subj))\n",
    "            if pred in identifier_source_list:\n",
    "                pred_notinwikidata_dict_fda[pred]=\"PRX_ID_\"+pred\n",
    "            else:\n",
    "                pred_notinwikidata_dict_fda[pred]=\"PRX_FDA_\"+pred\n",
    "            pred=pred_notinwikidata_dict_fda[pred]\n",
    "            output_row.append(str(pred))\n",
    "            output_row.append(str(obj))\n",
    "        \n",
    "            output_rows_qnode_prxnode_fda.append(output_row)"
   ]
  },
  {
   "cell_type": "markdown",
   "metadata": {
    "id": "xfJsde5p3QLp"
   },
   "source": [
    "# **Step 6C: Generate KGTK Triples for FDA NODES Edge File- from SPL-NDC Intermediate File**\n",
    "1. Uses the fda_spl_ndc Intermediate Triple files generated in Step 4\n",
    "2. Get the data in required KGTK Format\n",
    "3. Handle the 4 cases to Dump the Output in 4 files [Naming convention is as follows]:\n",
    "*   Subject in Wikidata, Predicate in Wikidata: QNODE_PNODE_FDA\n",
    "*   Subject in Wikidata, Predicate NOT in Wikidata: QNODE_PRXNODE_FDA\n",
    "*   Subject NOT in Wikidata, Predicate in Wikidata: QRXNODE_PNODE_FDA\n",
    "*   Subject NOT in Wikidata, Predicate NOT in Wikidata: QRXNODE_PRXNODE_FDA\n",
    "4. Create the Predicates NOT in Wikidata dictionary\n",
    "5. Write the results to these 4 KGTK Triples Files\n"
   ]
  },
  {
   "cell_type": "code",
   "execution_count": null,
   "metadata": {
    "executionInfo": {
     "elapsed": 441721,
     "status": "ok",
     "timestamp": 1608219322589,
     "user": {
      "displayName": "Vishal Lal",
      "photoUrl": "",
      "userId": "14499003186519065342"
     },
     "user_tz": 480
    },
    "id": "iXHlfi9rWmNX"
   },
   "outputs": [],
   "source": [
    "#Load the intermediate triples file for spl_ndc\n",
    "with open('../results/fda/intermediate_triples/fda_triples_spl_ndc.tsv', encoding=\"utf-8\") as f:\n",
    "    reader = csv.reader(f, delimiter='\\t')\n",
    "    \n",
    "    #Get headers\n",
    "    header_list = next(reader)\n",
    "    #print(\"Header=\", header_list)\n",
    "    \n",
    "    #umlscui_dict={}\n",
    "    \n",
    "   \n",
    "    for row in reader:\n",
    "        output_row=[]\n",
    "        \n",
    "        #Get object\n",
    "        obj=str(row[2])\n",
    "        if \"'\" in obj:\n",
    "            obj=obj.replace(\"\\'\",\"\\\\'\")\n",
    "        #print(obj[:1])\n",
    "\n",
    "        #Get predicate\n",
    "        pred=str(row[1])\n",
    "        if pred== \"package_ndc\":\n",
    "            pred=\"NDC 3 Segment\"\n",
    "        elif pred== \"spl_set_id\":\n",
    "            pred=\"SPL_SET_ID\"\n",
    "        elif pred==\"rxcui\":\n",
    "            pred=\"Related RXNorm\"\n",
    "        \n",
    "        #Get subject from Spl_setid dict\n",
    "        subj=spl_setid_dict[str(row[0])]\n",
    "\n",
    "        #Convert date to KGTK format\n",
    "        if \"date\" in pred and pred != \"voluntary_mandated\":\n",
    "            obj=\"^\"+'-'.join([obj[:4], obj[4:6], obj[6:]])\n",
    "        #Check if predicate in identifier\n",
    "        elif pred in (\"NDC 3 Segment\", \"SPL_SET_ID\", \"spl_id\", \"product_id\", \"Related RXNorm\", \"unii\", \"upc\"):\n",
    "            obj=\"\\\"\"+obj+\"\\\"\"\n",
    "        else:\n",
    "            obj=\"\\'\"+obj+\"\\'\"+\"@en\" \n",
    "\n",
    "        #Case 1: Subject NOT in Wikidata, Predicate in Wikidata- Get triples\n",
    "        if subj in qnode_dict_notinwiki and pred in pred_wikidata_dict:\n",
    "            subj=qnode_dict_notinwiki[subj]\n",
    "            output_row.append(str(subj))\n",
    "            output_row.append(str(pred_wikidata_dict[pred]))\n",
    "            output_row.append(str(obj))\n",
    "        \n",
    "            output_rows_qrxnode_pnode_fda.append(output_row)\n",
    "        \n",
    "        #Case 2: Subject NOT in Wikidata, Predicate NOT in Wikidata- Get triples\n",
    "        elif subj in qnode_dict_notinwiki and pred not in pred_wikidata_dict:\n",
    "            subj=qnode_dict_notinwiki[subj]\n",
    "            output_row.append(str(subj))\n",
    "            if pred in identifier_source_list:\n",
    "                pred_notinwikidata_dict_fda[pred]=\"PRX_ID_\"+pred\n",
    "            else:\n",
    "                pred_notinwikidata_dict_fda[pred]=\"PRX_FDA_\"+pred\n",
    "            pred=pred_notinwikidata_dict_fda[pred]\n",
    "            output_row.append(str(pred))\n",
    "            output_row.append(str(obj))\n",
    "        \n",
    "            output_rows_qrxnode_prxnode_fda.append(output_row)\n",
    "        \n",
    "        #Case 3: Subject in Wikidata, Predicate in Wikidata- Get triples\n",
    "        elif subj not in qnode_dict_notinwiki and pred in pred_wikidata_dict:\n",
    "            subj=qnode_dict_inwiki[subj]\n",
    "            output_row.append(str(subj))\n",
    "            output_row.append(str(pred_wikidata_dict[pred]))\n",
    "            output_row.append(str(obj))\n",
    "        \n",
    "            output_rows_qnode_pnode_fda.append(output_row)\n",
    "\n",
    "        #Case 4: Subject in Wikidata, Predicate NOT in Wikidata- Get triples\n",
    "        elif subj not in qnode_dict_notinwiki and pred not in pred_wikidata_dict:\n",
    "            subj=qnode_dict_inwiki[subj]\n",
    "            output_row.append(str(subj))\n",
    "            if pred in identifier_source_list:\n",
    "                pred_notinwikidata_dict_fda[pred]=\"PRX_ID_\"+pred\n",
    "            else:\n",
    "                pred_notinwikidata_dict_fda[pred]=\"PRX_FDA_\"+pred\n",
    "            pred=pred_notinwikidata_dict_fda[pred]\n",
    "            output_row.append(str(pred))\n",
    "            output_row.append(str(obj))\n",
    "        \n",
    "            output_rows_qnode_prxnode_fda.append(output_row)"
   ]
  },
  {
   "cell_type": "markdown",
   "metadata": {
    "id": "gokWBjWM3WN0"
   },
   "source": [
    "# **Step 6D: Generate KGTK Triples for FDA NODES Edge File- from SPL-LABELING Intermediate File**\n",
    "1. Uses the fda_spl_labeling Intermediate Triple files generated in Step 4\n",
    "2. Get the data in required KGTK Format\n",
    "3. Handle the 4 cases to Dump the Output in 4 files [Naming convention is as follows]:\n",
    "*   Subject in Wikidata, Predicate in Wikidata: QNODE_PNODE_FDA\n",
    "*   Subject in Wikidata, Predicate NOT in Wikidata: QNODE_PRXNODE_FDA\n",
    "*   Subject NOT in Wikidata, Predicate in Wikidata: QRXNODE_PNODE_FDA\n",
    "*   Subject NOT in Wikidata, Predicate NOT in Wikidata: QRXNODE_PRXNODE_FDA\n",
    "4. Create the Predicates NOT in Wikidata dictionary\n",
    "5. Write the results to these 4 KGTK Triples Files\n"
   ]
  },
  {
   "cell_type": "code",
   "execution_count": null,
   "metadata": {
    "executionInfo": {
     "elapsed": 450655,
     "status": "ok",
     "timestamp": 1608219331532,
     "user": {
      "displayName": "Vishal Lal",
      "photoUrl": "",
      "userId": "14499003186519065342"
     },
     "user_tz": 480
    },
    "id": "W3HuCGKEWoR9"
   },
   "outputs": [],
   "source": [
    "#Load the intermediate triples file for spl_labeling\n",
    "with open('../results/fda/intermediate_triples/fda_triples_spl_labeling.tsv', encoding=\"utf-8\") as f:\n",
    "    reader = csv.reader(f, delimiter='\\t')\n",
    "    \n",
    "    #Get the header\n",
    "    header_list = next(reader)\n",
    "    #print(\"Header=\", header_list)\n",
    "    \n",
    "    #umlscui_dict={}\n",
    "    \n",
    "    for row in reader:\n",
    "        if len(row) == 3:\n",
    "          output_row=[]\n",
    "\n",
    "          #Get object\n",
    "          obj=str(row[2])\n",
    "          if \"'\" in obj:\n",
    "              obj=obj.replace(\"\\'\",\"\\\\'\")\n",
    "          #print(obj[:1])\n",
    "\n",
    "          #Get predicate\n",
    "          pred=str(row[1])\n",
    "          if pred== \"package_ndc\":\n",
    "              pred=\"NDC 3 Segment\"\n",
    "          elif pred== \"spl_set_id\":\n",
    "              pred=\"SPL_SET_ID\"\n",
    "          elif pred==\"rxcui\":\n",
    "              pred=\"Related RXNorm\"\n",
    "          \n",
    "          #Get subject from SPL_SETid dict\n",
    "          subj=spl_setid_dict[str(row[0])]\n",
    "\n",
    "          #Convert date to KGTK format\n",
    "          if \"date\" in pred and pred != \"voluntary_mandated\":\n",
    "              obj=\"^\"+'-'.join([obj[:4], obj[4:6], obj[6:]])\n",
    "          #Check if pred is identifier\n",
    "          elif pred in (\"NDC 3 Segment\", \"SPL_SET_ID\", \"spl_id\", \"product_id\", \"Related RXNorm\", \"unii\", \"upc\"):\n",
    "              obj=\"\\\"\"+obj+\"\\\"\"\n",
    "          else:\n",
    "              obj=\"\\'\"+obj+\"\\'\"+\"@en\" \n",
    "\n",
    "          #Case 1: Subject NOT in Wikidata, Predicate in Wikidata- Get triples\n",
    "          if subj in qnode_dict_notinwiki and pred in pred_wikidata_dict:\n",
    "              subj=qnode_dict_notinwiki[subj]\n",
    "              output_row.append(str(subj))\n",
    "              output_row.append(str(pred_wikidata_dict[pred]))\n",
    "              output_row.append(str(obj))\n",
    "          \n",
    "              output_rows_qrxnode_pnode_fda.append(output_row)\n",
    "          \n",
    "          #Case 2: Subject NOT in Wikidata, Predicate NOT in Wikidata- Get triples\n",
    "          elif subj in qnode_dict_notinwiki and pred not in pred_wikidata_dict:\n",
    "              subj=qnode_dict_notinwiki[subj]\n",
    "              output_row.append(str(subj))\n",
    "              if pred in identifier_source_list:\n",
    "                  pred_notinwikidata_dict_fda[pred]=\"PRX_ID_\"+pred\n",
    "              else:\n",
    "                  pred_notinwikidata_dict_fda[pred]=\"PRX_FDA_\"+pred\n",
    "              pred=pred_notinwikidata_dict_fda[pred]\n",
    "              output_row.append(str(pred))\n",
    "              output_row.append(str(obj))\n",
    "          \n",
    "              output_rows_qrxnode_prxnode_fda.append(output_row)\n",
    "          \n",
    "          #Case 3: Subject in Wikidata, Predicate in Wikidata- Get triples\n",
    "          elif subj not in qnode_dict_notinwiki and pred in pred_wikidata_dict:\n",
    "              subj=qnode_dict_inwiki[subj]\n",
    "              output_row.append(str(subj))\n",
    "              output_row.append(str(pred_wikidata_dict[pred]))\n",
    "              output_row.append(str(obj))\n",
    "          \n",
    "              output_rows_qnode_pnode_fda.append(output_row)\n",
    "\n",
    "          #Case 4: Subject in Wikidata, Predicate NOT in Wikidata- Get triples\n",
    "          elif subj not in qnode_dict_notinwiki and pred not in pred_wikidata_dict:\n",
    "              subj=qnode_dict_inwiki[subj]\n",
    "              output_row.append(str(subj))\n",
    "              if pred in identifier_source_list:\n",
    "                  pred_notinwikidata_dict_fda[pred]=\"PRX_ID_\"+pred\n",
    "              else:\n",
    "                  pred_notinwikidata_dict_fda[pred]=\"PRX_FDA_\"+pred\n",
    "              pred=pred_notinwikidata_dict_fda[pred]\n",
    "              output_row.append(str(pred))\n",
    "              output_row.append(str(obj))\n",
    "          \n",
    "              output_rows_qnode_prxnode_fda.append(output_row)"
   ]
  },
  {
   "cell_type": "markdown",
   "metadata": {
    "id": "if7NsYkf3gbk"
   },
   "source": [
    "# **Step 6E: Generate KGTK Triples for FDA NODES Edge File- from APPLICATION-DRUGSFDA Intermediate File**\n",
    "1. Uses the fda_application_drugsfda Intermediate Triple files generated in Step 4\n",
    "2. Get the data in required KGTK Format\n",
    "3. Handle the 4 cases to Dump the Output in 4 files [Naming convention is as follows]:\n",
    "*   Subject in Wikidata, Predicate in Wikidata: QNODE_PNODE_FDA\n",
    "*   Subject in Wikidata, Predicate NOT in Wikidata: QNODE_PRXNODE_FDA\n",
    "*   Subject NOT in Wikidata, Predicate in Wikidata: QRXNODE_PNODE_FDA\n",
    "*   Subject NOT in Wikidata, Predicate NOT in Wikidata: QRXNODE_PRXNODE_FDA\n",
    "4. Create the Predicates NOT in Wikidata dictionary\n",
    "5. Write the results to these 4 KGTK Triples Files\n"
   ]
  },
  {
   "cell_type": "code",
   "execution_count": null,
   "metadata": {
    "executionInfo": {
     "elapsed": 457845,
     "status": "ok",
     "timestamp": 1608219338733,
     "user": {
      "displayName": "Vishal Lal",
      "photoUrl": "",
      "userId": "14499003186519065342"
     },
     "user_tz": 480
    },
    "id": "r92GVFlPWsrW"
   },
   "outputs": [],
   "source": [
    "#Load the intermediate triples file for application_drugsfda\n",
    "with open('../results/fda/intermediate_triples/fda_triples_application_drugsfda.tsv', encoding=\"utf-8\") as f:\n",
    "    reader = csv.reader(f, delimiter='\\t')\n",
    "    \n",
    "    header_list = next(reader)\n",
    "    #print(\"Header=\", header_list)\n",
    "    \n",
    "    #umlscui_dict={}\n",
    "    \n",
    "   \n",
    "    for row in reader:\n",
    "        output_row=[]\n",
    "        \n",
    "        obj=str(row[2])\n",
    "        if \"'\" in obj:\n",
    "            obj=obj.replace(\"\\'\",\"\\\\'\")\n",
    "        #print(obj[:1])\n",
    "        pred=str(row[1])\n",
    "        if pred== \"package_ndc\":\n",
    "            pred=\"NDC 3 Segment\"\n",
    "        elif pred== \"spl_set_id\":\n",
    "            pred=\"SPL_SET_ID\"\n",
    "        elif pred==\"rxcui\":\n",
    "            pred=\"Related RXNorm\"\n",
    "        \n",
    "        subj=application_dict[str(row[0])]\n",
    "        if \"date\" in pred and pred != \"voluntary_mandated\":\n",
    "            obj=\"^\"+'-'.join([obj[:4], obj[4:6], obj[6:]])\n",
    "        elif pred in (\"NDC 3 Segment\", \"SPL_SET_ID\", \"spl_id\", \"product_id\", \"Related RXNorm\", \"unii\", \"upc\"):\n",
    "            obj=\"\\\"\"+obj+\"\\\"\"\n",
    "        else:\n",
    "            obj=\"\\'\"+obj+\"\\'\"+\"@en\" \n",
    "\n",
    "\n",
    "        #Case 1: Subject NOT in Wikidata, Predicate in Wikidata- Get triples\n",
    "        if subj in qnode_dict_notinwiki and pred in pred_wikidata_dict:\n",
    "            subj=qnode_dict_notinwiki[subj]\n",
    "            output_row.append(str(subj))\n",
    "            output_row.append(str(pred_wikidata_dict[pred]))\n",
    "            output_row.append(str(obj))\n",
    "        \n",
    "            output_rows_qrxnode_pnode_fda.append(output_row)\n",
    "        #Case 2: Subject NOT in Wikidata, Predicate NOT in Wikidata- Get triples\n",
    "        elif subj in qnode_dict_notinwiki and pred not in pred_wikidata_dict:\n",
    "            subj=qnode_dict_notinwiki[subj]\n",
    "            output_row.append(str(subj))\n",
    "            if pred in identifier_source_list:\n",
    "                pred_notinwikidata_dict_fda[pred]=\"PRX_ID_\"+pred\n",
    "            else:\n",
    "                pred_notinwikidata_dict_fda[pred]=\"PRX_FDA_\"+pred\n",
    "            pred=pred_notinwikidata_dict_fda[pred]\n",
    "            output_row.append(str(pred))\n",
    "            output_row.append(str(obj))\n",
    "        \n",
    "            output_rows_qrxnode_prxnode_fda.append(output_row)\n",
    "        #Case 3: Subject in Wikidata, Predicate in Wikidata- Get triples\n",
    "        elif subj not in qnode_dict_notinwiki and pred in pred_wikidata_dict:\n",
    "            subj=qnode_dict_inwiki[subj]\n",
    "            output_row.append(str(subj))\n",
    "            output_row.append(str(pred_wikidata_dict[pred]))\n",
    "            output_row.append(str(obj))\n",
    "        \n",
    "            output_rows_qnode_pnode_fda.append(output_row)\n",
    "        #Case 4: Subject in Wikidata, Predicate NOT in Wikidata- Get triples\n",
    "        elif subj not in qnode_dict_notinwiki and pred not in pred_wikidata_dict:\n",
    "            subj=qnode_dict_inwiki[subj]\n",
    "            output_row.append(str(subj))\n",
    "            if pred in identifier_source_list:\n",
    "                pred_notinwikidata_dict_fda[pred]=\"PRX_ID_\"+pred\n",
    "            else:\n",
    "                pred_notinwikidata_dict_fda[pred]=\"PRX_FDA_\"+pred\n",
    "            pred=pred_notinwikidata_dict_fda[pred]\n",
    "            output_row.append(str(pred))\n",
    "            output_row.append(str(obj))\n",
    "        \n",
    "            output_rows_qnode_prxnode_fda.append(output_row)"
   ]
  },
  {
   "cell_type": "markdown",
   "metadata": {
    "id": "BGMRvUFb3pWc"
   },
   "source": [
    "# **Step 6F: Generate KGTK Triples for FDA NODES Edge File- from PACKAGE-ENFORCEMENT Intermediate File**\n",
    "1. Uses the fda_package_enforcment Intermediate Triple files generated in Step 4\n",
    "2. Get the data in required KGTK Format\n",
    "3. Handle the 4 cases to Dump the Output in 4 files [Naming convention is as follows]:\n",
    "*   Subject in Wikidata, Predicate in Wikidata: QNODE_PNODE_FDA\n",
    "*   Subject in Wikidata, Predicate NOT in Wikidata: QNODE_PRXNODE_FDA\n",
    "*   Subject NOT in Wikidata, Predicate in Wikidata: QRXNODE_PNODE_FDA\n",
    "*   Subject NOT in Wikidata, Predicate NOT in Wikidata: QRXNODE_PRXNODE_FDA\n",
    "4. Create the Predicates NOT in Wikidata dictionary\n",
    "5. Write the results to these 4 KGTK Triples Files\n"
   ]
  },
  {
   "cell_type": "code",
   "execution_count": null,
   "metadata": {
    "executionInfo": {
     "elapsed": 458007,
     "status": "ok",
     "timestamp": 1608219338906,
     "user": {
      "displayName": "Vishal Lal",
      "photoUrl": "",
      "userId": "14499003186519065342"
     },
     "user_tz": 480
    },
    "id": "RS8UlWUqWxPn"
   },
   "outputs": [],
   "source": [
    "#Load the intermediate triples file for package_enforcement\n",
    "with open('../results/fda/intermediate_triples/fda_triples_package_enforcement.tsv', encoding=\"utf-8\") as f:\n",
    "    reader = csv.reader(f, delimiter='\\t')\n",
    "    \n",
    "    header_list = next(reader)\n",
    "    #print(\"Header=\", header_list)\n",
    "    \n",
    "    #umlscui_dict={}\n",
    "    \n",
    "   \n",
    "    for row in reader:\n",
    "        output_row=[]\n",
    "        \n",
    "        obj=str(row[2])\n",
    "        if \"'\" in obj:\n",
    "            obj=obj.replace(\"\\'\",\"\\\\'\")\n",
    "        #print(obj[:1])\n",
    "        pred=str(row[1])\n",
    "        if pred== \"package_ndc\":\n",
    "            pred=\"NDC 3 Segment\"\n",
    "        elif pred== \"spl_set_id\":\n",
    "            pred=\"SPL_SET_ID\"\n",
    "        elif pred==\"rxcui\":\n",
    "            pred=\"Related RXNorm\"\n",
    "        \n",
    "        subj=ndc3seg_dict[str(row[0])]\n",
    "        if \"date\" in pred and pred != \"voluntary_mandated\":\n",
    "            obj=\"^\"+'-'.join([obj[:4], obj[4:6], obj[6:]])\n",
    "        elif pred in (\"NDC 3 Segment\", \"SPL_SET_ID\", \"spl_id\", \"product_id\", \"Related RXNorm\", \"unii\", \"upc\", \"event_id\"):\n",
    "            obj=\"\\\"\"+obj+\"\\\"\"\n",
    "        else:\n",
    "            obj=\"\\'\"+obj+\"\\'\"+\"@en\" \n",
    "\n",
    "        #Case 1: Subject NOT in Wikidata, Predicate in Wikidata- Get triples\n",
    "        if subj in qnode_dict_notinwiki and pred in pred_wikidata_dict:\n",
    "            subj=qnode_dict_notinwiki[subj]\n",
    "            output_row.append(str(subj))\n",
    "            output_row.append(str(pred_wikidata_dict[pred]))\n",
    "            output_row.append(str(obj))\n",
    "        \n",
    "            output_rows_qrxnode_pnode_fda.append(output_row)\n",
    "        \n",
    "        #Case 2: Subject NOT in Wikidata, Predicate NOT in Wikidata- Get triples\n",
    "        elif subj in qnode_dict_notinwiki and pred not in pred_wikidata_dict:\n",
    "            subj=qnode_dict_notinwiki[subj]\n",
    "            output_row.append(str(subj))\n",
    "            if pred in identifier_source_list:\n",
    "                pred_notinwikidata_dict_fda[pred]=\"PRX_ID_\"+pred\n",
    "            else:\n",
    "                pred_notinwikidata_dict_fda[pred]=\"PRX_FDA_\"+pred\n",
    "            pred=pred_notinwikidata_dict_fda[pred]\n",
    "            output_row.append(str(pred))\n",
    "            output_row.append(str(obj))\n",
    "        \n",
    "            output_rows_qrxnode_prxnode_fda.append(output_row)\n",
    "        \n",
    "        #Case 3: Subject NOT in Wikidata, Predicate in Wikidata- Get triples\n",
    "        elif subj not in qnode_dict_notinwiki and pred in pred_wikidata_dict:\n",
    "            subj=qnode_dict_inwiki[subj]\n",
    "            output_row.append(str(subj))\n",
    "            output_row.append(str(pred_wikidata_dict[pred]))\n",
    "            output_row.append(str(obj))\n",
    "        \n",
    "            output_rows_qnode_pnode_fda.append(output_row)\n",
    "\n",
    "        #Case 4: Subject NOT in Wikidata, Predicate NOT in Wikidata- Get triples\n",
    "        elif subj not in qnode_dict_notinwiki and pred not in pred_wikidata_dict:\n",
    "            subj=qnode_dict_inwiki[subj]\n",
    "            output_row.append(str(subj))\n",
    "            if pred in identifier_source_list:\n",
    "                pred_notinwikidata_dict_fda[pred]=\"PRX_ID_\"+pred\n",
    "            else:\n",
    "                pred_notinwikidata_dict_fda[pred]=\"PRX_FDA_\"+pred\n",
    "            pred=pred_notinwikidata_dict_fda[pred]\n",
    "            output_row.append(str(pred))\n",
    "            output_row.append(str(obj))\n",
    "        \n",
    "            output_rows_qnode_prxnode_fda.append(output_row)"
   ]
  },
  {
   "cell_type": "code",
   "execution_count": null,
   "metadata": {
    "executionInfo": {
     "elapsed": 473663,
     "status": "ok",
     "timestamp": 1608219354571,
     "user": {
      "displayName": "Vishal Lal",
      "photoUrl": "",
      "userId": "14499003186519065342"
     },
     "user_tz": 480
    },
    "id": "2haIUnO5W0-5"
   },
   "outputs": [],
   "source": [
    "#Write the results to the QRXNode Predicate in Wikidata FDA file and QRXNode Predicate NOT in Wikidata FDA file\n",
    "write_tsv('../results/fda/kgtk_triples/nodes/qrxnode_prxnode_fda.tsv', output_rows_qrxnode_prxnode_fda)\n",
    "write_tsv('../results/fda/kgtk_triples/nodes/qnode_prxnode_fda.tsv', output_rows_qnode_prxnode_fda)\n",
    "\n",
    "#Write the results to the QNode Predicate in Wikidata FDA file and QNode Predicate NOT in Wikidata FDA file\n",
    "write_tsv('../results/fda/kgtk_triples/nodes/qrxnode_pnode_fda.tsv', output_rows_qrxnode_pnode_fda)\n",
    "write_tsv('../results/fda/kgtk_triples/nodes/qnode_pnode_fda.tsv', output_rows_qnode_pnode_fda)"
   ]
  },
  {
   "cell_type": "markdown",
   "metadata": {
    "id": "eSlr4mnp3zx5"
   },
   "source": [
    "# **Step 6G: Generate KGTK Triples for FDA PROPERTIES Edge & DataType Files**\n",
    "1. Segregate and Get the data in required KGTK Format for Edges and DataType using the Predicates NOT in Wikidata dictionary\n",
    "2. Dump the Output in 3 files [Naming convention is as follows]:\n",
    "*   Predicates NOT in Wikidata: PRXNODE_FDA [For Reference Only]\n",
    "*   Predicates NOT in Wikidata Edges: PRXNODE_Edges_FDA\n",
    "*   Predicates NOT in Wikidata DataType: PRXNODE_DataType_FDA\n",
    "3. Write the results to these 3 KGTK Triples Files\n",
    "\n",
    "\n",
    "\n",
    "\n"
   ]
  },
  {
   "cell_type": "code",
   "execution_count": null,
   "metadata": {
    "executionInfo": {
     "elapsed": 473656,
     "status": "ok",
     "timestamp": 1608219354573,
     "user": {
      "displayName": "Vishal Lal",
      "photoUrl": "",
      "userId": "14499003186519065342"
     },
     "user_tz": 480
    },
    "id": "BpBonQq4W4gt"
   },
   "outputs": [],
   "source": [
    "#Get keys of all Predicates NOT in wikidata from FDA\n",
    "for x in pred_notinwikidata_dict_fda.keys():\n",
    "    \n",
    "    #print(x)\n",
    "    \n",
    "    output_row=[]\n",
    "    pred_value=pred_notinwikidata_dict_fda[x]\n",
    "\n",
    "    #Get label for predicates\n",
    "    output_row.append(pred_value)\n",
    "    output_row.append(\"label\")\n",
    "    output_row.append(\"\\'\"+x+\"\\'\"+\"@en\")\n",
    "\n",
    "    #Append to Predicate and Predicate Edges\n",
    "    output_rows_prxnode_fda.append(output_row)\n",
    "    output_rows_prxnode_edges_fda.append(output_row)\n",
    "    \n",
    "    output_row=[]\n",
    "    #Get description for predicates\n",
    "    output_row.append(pred_value)\n",
    "    output_row.append(\"description\")\n",
    "    output_row.append(\"\\'\"+x+\"\\'\"+\"@en\")\n",
    "\n",
    "    #Append to Predicate and Predicate Edges\n",
    "    output_rows_prxnode_fda.append(output_row)\n",
    "    output_rows_prxnode_edges_fda.append(output_row)\n",
    "    \n",
    "    output_row=[]\n",
    "    #Get datatype for predicates\n",
    "    output_row.append(pred_value)\n",
    "    output_row.append(\"data_type\")\n",
    "    if (\"PRX_ID_\" in pred_value):\n",
    "        output_row.append(\"\\\"\"+\"external-identifier\"+\"\\\"\")\n",
    "    elif (\"PRX_FDA_\" in pred_value):\n",
    "        output_row.append(\"\\\"\"+\"string\"+\"\\\"\")\n",
    "    #output_row.append(\"\\\"String\\\"\")\n",
    "\n",
    "    #Append to Predicate and Predicate DataType files\n",
    "    output_rows_prxnode_fda.append(output_row)\n",
    "    output_rows_prxnode_datatype_fda.append(output_row)"
   ]
  },
  {
   "cell_type": "code",
   "execution_count": null,
   "metadata": {
    "executionInfo": {
     "elapsed": 474413,
     "status": "ok",
     "timestamp": 1608219355338,
     "user": {
      "displayName": "Vishal Lal",
      "photoUrl": "",
      "userId": "14499003186519065342"
     },
     "user_tz": 480
    },
    "id": "20FPgZbsW8g6"
   },
   "outputs": [],
   "source": [
    "#Write the results to the PRXNode Predicate NOT in Wikidata FDA file,  Edges file and DataType file \n",
    "write_tsv(\"../results/fda/kgtk_triples/properties/prxnode_fda.tsv\", output_rows_prxnode_fda)\n",
    "write_tsv(\"../results/fda/kgtk_triples/properties/prxnode_edges_fda.tsv\", output_rows_prxnode_edges_fda)\n",
    "write_tsv(\"../results/fda/kgtk_triples/properties/prxnode_datatype_fda.tsv\", output_rows_prxnode_datatype_fda)"
   ]
  },
  {
   "cell_type": "markdown",
   "metadata": {
    "id": "o7YhnchB4QNj"
   },
   "source": [
    "# **Step 7: Perform KGTK Transformations and Validation on NODES and PROPERTIES Edge files**\n",
    "\n",
    "\n",
    "\n",
    "\n",
    "\n"
   ]
  },
  {
   "cell_type": "markdown",
   "metadata": {
    "id": "NZh4r-Ab4fqh"
   },
   "source": [
    "# **Step 7A: Perform KGTK Compact Transformation**\n",
    "1. Perform KGTK Compact Transformation for RXNorm KGTK triples NODES:<br>\n",
    "      4 Files- QRXNode_PNode, QRXNode_PRXNode, QNode_PNode, QNode_PRXNode\n",
    "2. Perform KGTK Compact Transformation for FDA KGTK triples NODES:<br>\n",
    "      4 Files- QRXNode_PNode, QRXNode_PRXNode, QNode_PNode, QNode_PRXNode\n",
    "3. Perform KGTK Compact Transformation for RXNorm KGTK triples PROPERTIES:<br>\n",
    "      1 File- PRXNode\n",
    "4. Perform KGTK Compact Transformation for FDA KGTK triples PROPERTIES:<br>\n",
    "      1 File- PRXNode\n",
    "\n",
    "\n",
    "\n",
    "\n"
   ]
  },
  {
   "cell_type": "code",
   "execution_count": null,
   "metadata": {
    "executionInfo": {
     "elapsed": 629969,
     "status": "ok",
     "timestamp": 1608219510904,
     "user": {
      "displayName": "Vishal Lal",
      "photoUrl": "",
      "userId": "14499003186519065342"
     },
     "user_tz": 480
    },
    "id": "nK5E17xwXBBA"
   },
   "outputs": [],
   "source": [
    "#Perform KGTK Compact Transformation for RXNorm KGTK triples NODES:\n",
    "#4 Files- QRXNode_PNode, QRXNode_PRXNode, QNode_PNode, QNode_PRXNode\n",
    "!kgtk compact -i ../results/rxnorm/kgtk_triples/nodes/qrxnode_pnode_rxnorm.tsv -o ../results/rxnorm/kgtk_triples_compact/nodes/qrxnode_pnode_rxnorm_compact.tsv\n",
    "!kgtk compact -i ../results/rxnorm/kgtk_triples/nodes/qrxnode_prxnode_rxnorm.tsv -o ../results/rxnorm/kgtk_triples_compact/nodes/qrxnode_prxnode_rxnorm_compact.tsv\n",
    "!kgtk compact -i ../results/rxnorm/kgtk_triples/nodes/qnode_pnode_rxnorm.tsv -o ../results/rxnorm/kgtk_triples_compact/nodes/qnode_pnode_rxnorm_compact.tsv\n",
    "!kgtk compact -i ../results/rxnorm/kgtk_triples/nodes/qnode_prxnode_rxnorm.tsv -o ../results/rxnorm/kgtk_triples_compact/nodes/qnode_prxnode_rxnorm_compact.tsv"
   ]
  },
  {
   "cell_type": "code",
   "execution_count": null,
   "metadata": {
    "executionInfo": {
     "elapsed": 710220,
     "status": "ok",
     "timestamp": 1608219591163,
     "user": {
      "displayName": "Vishal Lal",
      "photoUrl": "",
      "userId": "14499003186519065342"
     },
     "user_tz": 480
    },
    "id": "TaDS2UfgarLQ"
   },
   "outputs": [],
   "source": [
    "#Perform KGTK Compact Transformation for FDA KGTK triples NODES:\n",
    "#4 Files- QRXNode_PNode, QRXNode_PRXNode, QNode_PNode, QNode_PRXNode\n",
    "!kgtk compact -i ../results/fda/kgtk_triples/nodes/qrxnode_pnode_fda.tsv -o ../results/fda/kgtk_triples_compact/nodes/qrxnode_pnode_fda_compact.tsv\n",
    "!kgtk compact -i ../results/fda/kgtk_triples/nodes/qrxnode_prxnode_fda.tsv -o ../results/fda/kgtk_triples_compact/nodes/qrxnode_prxnode_fda_compact.tsv\n",
    "!kgtk compact -i ../results/fda/kgtk_triples/nodes/qnode_pnode_fda.tsv -o ../results/fda/kgtk_triples_compact/nodes/qnode_pnode_fda_compact.tsv\n",
    "!kgtk compact -i ../results/fda/kgtk_triples/nodes/qnode_prxnode_fda.tsv -o ../results/fda/kgtk_triples_compact/nodes/qnode_prxnode_fda_compact.tsv"
   ]
  },
  {
   "cell_type": "code",
   "execution_count": null,
   "metadata": {
    "executionInfo": {
     "elapsed": 711502,
     "status": "ok",
     "timestamp": 1608219592454,
     "user": {
      "displayName": "Vishal Lal",
      "photoUrl": "",
      "userId": "14499003186519065342"
     },
     "user_tz": 480
    },
    "id": "rmFVaFHk5r_h"
   },
   "outputs": [],
   "source": [
    "#Perform KGTK Compact Transformation for RXNorm KGTK triples PROPERTIES:\n",
    "#1 Files- PRXNode\n",
    "!kgtk compact -i ../results/rxnorm/kgtk_triples/properties/prxnode_edges_rxnorm.tsv -o ../results/rxnorm/kgtk_triples_compact/properties/prxnode_edges_rxnorm_compact.tsv"
   ]
  },
  {
   "cell_type": "code",
   "execution_count": null,
   "metadata": {
    "executionInfo": {
     "elapsed": 712496,
     "status": "ok",
     "timestamp": 1608219593455,
     "user": {
      "displayName": "Vishal Lal",
      "photoUrl": "",
      "userId": "14499003186519065342"
     },
     "user_tz": 480
    },
    "id": "Nwqwu2QI58j-"
   },
   "outputs": [],
   "source": [
    "#Perform KGTK Compact Transformation for FDA KGTK triples PROPERTIES:\n",
    "#1 Files- PRXNode\n",
    "!kgtk compact -i ../results/fda/kgtk_triples/properties/prxnode_edges_fda.tsv -o ../results/fda/kgtk_triples_compact/properties/prxnode_edges_fda_compact.tsv"
   ]
  },
  {
   "cell_type": "markdown",
   "metadata": {
    "id": "QkEvLtCg5Bxb"
   },
   "source": [
    "# **Step 7B: Perform KGTK ADD-ID Transformation**\n",
    "1. Perform KGTK ADD-ID Transformation for RXNorm KGTK triples NODES:<br>\n",
    "      4 Files- QRXNode_PNode, QRXNode_PRXNode, QNode_PNode, QNode_PRXNode\n",
    "2. Perform KGTK ADD-ID Transformation for FDA KGTK triples NODES:<br>\n",
    "      4 Files- QRXNode_PNode, QRXNode_PRXNode, QNode_PNode, QNode_PRXNode\n",
    "3. Perform KGTK ADD-ID Transformation for RXNorm KGTK triples PROPERTIES:<br>\n",
    "      1 File- PRXNode\n",
    "4. Perform KGTK ADD-ID Transformation for FDA KGTK triples PROPERTIES:<br>\n",
    "      1 File- PRXNode\n"
   ]
  },
  {
   "cell_type": "code",
   "execution_count": null,
   "metadata": {
    "executionInfo": {
     "elapsed": 784935,
     "status": "ok",
     "timestamp": 1608219665903,
     "user": {
      "displayName": "Vishal Lal",
      "photoUrl": "",
      "userId": "14499003186519065342"
     },
     "user_tz": 480
    },
    "id": "HEW3d6rybCZy"
   },
   "outputs": [],
   "source": [
    "#Perform KGTK Add-ID Transformation for RXNorm KGTK triples NODES:\n",
    "#4 Files- QRXNode_PNode, QRXNode_PRXNode, QNode_PNode, QNode_PRXNode\n",
    "!kgtk add-id -i ../results/rxnorm/kgtk_triples_compact/nodes/qrxnode_pnode_rxnorm_compact.tsv -o ../results/rxnorm/kgtk_triples_id/nodes/qrxnode_pnode_rxnorm_id.tsv --id-style node1-label-node2-num\n",
    "!kgtk add-id -i ../results/rxnorm/kgtk_triples_compact/nodes/qrxnode_prxnode_rxnorm_compact.tsv -o ../results/rxnorm/kgtk_triples_id/nodes/qrxnode_prxnode_rxnorm_id.tsv --id-style node1-label-node2-num\n",
    "!kgtk add-id -i ../results/rxnorm/kgtk_triples_compact/nodes/qnode_pnode_rxnorm_compact.tsv -o ../results/rxnorm/kgtk_triples_id/nodes/qnode_pnode_rxnorm_id.tsv --id-style node1-label-node2-num\n",
    "!kgtk add-id -i ../results/rxnorm/kgtk_triples_compact/nodes/qnode_prxnode_rxnorm_compact.tsv -o ../results/rxnorm/kgtk_triples_id/nodes/qnode_prxnode_rxnorm_id.tsv --id-style node1-label-node2-num"
   ]
  },
  {
   "cell_type": "code",
   "execution_count": null,
   "metadata": {
    "executionInfo": {
     "elapsed": 830087,
     "status": "ok",
     "timestamp": 1608219711063,
     "user": {
      "displayName": "Vishal Lal",
      "photoUrl": "",
      "userId": "14499003186519065342"
     },
     "user_tz": 480
    },
    "id": "KN6BL1xHcoCU"
   },
   "outputs": [],
   "source": [
    "#Perform KGTK Add-ID Transformation for FDA KGTK triples NODES:\n",
    "#4 Files- QRXNode_PNode, QRXNode_PRXNode, QNode_PNode, QNode_PRXNode\n",
    "!kgtk add-id -i ../results/fda/kgtk_triples_compact/nodes/qrxnode_pnode_fda_compact.tsv -o ../results/fda/kgtk_triples_id/nodes/qrxnode_pnode_fda_id.tsv --id-style node1-label-node2-num\n",
    "!kgtk add-id -i ../results/fda/kgtk_triples_compact/nodes/qrxnode_prxnode_fda_compact.tsv -o ../results/fda/kgtk_triples_id/nodes/qrxnode_prxnode_fda_id.tsv --id-style node1-label-node2-num\n",
    "!kgtk add-id -i ../results/fda/kgtk_triples_compact/nodes/qnode_pnode_fda_compact.tsv -o ../results/fda/kgtk_triples_id/nodes/qnode_pnode_fda_id.tsv --id-style node1-label-node2-num\n",
    "!kgtk add-id -i ../results/fda/kgtk_triples_compact/nodes/qnode_prxnode_fda_compact.tsv -o ../results/fda/kgtk_triples_id/nodes/qnode_prxnode_fda_id.tsv --id-style node1-label-node2-num"
   ]
  },
  {
   "cell_type": "code",
   "execution_count": null,
   "metadata": {
    "executionInfo": {
     "elapsed": 831532,
     "status": "ok",
     "timestamp": 1608219712517,
     "user": {
      "displayName": "Vishal Lal",
      "photoUrl": "",
      "userId": "14499003186519065342"
     },
     "user_tz": 480
    },
    "id": "Rmrogb7z6JEH"
   },
   "outputs": [],
   "source": [
    "#Perform KGTK Add-ID Transformation for RXNorm KGTK triples PROPERTIES:\n",
    "#1 Files- PRXNode\n",
    "!kgtk add-id -i ../results/rxnorm/kgtk_triples_compact/properties/prxnode_edges_rxnorm_compact.tsv -o ../results/rxnorm/kgtk_triples_id/properties/prxnode_edges_rxnorm_id.tsv --id-style node1-label-node2-num"
   ]
  },
  {
   "cell_type": "code",
   "execution_count": null,
   "metadata": {
    "executionInfo": {
     "elapsed": 832974,
     "status": "ok",
     "timestamp": 1608219713967,
     "user": {
      "displayName": "Vishal Lal",
      "photoUrl": "",
      "userId": "14499003186519065342"
     },
     "user_tz": 480
    },
    "id": "QENJx9Gu6f4r"
   },
   "outputs": [],
   "source": [
    "#Perform KGTK Compact Transformation for FDA KGTK triples PROPERTIES:\n",
    "#1 Files- PRXNode\n",
    "!kgtk add-id -i ../results/fda/kgtk_triples_compact/properties/prxnode_edges_fda_compact.tsv -o ../results/fda/kgtk_triples_id/properties/prxnode_edges_fda_id.tsv --id-style node1-label-node2-num"
   ]
  },
  {
   "cell_type": "markdown",
   "metadata": {
    "id": "osL5hlEj5OBD"
   },
   "source": [
    "# **Step 7C: Perform KGTK Validate**\n",
    "1. Perform KGTK Validate for RXNorm KGTK triples NODES:<br>\n",
    "      4 Files- QRXNode_PNode, QRXNode_PRXNode, QNode_PNode, QNode_PRXNode\n",
    "2. Perform KGTK Validate for FDA KGTK triples NODES:<br>\n",
    "      4 Files- QRXNode_PNode, QRXNode_PRXNode, QNode_PNode, QNode_PRXNode\n",
    "3. Perform KGTK Validate for RXNorm KGTK triples PROPERTIES:<br>\n",
    "      1 File- PRXNode\n",
    "4. Perform KGTK Validate for FDA KGTK triples PROPERTIES:<br>\n",
    "      1 File- PRXNode\n"
   ]
  },
  {
   "cell_type": "code",
   "execution_count": null,
   "metadata": {
    "colab": {
     "base_uri": "https://localhost:8080/"
    },
    "executionInfo": {
     "elapsed": 1191531,
     "status": "ok",
     "timestamp": 1608220072533,
     "user": {
      "displayName": "Vishal Lal",
      "photoUrl": "",
      "userId": "14499003186519065342"
     },
     "user_tz": 480
    },
    "id": "A-zXcve_dQFW",
    "outputId": "ada6ed35-50f6-4356-d194-06e8c789dcdb"
   },
   "outputs": [],
   "source": [
    "#Perform KGTK Validate Operation for RXNorm KGTK triples NODES:\n",
    "#4 Files- QRXNode_PNode, QRXNode_PRXNode, QNode_PNode, QNode_PRXNode\n",
    "!kgtk validate -i ../results/rxnorm/kgtk_triples_id/nodes/qrxnode_pnode_rxnorm_id.tsv -v\n",
    "!kgtk validate -i ../results/rxnorm/kgtk_triples_id/nodes/qrxnode_prxnode_rxnorm_id.tsv -v\n",
    "!kgtk validate -i ../results/rxnorm/kgtk_triples_id/nodes/qnode_pnode_rxnorm_id.tsv -v\n",
    "!kgtk validate -i ../results/rxnorm/kgtk_triples_id/nodes/qnode_prxnode_rxnorm_id.tsv -v"
   ]
  },
  {
   "cell_type": "code",
   "execution_count": null,
   "metadata": {
    "colab": {
     "base_uri": "https://localhost:8080/",
     "output_embedded_package_id": "1LEw9HY9TyC5X_DpvHhqVEiOr7risxnAt"
    },
    "executionInfo": {
     "elapsed": 1384255,
     "status": "ok",
     "timestamp": 1608220265276,
     "user": {
      "displayName": "Vishal Lal",
      "photoUrl": "",
      "userId": "14499003186519065342"
     },
     "user_tz": 480
    },
    "id": "S1odj5LSeCbK",
    "outputId": "d07322fb-f674-47d1-cdd7-ed246424443f"
   },
   "outputs": [],
   "source": [
    "#Perform KGTK Validate Operation for FDA KGTK triples NODES:\n",
    "#4 Files- QRXNode_PNode, QRXNode_PRXNode, QNode_PNode, QNode_PRXNode\n",
    "!kgtk validate -i ../results/fda/kgtk_triples_id/nodes/qrxnode_pnode_fda_id.tsv -v\n",
    "!kgtk validate -i ../results/fda/kgtk_triples_id/nodes/qrxnode_prxnode_fda_id.tsv -v\n",
    "!kgtk validate -i ../results/fda/kgtk_triples_id/nodes/qnode_pnode_fda_id.tsv -v\n",
    "!kgtk validate -i ../results/fda/kgtk_triples_id/nodes/qnode_prxnode_fda_id.tsv -v"
   ]
  },
  {
   "cell_type": "code",
   "execution_count": null,
   "metadata": {
    "colab": {
     "base_uri": "https://localhost:8080/"
    },
    "executionInfo": {
     "elapsed": 1384236,
     "status": "ok",
     "timestamp": 1608220265278,
     "user": {
      "displayName": "Vishal Lal",
      "photoUrl": "",
      "userId": "14499003186519065342"
     },
     "user_tz": 480
    },
    "id": "hKlAL8iM6o2W",
    "outputId": "ac4206a5-3ec6-4929-ef34-ac98f21a0fa6"
   },
   "outputs": [],
   "source": [
    "#Perform KGTK Validate Operation for RXNorm KGTK triples PROPERTIES:\n",
    "#1 Files- PRXNode\n",
    "!kgtk validate -i ../results/rxnorm/kgtk_triples_id/properties/prxnode_edges_rxnorm_id.tsv -v"
   ]
  },
  {
   "cell_type": "code",
   "execution_count": null,
   "metadata": {
    "colab": {
     "base_uri": "https://localhost:8080/"
    },
    "executionInfo": {
     "elapsed": 1384222,
     "status": "ok",
     "timestamp": 1608220265279,
     "user": {
      "displayName": "Vishal Lal",
      "photoUrl": "",
      "userId": "14499003186519065342"
     },
     "user_tz": 480
    },
    "id": "PTaFuQBg7K0E",
    "outputId": "7447a6c9-e71c-4342-b987-76d18e512138"
   },
   "outputs": [],
   "source": [
    "#Perform KGTK Validate Operation for FDA KGTK triples PROPERTIES:\n",
    "#1 Files- PRXNode\n",
    "!kgtk validate -i ../results/fda/kgtk_triples_id/properties/prxnode_edges_fda_id.tsv -v"
   ]
  },
  {
   "cell_type": "markdown",
   "metadata": {
    "id": "GGJs57vA50_W"
   },
   "source": [
    "# **Step 8: Generate KGTK Triples for FDA and RXNORM Qualifiers**\n",
    "Uses the FDA and RXNORM KGTK Triples with IDs [created in Step 7] to generate Qualifier Edges\n"
   ]
  },
  {
   "cell_type": "markdown",
   "metadata": {
    "id": "YnuCS5zr67BH"
   },
   "source": [
    "# **Step 8A: Generate KGTK Triples for FDA Qualifiers**\n",
    "1. Generate KGTK Triples for Qualifiers Related to Active Ingredients in Drug-NDC, Products information in Drugs@FDA and Submissions Information in Drugs@FDA\n",
    "2. Get the qualifiers for 2 files:\n",
    "      QNODE_PRXNODE_QUALIFIER and QRXNODE_PRXNODE_QUALIFIER\n",
    "3. Write the results to these 2 files\n"
   ]
  },
  {
   "cell_type": "code",
   "execution_count": null,
   "metadata": {
    "executionInfo": {
     "elapsed": 1384209,
     "status": "ok",
     "timestamp": 1608220265279,
     "user": {
      "displayName": "Vishal Lal",
      "photoUrl": "",
      "userId": "14499003186519065342"
     },
     "user_tz": 480
    },
    "id": "cuG3stzJ-Swo"
   },
   "outputs": [],
   "source": [
    "#Function: Get key from given value and dictionary name\n",
    "def get_key(val, input_dict):\n",
    "    for key, value in input_dict.items():\n",
    "         if val == value:\n",
    "             return key"
   ]
  },
  {
   "cell_type": "code",
   "execution_count": null,
   "metadata": {
    "executionInfo": {
     "elapsed": 1394067,
     "status": "ok",
     "timestamp": 1608220275147,
     "user": {
      "displayName": "Vishal Lal",
      "photoUrl": "",
      "userId": "14499003186519065342"
     },
     "user_tz": 480
    },
    "id": "lFmbX50v3hJQ"
   },
   "outputs": [],
   "source": [
    "#Create a list for output rows of QRXNode PRXNode FDA Qualifiers\n",
    "output_rows_qrxnode_prxnode_fda_qualifier=[]\n",
    "#Create a list for output rows of QNode PRXNode FDA Qualifiers\n",
    "output_rows_qnode_prxnode_fda_qualifier=[]\n",
    "\n",
    "#Create a dict to hold Predicates NOT in Wikidata resulting from Qualifiers\n",
    "pred_notinwikidata_dict_fda_qualifier={}\n",
    "\n",
    "#Get qualifiers from QRXNode PRXNode FDA file\n",
    "with open('../results/fda/kgtk_triples_id/nodes/qrxnode_prxnode_fda_id.tsv', encoding=\"utf-8\") as f:\n",
    "    reader = csv.reader(f, delimiter='\\t')\n",
    "    \n",
    "    #Get header\n",
    "    header_list = next(reader)\n",
    "    #print(\"Header=\", header_list)\n",
    "    \n",
    "    #umlscui_dict={}\n",
    "    #print(submisions_dict)\n",
    "    #print(products_dict)\n",
    "    #print(active_ingredients_dict)\n",
    "   \n",
    "    for row in reader:\n",
    "        #Check if predicate is Product Number (products_dict qualifiers from Drugs@FDA)\n",
    "        #Check if predicate is Submission Status Date (submission date qualifiers from Drugs@FDA)\n",
    "        #Check if predicate is Active Ingredient (active ingredient qualifiers from Product-NDC)\n",
    "        if row[1] in ('PRX_FDA_product_number','PRX_FDA_submission_status_date', 'PRX_FDA_active_ingredients'):\n",
    "          #print(row[0], row[2])\n",
    "\n",
    "          #Get the RXNormID\n",
    "          rxnode=row[0].split('QRX',1)[1]\n",
    "          \n",
    "          if row[1]=='PRX_FDA_product_number':\n",
    "            #Get the Product Number to get Product Dict Key\n",
    "            prodno=row[2].split('@',1)[0].replace(\"'\",\"\")\n",
    "            rxnode_key=rxnode+\"_\"+prodno\n",
    "            #print(rxnode_key)\n",
    "\n",
    "            #Check if key is in Product Dict Key\n",
    "            if rxnode_key in products_dict:\n",
    "              #Get associated triples for qualifiers\n",
    "              product_associated_triples=products_dict[rxnode_key]\n",
    "              for val in product_associated_triples:\n",
    "                output_row=[]\n",
    "                #Get triples\n",
    "                output_row.append(row[3])\n",
    "                \n",
    "                pred=val[1]\n",
    "                if pred in identifier_source_list:\n",
    "                  pred_notinwikidata_dict_fda_qualifier[pred]=\"PRX_ID_\"+pred\n",
    "                else:\n",
    "                  pred_notinwikidata_dict_fda_qualifier[pred]=\"PRX_FDA_\"+pred \n",
    "                \n",
    "                pred=pred_notinwikidata_dict_fda_qualifier[pred]\n",
    "                output_row.append(pred)\n",
    "                output_row.append(\"\\\"\"+val[2]+\"\\\"\")\n",
    "\n",
    "                #Append to list of all qualifier triples\n",
    "                output_rows_qrxnode_prxnode_fda_qualifier.append(output_row)\n",
    "          elif row[1]=='PRX_FDA_submission_status_date':\n",
    "            #Get the submission date for Submissions dict key \n",
    "            prodno=row[2].split('^',1)[1].replace(\"-\",\"\")\n",
    "            rxnode_key=rxnode+\"_\"+prodno\n",
    "            #print(rxnode_key)\n",
    "\n",
    "            #Check if key is in Submissions Dictionary\n",
    "            if rxnode_key in submisions_dict:\n",
    "              #Get associated triples for qualifiers\n",
    "              sub_associated_triples=submisions_dict[rxnode_key]\n",
    "              for val in product_associated_triples:\n",
    "                output_row=[]\n",
    "                #Get triples\n",
    "                output_row.append(row[3])\n",
    "                pred=val[1]\n",
    "                if pred in identifier_source_list:\n",
    "                  pred_notinwikidata_dict_fda_qualifier[pred]=\"PRX_ID_\"+pred\n",
    "                else:\n",
    "                  pred_notinwikidata_dict_fda_qualifier[pred]=\"PRX_FDA_\"+pred \n",
    "                \n",
    "                pred=pred_notinwikidata_dict_fda_qualifier[pred]\n",
    "                output_row.append(pred)\n",
    "                output_row.append(\"\\\"\"+val[2]+\"\\\"\")\n",
    "                #Append to list to all qualifier triples\n",
    "                output_rows_qrxnode_prxnode_fda_qualifier.append(output_row)\n",
    "          else:\n",
    "            #Get the active ingredient name for key\n",
    "            prodno=row[2].split('@',1)[0].replace(\"'\",\"\")\n",
    "            rxnode_key=rxnode+\"_\"+prodno\n",
    "            #print(rxnode_key)\n",
    "\n",
    "            #Check if key is in active ingredients dict\n",
    "            if rxnode_key in active_ingredients_dict:\n",
    "              val=active_ingredients_dict[rxnode_key]\n",
    "              \n",
    "              output_row=[]\n",
    "              output_row.append(row[3])\n",
    "              pred='strength'\n",
    "              if pred in identifier_source_list:\n",
    "                pred_notinwikidata_dict_fda_qualifier[pred]=\"PRX_ID_\"+pred\n",
    "              else:\n",
    "                pred_notinwikidata_dict_fda_qualifier[pred]=\"PRX_FDA_\"+pred \n",
    "              \n",
    "              pred=pred_notinwikidata_dict_fda_qualifier[pred]\n",
    "              output_row.append(pred)\n",
    "              output_row.append(\"\\\"\"+val+\"\\\"\")\n",
    "              output_rows_qrxnode_prxnode_fda_qualifier.append(output_row)\n",
    "\n",
    "#print(output_rows_qrxnode_prxnode_fda_qualifier)\n",
    "\n",
    "#Get qualifiers from QNode PRXNode FDA file\n",
    "with open('../results/fda/kgtk_triples_id/nodes/qnode_prxnode_fda_id.tsv', encoding=\"utf-8\") as f:\n",
    "    reader = csv.reader(f, delimiter='\\t')\n",
    "    \n",
    "    header_list = next(reader)\n",
    "    #print(\"Header=\", header_list)\n",
    "    \n",
    "    #umlscui_dict={}\n",
    "    #print(submisions_dict)\n",
    "    #print(products_dict)\n",
    "   \n",
    "    for row in reader:\n",
    "        \n",
    "        if row[1] in ('PRX_FDA_product_number','PRX_FDA_submission_status_date', 'PRX_FDA_active_ingredients'):\n",
    "          #print(row[0], row[2])\n",
    "          rxnode=get_key(row[0],qnode_dict_inwiki)\n",
    "          if row[1]=='PRX_FDA_product_number':\n",
    "            prodno=row[2].split('@',1)[0].replace(\"'\",\"\")\n",
    "            rxnode_key=rxnode+\"_\"+prodno\n",
    "            #print(rxnode_key)\n",
    "            if rxnode_key in products_dict:\n",
    "              product_associated_triples=products_dict[rxnode_key]\n",
    "              for val in product_associated_triples:\n",
    "                output_row=[]\n",
    "                output_row.append(row[3])\n",
    "                pred=val[1]\n",
    "                if pred in identifier_source_list:\n",
    "                  pred_notinwikidata_dict_fda_qualifier[pred]=\"PRX_ID_\"+pred\n",
    "                else:\n",
    "                  pred_notinwikidata_dict_fda_qualifier[pred]=\"PRX_FDA_\"+pred \n",
    "                \n",
    "                pred=pred_notinwikidata_dict_fda_qualifier[pred]\n",
    "                output_row.append(pred)\n",
    "                output_row.append(\"\\\"\"+val[2]+\"\\\"\")\n",
    "                output_rows_qnode_prxnode_fda_qualifier.append(output_row)\n",
    "          elif row[1]=='PRX_FDA_submission_status_date':\n",
    "            prodno=row[2].split('^',1)[1].replace(\"-\",\"\")\n",
    "            rxnode_key=rxnode+\"_\"+prodno\n",
    "            #print(rxnode_key)\n",
    "            if rxnode_key in submisions_dict:\n",
    "              sub_associated_triples=submisions_dict[rxnode_key]\n",
    "              for val in product_associated_triples:\n",
    "                output_row=[]\n",
    "                output_row.append(row[3])\n",
    "                pred=val[1]\n",
    "                if pred in identifier_source_list:\n",
    "                  pred_notinwikidata_dict_fda_qualifier[pred]=\"PRX_ID_\"+pred\n",
    "                else:\n",
    "                  pred_notinwikidata_dict_fda_qualifier[pred]=\"PRX_FDA_\"+pred \n",
    "                \n",
    "                pred=pred_notinwikidata_dict_fda_qualifier[pred]\n",
    "                output_row.append(pred)\n",
    "                output_row.append(\"\\\"\"+val[2]+\"\\\"\")\n",
    "                output_rows_qnode_prxnode_fda_qualifier.append(output_row)\n",
    "          else:\n",
    "            prodno=row[2].split('@',1)[0].replace(\"'\",\"\")\n",
    "            rxnode_key=rxnode+\"_\"+prodno\n",
    "            #print(rxnode_key)\n",
    "            if rxnode_key in active_ingredients_dict:\n",
    "              val=active_ingredients_dict[rxnode_key]\n",
    "              \n",
    "              output_row=[]\n",
    "              output_row.append(row[3])\n",
    "              pred='strength'\n",
    "              if pred in identifier_source_list:\n",
    "                pred_notinwikidata_dict_fda_qualifier[pred]=\"PRX_ID_\"+pred\n",
    "              else:\n",
    "                pred_notinwikidata_dict_fda_qualifier[pred]=\"PRX_FDA_\"+pred \n",
    "              \n",
    "              pred=pred_notinwikidata_dict_fda_qualifier[pred]\n",
    "              output_row.append(pred)\n",
    "              output_row.append(\"\\\"\"+val+\"\\\"\")\n",
    "              output_rows_qnode_prxnode_fda_qualifier.append(output_row)\n",
    "\n",
    "#print(output_rows_qnode_prxnode_fda_qualifier)\n"
   ]
  },
  {
   "cell_type": "code",
   "execution_count": null,
   "metadata": {
    "executionInfo": {
     "elapsed": 1397061,
     "status": "ok",
     "timestamp": 1608220278148,
     "user": {
      "displayName": "Vishal Lal",
      "photoUrl": "",
      "userId": "14499003186519065342"
     },
     "user_tz": 480
    },
    "id": "fIyORA30HABj"
   },
   "outputs": [],
   "source": [
    "#Write the results to FDA- QRXNode_PRXNode Qualifier file and QNode_PRXNode Qualifier File\n",
    "write_tsv(\"../results/fda/kgtk_triples/qualifiers/qrxnode_prxnode_fda_qualifier.tsv\", output_rows_qrxnode_prxnode_fda_qualifier)\n",
    "write_tsv(\"../results/fda/kgtk_triples/qualifiers/qnode_prxnode_fda_qualifier.tsv\", output_rows_qnode_prxnode_fda_qualifier)"
   ]
  },
  {
   "cell_type": "markdown",
   "metadata": {
    "id": "vUfrDNm77rve"
   },
   "source": [
    "# **Step 8B: Generate KGTK Triples for RXNORM Qualifiers**\n",
    "1. Generate KGTK Triples for Qualifiers Related to RXNORM Identifiers\n",
    "2. Get the qualifiers for 4 files:\n",
    "      QNODE_PRXNODE_QUALIFIER, QRXNODE_PRXNODE_QUALIFIER, QNODE_PNODE_QUALIFIER, QRXNODE_PNODE_QUALIFIER\n",
    "3. Write the results to these 4 files\n"
   ]
  },
  {
   "cell_type": "code",
   "execution_count": null,
   "metadata": {
    "executionInfo": {
     "elapsed": 1446874,
     "status": "ok",
     "timestamp": 1608220327970,
     "user": {
      "displayName": "Vishal Lal",
      "photoUrl": "",
      "userId": "14499003186519065342"
     },
     "user_tz": 480
    },
    "id": "unzld4DNDw-w"
   },
   "outputs": [],
   "source": [
    "#Create a list for output rows of QRXNode PRXNode RXNorm Qualifiers\n",
    "output_rows_qrxnode_prxnode_rxnorm_qualifier=[]\n",
    "#Create a list for output rows of QRXNode PNode RXNorm Qualifiers\n",
    "output_rows_qrxnode_pnode_rxnorm_qualifier=[]\n",
    "\n",
    "#Create a list for output rows of QNode PRXNode RXNORM Qualifiers\n",
    "output_rows_qnode_prxnode_rxnorm_qualifier=[]\n",
    "#Create a list for output rows of QNode PNode RXNORM Qualifiers\n",
    "output_rows_qnode_pnode_rxnorm_qualifier=[]\n",
    "\n",
    "#Get Identifier related Qualifiers from QRXNode_PRXNode RXNorm file\n",
    "with open('../results/rxnorm/kgtk_triples_id/nodes/qrxnode_prxnode_rxnorm_id.tsv', encoding=\"utf-8\") as f:\n",
    "    reader = csv.reader(f, delimiter='\\t')\n",
    "    \n",
    "    header_list = next(reader)\n",
    "    #print(\"Header=\", header_list)\n",
    "    \n",
    "    #umlscui_dict={}\n",
    "    #print(rxcui_identifier_qual_dict)\n",
    "   \n",
    "    for row in reader:\n",
    "      if row[1] in (\"PRX_ID_NDDF\", \"PRX_ID_MMSL\", \"PRX_ID_VANDF\", \"PRX_ID_MMSX\", \"PRX_ID_MTHSPL\", \"PRX_ID_GS\"):\n",
    "        #print(row[0], row[1])\n",
    "        rxnode=row[0].split('QRX',1)[1]\n",
    "        identifier=row[1].split('PRX_ID_',1)[1]\n",
    "        rxnode_key=rxnode+\"_\"+identifier\n",
    "        if rxnode_key in rxcui_identifier_qual_dict:\n",
    "          alias_list=rxcui_identifier_qual_dict[rxnode_key]\n",
    "          for val in alias_list:\n",
    "            output_row=[]\n",
    "            output_row.append(row[3])\n",
    "            output_row.append('alias')\n",
    "            output_row.append(val)\n",
    "            output_rows_qrxnode_prxnode_rxnorm_qualifier.append(output_row)\n",
    "\n",
    "#print(output_rows_qrxnode_prxnode_rxnorm_qualifier)   \n",
    "\n",
    "#Get Identifier related Qualifiers from QRXNode_PNode RXNorm file\n",
    "with open('../results/rxnorm/kgtk_triples_id/nodes/qrxnode_pnode_rxnorm_id.tsv', encoding=\"utf-8\") as f:\n",
    "    reader = csv.reader(f, delimiter='\\t')\n",
    "    \n",
    "    header_list = next(reader)\n",
    "    #print(\"Header=\", header_list)\n",
    "    \n",
    "    #umlscui_dict={}\n",
    "    #print(rxcui_identifier_qual_dict)\n",
    "   \n",
    "    for row in reader:\n",
    "      if row[1] in (\"P5806\", \"P486\", \"P715\", \"P267\"):\n",
    "        #print(row[0], row[1])\n",
    "        \n",
    "        rxnode=row[0].split('QRX',1)[1]\n",
    "        identifier=get_key(row[1], pred_wikidata_dict)\n",
    "        rxnode_key=rxnode+\"_\"+identifier\n",
    "        #print(rxnode_key)\n",
    "        if rxnode_key in rxcui_identifier_qual_dict:\n",
    "          alias_list=rxcui_identifier_qual_dict[rxnode_key]\n",
    "          for val in alias_list:\n",
    "            output_row=[]\n",
    "            output_row.append(row[3])\n",
    "            output_row.append('alias')\n",
    "            output_row.append(val)\n",
    "            output_rows_qrxnode_pnode_rxnorm_qualifier.append(output_row)\n",
    "            \n",
    "\n",
    "#print(output_rows_qrxnode_pnode_rxnorm_qualifier)   \n",
    "\n",
    "#Get Identifier related Qualifiers from QNode_PRXNode RXNorm file\n",
    "with open('../results/rxnorm/kgtk_triples_id/nodes/qnode_prxnode_rxnorm_id.tsv', encoding=\"utf-8\") as f:\n",
    "    reader = csv.reader(f, delimiter='\\t')\n",
    "    \n",
    "    header_list = next(reader)\n",
    "    #print(\"Header=\", header_list)\n",
    "    \n",
    "    #umlscui_dict={}\n",
    "    #print(rxcui_identifier_qual_dict)\n",
    "   \n",
    "    for row in reader:\n",
    "      if row[1] in (\"PRX_ID_NDDF\", \"PRX_ID_MMSL\", \"PRX_ID_VANDF\", \"PRX_ID_MMSX\", \"PRX_ID_MTHSPL\", \"PRX_ID_GS\"):\n",
    "        #print(row[0], row[1])\n",
    "        rxnode=get_key(row[0],qnode_dict_inwiki)\n",
    "        identifier=row[1].split('PRX_ID_',1)[1]\n",
    "        rxnode_key=rxnode+\"_\"+identifier\n",
    "        if rxnode_key in rxcui_identifier_qual_dict:\n",
    "          alias_list=rxcui_identifier_qual_dict[rxnode_key]\n",
    "          for val in alias_list:\n",
    "            output_row=[]\n",
    "            output_row.append(row[3])\n",
    "            output_row.append('alias')\n",
    "            output_row.append(val)\n",
    "            output_rows_qnode_prxnode_rxnorm_qualifier.append(output_row)\n",
    "\n",
    "#print(output_rows_qnode_prxnode_rxnorm_qualifier) \n",
    "\n",
    "#Get Identifier related Qualifiers from QNode_PNode RXNorm file\n",
    "with open('../results/rxnorm/kgtk_triples_id/nodes/qnode_pnode_rxnorm_id.tsv', encoding=\"utf-8\") as f:\n",
    "    reader = csv.reader(f, delimiter='\\t')\n",
    "    \n",
    "    header_list = next(reader)\n",
    "    #print(\"Header=\", header_list)\n",
    "    \n",
    "    #umlscui_dict={}\n",
    "    #print(rxcui_identifier_qual_dict)\n",
    "   \n",
    "    for row in reader:\n",
    "      if row[1] in (\"P5806\", \"P486\", \"P715\", \"P267\"):\n",
    "        #print(row[0], row[1])\n",
    "        \n",
    "        rxnode=get_key(row[0],qnode_dict_inwiki)\n",
    "        identifier=get_key(row[1], pred_wikidata_dict)\n",
    "        rxnode_key=rxnode+\"_\"+identifier\n",
    "        #print(rxnode_key)\n",
    "        if rxnode_key in rxcui_identifier_qual_dict:\n",
    "          alias_list=rxcui_identifier_qual_dict[rxnode_key]\n",
    "          for val in alias_list:\n",
    "            output_row=[]\n",
    "            output_row.append(row[3])\n",
    "            output_row.append('alias')\n",
    "            output_row.append(val)\n",
    "            output_rows_qnode_pnode_rxnorm_qualifier.append(output_row)\n",
    "            \n",
    "\n",
    "#print(output_rows_qnode_pnode_rxnorm_qualifier)"
   ]
  },
  {
   "cell_type": "code",
   "execution_count": null,
   "metadata": {
    "executionInfo": {
     "elapsed": 1552283,
     "status": "ok",
     "timestamp": 1608220433387,
     "user": {
      "displayName": "Vishal Lal",
      "photoUrl": "",
      "userId": "14499003186519065342"
     },
     "user_tz": 480
    },
    "id": "n82KJXsXV7xu"
   },
   "outputs": [],
   "source": [
    "#Write the results to RXNORM- QRXNode_PRXNode Qualifier file and QNode_PRXNode Qualifier File\n",
    "write_tsv(\"../results/rxnorm/kgtk_triples/qualifiers/qrxnode_prxnode_rxnorm_qualifier.tsv\", output_rows_qrxnode_prxnode_rxnorm_qualifier)\n",
    "write_tsv(\"../results/rxnorm/kgtk_triples/qualifiers/qnode_prxnode_rxnorm_qualifier.tsv\", output_rows_qnode_prxnode_rxnorm_qualifier)\n",
    "\n",
    "#Write the results to RXNORM- QRXNode_PNode Qualifier file and QNode_PNode Qualifier File\n",
    "write_tsv(\"../results/rxnorm/kgtk_triples/qualifiers/qrxnode_pnode_rxnorm_qualifier.tsv\", output_rows_qrxnode_pnode_rxnorm_qualifier)\n",
    "write_tsv(\"../results/rxnorm/kgtk_triples/qualifiers/qnode_pnode_rxnorm_qualifier.tsv\", output_rows_qnode_pnode_rxnorm_qualifier)"
   ]
  },
  {
   "cell_type": "markdown",
   "metadata": {
    "id": "apz-4g3Z77Wi"
   },
   "source": [
    "# **Step 8C: Generate KGTK Triples for FDA Additional PROPERTIES from Qualifiers**\n",
    "1. Generate KGTK Triples for Properties Related to FDA Properties\n",
    "2. Get the properties:<br>\n",
    "      PRXNODE_QUALIFIER_FDA<br>\n",
    "      PRXNODE_edges_QUALIFIER_FDA<br>\n",
    "      PRXNODE_datatype_QUALIFIER_FDA<br>\n",
    "3. Write the results to these 3 files\n"
   ]
  },
  {
   "cell_type": "code",
   "execution_count": null,
   "metadata": {
    "executionInfo": {
     "elapsed": 1552276,
     "status": "ok",
     "timestamp": 1608220433388,
     "user": {
      "displayName": "Vishal Lal",
      "photoUrl": "",
      "userId": "14499003186519065342"
     },
     "user_tz": 480
    },
    "id": "s8IbGuaXww_O"
   },
   "outputs": [],
   "source": [
    "#Create a list for output rows of properties related to qualifiers from FDA, properties edges and data types\n",
    "output_rows_prxnode_fda_qualifier=[]\n",
    "output_rows_prxnode_edges_fda_qualifier=[]\n",
    "output_rows_prxnode_datatype_fda_qualifier=[]\n",
    "for x in pred_notinwikidata_dict_fda_qualifier.keys():\n",
    "    \n",
    "    #print(x)\n",
    "    \n",
    "    output_row=[]\n",
    "    pred_value=pred_notinwikidata_dict_fda_qualifier[x]\n",
    "\n",
    "    #Get label\n",
    "    output_row.append(pred_value)\n",
    "    output_row.append(\"label\")\n",
    "    output_row.append(\"\\'\"+x+\"\\'\"+\"@en\")\n",
    "    output_rows_prxnode_fda_qualifier.append(output_row)\n",
    "    output_rows_prxnode_edges_fda_qualifier.append(output_row)\n",
    "    \n",
    "    output_row=[]\n",
    "    output_row.append(pred_value)\n",
    "    #Get description\n",
    "    output_row.append(\"description\")\n",
    "    output_row.append(\"\\'\"+x+\"\\'\"+\"@en\")\n",
    "    output_rows_prxnode_fda_qualifier.append(output_row)\n",
    "    output_rows_prxnode_edges_fda_qualifier.append(output_row)\n",
    "    \n",
    "    output_row=[]\n",
    "    #Get datatype\n",
    "    output_row.append(pred_value)\n",
    "    output_row.append(\"data_type\")\n",
    "    if (\"PRX_ID_\" in pred_value):\n",
    "        output_row.append(\"\\\"\"+\"external-identifier\"+\"\\\"\")\n",
    "    elif (\"PRX_FDA_\" in pred_value):\n",
    "        output_row.append(\"\\\"\"+\"string\"+\"\\\"\")\n",
    "    #output_row.append(\"\\\"String\\\"\")\n",
    "    output_rows_prxnode_fda_qualifier.append(output_row)\n",
    "    output_rows_prxnode_datatype_fda_qualifier.append(output_row)\n",
    "\n",
    "#print(output_rows_prxnode_fda_qualifier)"
   ]
  },
  {
   "cell_type": "code",
   "execution_count": null,
   "metadata": {
    "executionInfo": {
     "elapsed": 1552819,
     "status": "ok",
     "timestamp": 1608220433939,
     "user": {
      "displayName": "Vishal Lal",
      "photoUrl": "",
      "userId": "14499003186519065342"
     },
     "user_tz": 480
    },
    "id": "7q2S0bJhxwG3"
   },
   "outputs": [],
   "source": [
    "#Write the results to FDA- PRXNode Qualifier File, Edges and Datatype\n",
    "write_tsv(\"../results/fda/kgtk_triples/properties/prxnode_fda_qualifier.tsv\", output_rows_prxnode_fda_qualifier)\n",
    "write_tsv(\"../results/fda/kgtk_triples/properties/prxnode_edges_fda_qualifier.tsv\", output_rows_prxnode_edges_fda_qualifier)\n",
    "write_tsv(\"../results/fda/kgtk_triples/properties/prxnode_datatype_fda_qualifier.tsv\", output_rows_prxnode_datatype_fda_qualifier)"
   ]
  },
  {
   "cell_type": "markdown",
   "metadata": {
    "id": "1nLhPLZQ85s8"
   },
   "source": [
    "# **Step 9: Perform KGTK Transformations and Validation for RXNORM AND FDA QUALIFIERS**\n",
    "\n"
   ]
  },
  {
   "cell_type": "markdown",
   "metadata": {
    "id": "2LNICwEN9I5O"
   },
   "source": [
    "# **Step 9A: Perform KGTK Compact Transformation**\n",
    "1. Perform KGTK Compact Transformation for RXNORM Qualifiers\n",
    "2. Perform KGTK Compact Transformation for FDA Qualifiers\n",
    "3. Perform KGTK Compact Transformation for FDA Properties related to Qualifiers\n"
   ]
  },
  {
   "cell_type": "code",
   "execution_count": null,
   "metadata": {
    "colab": {
     "base_uri": "https://localhost:8080/"
    },
    "executionInfo": {
     "elapsed": 18114,
     "status": "ok",
     "timestamp": 1608221889436,
     "user": {
      "displayName": "Vishal Lal",
      "photoUrl": "",
      "userId": "14499003186519065342"
     },
     "user_tz": 480
    },
    "id": "6ohgXQrM7f49",
    "outputId": "66a6f853-3e9b-4dfb-9ecb-9f84d910530d"
   },
   "outputs": [],
   "source": [
    "#Perform KGTK Compact Transformation for RXNorm KGTK triples QUALIFIERS:\n",
    "#4 Files- QRXNode_PNode_Qualifier, QRXNode_PRXNode_Qualifier, QNode_PNode_Qualifier, QNode_PRXNode_Qualifier\n",
    "!kgtk compact -i ../results/rxnorm/kgtk_triples/qualifiers/qrxnode_pnode_rxnorm_qualifier.tsv -o ../results/rxnorm/kgtk_triples_compact/qualifiers/qrxnode_pnode_rxnorm_qualifier_compact.tsv\n",
    "!kgtk compact -i ../results/rxnorm/kgtk_triples/qualifiers/qrxnode_prxnode_rxnorm_qualifier.tsv -o ../results/rxnorm/kgtk_triples_compact/qualifiers/qrxnode_prxnode_rxnorm_qualifier_compact.tsv\n",
    "!kgtk compact -i ../results/rxnorm/kgtk_triples/qualifiers/qnode_pnode_rxnorm_qualifier.tsv -o ../results/rxnorm/kgtk_triples_compact/qualifiers/qnode_pnode_rxnorm_qualifier_compact.tsv\n",
    "!kgtk compact -i ../results/rxnorm/kgtk_triples/qualifiers/qnode_prxnode_rxnorm_qualifier.tsv -o ../results/rxnorm/kgtk_triples_compact/qualifiers/qnode_prxnode_rxnorm_qualifier_compact.tsv"
   ]
  },
  {
   "cell_type": "code",
   "execution_count": null,
   "metadata": {
    "executionInfo": {
     "elapsed": 23469,
     "status": "ok",
     "timestamp": 1608221912900,
     "user": {
      "displayName": "Vishal Lal",
      "photoUrl": "",
      "userId": "14499003186519065342"
     },
     "user_tz": 480
    },
    "id": "HirIYElj77s7"
   },
   "outputs": [],
   "source": [
    "#Perform KGTK Compact Transformation for FDA KGTK triples QUALIFIERS:\n",
    "#2 Files- QRXNode_PRXNode_Qualifier, QNode_PRXNode_Qualifier\n",
    "!kgtk compact -i ../results/fda/kgtk_triples/qualifiers/qrxnode_prxnode_fda_qualifier.tsv -o ../results/fda/kgtk_triples_compact/qualifiers/qrxnode_prxnode_fda_qualifier_compact.tsv\n",
    "!kgtk compact -i ../results/fda/kgtk_triples/qualifiers/qnode_prxnode_fda_qualifier.tsv -o ../results/fda/kgtk_triples_compact/qualifiers/qnode_prxnode_fda_qualifier_compact.tsv"
   ]
  },
  {
   "cell_type": "code",
   "execution_count": null,
   "metadata": {
    "id": "nfQu18ak8j3w"
   },
   "outputs": [],
   "source": [
    "#Perform KGTK Compact Transformation for FDA KGTK triples PROPERTIES qualifier related:\n",
    "#1 Files- PRXNode_edges Qualifier\n",
    "!kgtk compact -i ../results/fda/kgtk_triples/properties/prxnode_edges_fda_qualifier.tsv -o ../results/fda/kgtk_triples_compact/properties/prxnode_edges_fda_qualifier_compact.tsv"
   ]
  },
  {
   "cell_type": "markdown",
   "metadata": {
    "id": "7meRa5SF9bjg"
   },
   "source": [
    "# **Step 9B: Perform KGTK ADD-ID Transformation**\n",
    "1. Perform KGTK ADD-ID Transformation for RXNORM Qualifiers\n",
    "2. Perform KGTK ADD-ID Transformation for FDA Qualifiers\n",
    "3. Perform KGTK ADD-ID Transformation for FDA Properties related to Qualifiers\n"
   ]
  },
  {
   "cell_type": "code",
   "execution_count": null,
   "metadata": {
    "colab": {
     "base_uri": "https://localhost:8080/"
    },
    "executionInfo": {
     "elapsed": 5325,
     "status": "ok",
     "timestamp": 1608221919045,
     "user": {
      "displayName": "Vishal Lal",
      "photoUrl": "",
      "userId": "14499003186519065342"
     },
     "user_tz": 480
    },
    "id": "yng8KfZ49F0E",
    "outputId": "66bb2231-0008-4103-923d-742735d8f93e"
   },
   "outputs": [],
   "source": [
    "#Perform KGTK Add-id Transformation for RXNorm KGTK triples QUALIFIERS:\n",
    "#4 Files- QRXNode_PNode_Qualifier, QRXNode_PRXNode_Qualifier, QNode_PNode_Qualifier, QNode_PRXNode_Qualifier\n",
    "!kgtk add-id -i ../results/rxnorm/kgtk_triples_compact/qualifiers/qrxnode_pnode_rxnorm_qualifier_compact.tsv -o ../results/rxnorm/kgtk_triples_id/qualifiers/qrxnode_pnode_rxnorm_qualifier_id.tsv --id-style node1-label-node2-num\n",
    "!kgtk add-id -i ../results/rxnorm/kgtk_triples_compact/qualifiers/qrxnode_prxnode_rxnorm_qualifier_compact.tsv -o ../results/rxnorm/kgtk_triples_id/qualifiers/qrxnode_prxnode_rxnorm_qualifier_id.tsv --id-style node1-label-node2-num\n",
    "!kgtk add-id -i ../results/rxnorm/kgtk_triples_compact/qualifiers/qnode_pnode_rxnorm_qualifier_compact.tsv -o ../results/rxnorm/kgtk_triples_id/qualifiers/qnode_pnode_rxnorm_qualifier_id.tsv --id-style node1-label-node2-num\n",
    "!kgtk add-id -i ../results/rxnorm/kgtk_triples_compact/qualifiers/qnode_prxnode_rxnorm_qualifier_compact.tsv -o ../results/rxnorm/kgtk_triples_id/qualifiers/qnode_prxnode_rxnorm_qualifier_id.tsv --id-style node1-label-node2-num"
   ]
  },
  {
   "cell_type": "code",
   "execution_count": null,
   "metadata": {
    "executionInfo": {
     "elapsed": 8798,
     "status": "ok",
     "timestamp": 1608221927839,
     "user": {
      "displayName": "Vishal Lal",
      "photoUrl": "",
      "userId": "14499003186519065342"
     },
     "user_tz": 480
    },
    "id": "hfaW_BmU9_ff"
   },
   "outputs": [],
   "source": [
    "#Perform KGTK Add-id Transformation for FDA KGTK triples QUALIFIERS:\n",
    "#2 Files- QRXNode_PRXNode_Qualifier, QNode_PRXNode_Qualifier\n",
    "!kgtk add-id -i ../results/fda/kgtk_triples_compact/qualifiers/qrxnode_prxnode_fda_qualifier_compact.tsv -o ../results/fda/kgtk_triples_id/qualifiers/qrxnode_prxnode_fda_qualifier_id.tsv --id-style node1-label-node2-num\n",
    "!kgtk add-id -i ../results/fda/kgtk_triples_compact/qualifiers/qnode_prxnode_fda_qualifier_compact.tsv -o ../results/fda/kgtk_triples_id/qualifiers/qnode_prxnode_fda_qualifier_id.tsv --id-style node1-label-node2-num"
   ]
  },
  {
   "cell_type": "code",
   "execution_count": null,
   "metadata": {
    "id": "HBUBztWb_PhI"
   },
   "outputs": [],
   "source": [
    "#Perform KGTK Add-id Transformation for FDA KGTK triples PROPERTIES qualifier related:\n",
    "#1 Files- PRXNode_edges Qualifier\n",
    "!kgtk add-id -i ../results/fda/kgtk_triples_compact/properties/prxnode_edges_fda_qualifier_compact.tsv -o ../results/fda/kgtk_triples_id/properties/prxnode_edges_fda_qualifier_id.tsv --id-style node1-label-node2-num"
   ]
  },
  {
   "cell_type": "markdown",
   "metadata": {
    "id": "qzadeiH09hcj"
   },
   "source": [
    "# **Step 9C: Perform KGTK Validate**\n",
    "1. Perform KGTK Validate for RXNORM Qualifiers\n",
    "2. Perform KGTK Validate Transformation for FDA Qualifiers\n",
    "3. Perform KGTK Validate Transformation for FDA Properties related to Qualifiers\n"
   ]
  },
  {
   "cell_type": "code",
   "execution_count": null,
   "metadata": {
    "id": "-1x8YXn6_pqI"
   },
   "outputs": [],
   "source": [
    "#Perform KGTK Validate Operation for RXNorm KGTK triples QUALIFIERS:\n",
    "#4 Files- QRXNode_PNode_Qualifier, QRXNode_PRXNode_Qualifier, QNode_PNode_Qualifier, QNode_PRXNode_Qualifier\n",
    "!kgtk validate -i ../results/rxnorm/kgtk_triples_id/qualifiers/qrxnode_pnode_rxnorm_qualifier_id.tsv -v\n",
    "!kgtk validate -i ../results/rxnorm/kgtk_triples_id/qualifiers/qrxnode_prxnode_rxnorm_qualifier_id.tsv -v\n",
    "!kgtk validate -i ../results/rxnorm/kgtk_triples_id/qualifiers/qnode_pnode_rxnorm_qualifier_id.tsv -v\n",
    "!kgtk validate -i ../results/rxnorm/kgtk_triples_id/qualifiers/qnode_prxnode_rxnorm_qualifier_id.tsv -v"
   ]
  },
  {
   "cell_type": "code",
   "execution_count": null,
   "metadata": {
    "colab": {
     "base_uri": "https://localhost:8080/"
    },
    "executionInfo": {
     "elapsed": 36211,
     "status": "ok",
     "timestamp": 1608221975805,
     "user": {
      "displayName": "Vishal Lal",
      "photoUrl": "",
      "userId": "14499003186519065342"
     },
     "user_tz": 480
    },
    "id": "HYJyh4Pi_8hq",
    "outputId": "588d6532-2c6b-4764-f5b9-c17a4d9db59e"
   },
   "outputs": [],
   "source": [
    "#Perform KGTK Validate operation for FDA KGTK triples QUALIFIERS:\n",
    "#2 Files-  QRXNode_PRXNode_Qualifier, QNode_PRXNode_Qualifier\n",
    "!kgtk validate -i ../results/fda/kgtk_triples_id/qualifiers/qrxnode_prxnode_fda_qualifier_id.tsv -v\n",
    "!kgtk validate -i ../results/fda/kgtk_triples_id/qualifiers/qnode_prxnode_fda_qualifier_id.tsv -v"
   ]
  },
  {
   "cell_type": "code",
   "execution_count": null,
   "metadata": {
    "id": "FXxxzMOYAZHq"
   },
   "outputs": [],
   "source": [
    "#Perform KGTK Validate Operation for FDA KGTK triples PROPERTIES qualifiers:\n",
    "#1 Files- PRXNode_Qualifier\n",
    "!kgtk validate -i ../results/fda/kgtk_triples_id/properties/prxnode_edges_fda_qualifier_id.tsv -v"
   ]
  },
  {
   "cell_type": "markdown",
   "metadata": {
    "id": "ET7CS1qP917F"
   },
   "source": [
    "# **Step 10: Generate Triples for Ingestion**\n"
   ]
  },
  {
   "cell_type": "markdown",
   "metadata": {
    "id": "UCjzbZGH-DLR"
   },
   "source": [
    "# **Step 10A: Merge RXNORM KGTK Triples for Edges and Property-DataType**\n",
    "1. Perform KGTK Concatenate Transformation for RXNorm KGTK triples- NODES edges:<br>\n",
    "4 Files- QRXNode_PNode, QRXNode_PRXNode, QNode_PNode, QNode_PRXNode\n",
    "2. Perform KGTK Concatenate Transformation for RXNorm KGTK triples- QUALIFIERS edges:<br>\n",
    "4 Files- QRXNode_PNode_Qualifier, QRXNode_PRXNode_Qualifier, QNode_PNode_Qualifier, QNode_PRXNode_Qualifier\n",
    "3. Perform KGTK Concatenate Transformation for RXNorm KGTK triples- PROPERTIES edges:<br>\n",
    "1 Files- PRXNode_edges\n",
    "4. Perform KGTK Concatenate Transformation for RXNorm KGTK triples- PPROPERTIES datatype:<br>\n",
    "1 Files- PRXNode_datatype\n"
   ]
  },
  {
   "cell_type": "code",
   "execution_count": null,
   "metadata": {
    "executionInfo": {
     "elapsed": 4637,
     "status": "ok",
     "timestamp": 1608222026844,
     "user": {
      "displayName": "Vishal Lal",
      "photoUrl": "",
      "userId": "14499003186519065342"
     },
     "user_tz": 480
    },
    "id": "ib7vkMjtAhYc"
   },
   "outputs": [],
   "source": [
    "#Perform KGTK Concatenate Transformation for RXNorm KGTK triples- NODES edges:\n",
    "#4 Files- QRXNode_PNode, QRXNode_PRXNode, QNode_PNode, QNode_PRXNode\n",
    "!kgtk cat -i ../results/rxnorm/kgtk_triples_id/nodes/qrxnode_pnode_rxnorm_id.tsv ../results/rxnorm/kgtk_triples_id/nodes/qrxnode_prxnode_rxnorm_id.tsv ../results/rxnorm/kgtk_triples_id/nodes/qnode_pnode_rxnorm_id.tsv ../results/rxnorm/kgtk_triples_id/nodes/qnode_prxnode_rxnorm_id.tsv -o ../results/rxnorm/kgtk_merged/nodes_edges_merged_rxnorm.tsv"
   ]
  },
  {
   "cell_type": "code",
   "execution_count": null,
   "metadata": {
    "executionInfo": {
     "elapsed": 2580,
     "status": "ok",
     "timestamp": 1608222029420,
     "user": {
      "displayName": "Vishal Lal",
      "photoUrl": "",
      "userId": "14499003186519065342"
     },
     "user_tz": 480
    },
    "id": "Lju6pKyyDSEy"
   },
   "outputs": [],
   "source": [
    "#Perform KGTK Concatenate Transformation for RXNorm KGTK triples- QUALIFIERS edges:\n",
    "#4 Files- QRXNode_PNode_Qualifier, QRXNode_PRXNode_Qualifier, QNode_PNode_Qualifier, QNode_PRXNode_Qualifier\n",
    "!kgtk cat -i ../results/rxnorm/kgtk_triples_id/qualifiers/qrxnode_pnode_rxnorm_qualifier_id.tsv ../results/rxnorm/kgtk_triples_id/qualifiers/qrxnode_prxnode_rxnorm_qualifier_id.tsv ../results/rxnorm/kgtk_triples_id/qualifiers/qnode_pnode_rxnorm_qualifier_id.tsv ../results/rxnorm/kgtk_triples_id/qualifiers/qnode_prxnode_rxnorm_qualifier_id.tsv -o ../results/rxnorm/kgtk_merged/qualifiers_edges_merged_rxnorm.tsv"
   ]
  },
  {
   "cell_type": "code",
   "execution_count": null,
   "metadata": {
    "executionInfo": {
     "elapsed": 1463,
     "status": "ok",
     "timestamp": 1608222030879,
     "user": {
      "displayName": "Vishal Lal",
      "photoUrl": "",
      "userId": "14499003186519065342"
     },
     "user_tz": 480
    },
    "id": "0QDEaGM4EtX5"
   },
   "outputs": [],
   "source": [
    "#Perform KGTK Concatenate Transformation for RXNorm KGTK triples- PROPERTIES edges and PROPERTIES datatype:\n",
    "#1 Files- PRXNode\n",
    "!kgtk cat -i ../results/rxnorm/kgtk_triples_id/properties/prxnode_edges_rxnorm_id.tsv -o ../results/rxnorm/kgtk_merged/properties_edges_merged_rxnorm.tsv\n",
    "!kgtk cat -i ../results/rxnorm/kgtk_triples/properties/prxnode_datatype_rxnorm.tsv -o ../results/rxnorm/kgtk_merged/properties_datatype_merged_rxnorm.tsv"
   ]
  },
  {
   "cell_type": "markdown",
   "metadata": {
    "id": "5U4aF3if_CVj"
   },
   "source": [
    "# **Step 10B: Merge FDA KGTK Triples for Edges and Property-DataType**\n",
    "1. Perform KGTK Concatenate Transformation for FDA KGTK triples- NODES edges:<br>\n",
    "4 Files- QRXNode_PNode, QRXNode_PRXNode, QNode_PNode, QNode_PRXNode\n",
    "2. Perform KGTK Concatenate Transformation for FDA KGTK triples- QUALIFIERS edges:<br>\n",
    "4 Files- QRXNode_PNode_Qualifier, QRXNode_PRXNode_Qualifier, QNode_PNode_Qualifier, QNode_PRXNode_Qualifier\n",
    "3. Perform KGTK Concatenate Transformation for FDA KGTK triples- PROPERTIES edges:<br>\n",
    "2 Files- PRXNode_edges, PRXNode_edges_Qualifier\n",
    "4. Perform KGTK Concatenate Transformation for FDA KGTK triples- PPROPERTIES datatype:<br>\n",
    "2 Files- PRXNode_datatype, PRXNode_datatype_Qualifier"
   ]
  },
  {
   "cell_type": "code",
   "execution_count": null,
   "metadata": {
    "executionInfo": {
     "elapsed": 53191,
     "status": "ok",
     "timestamp": 1608222084066,
     "user": {
      "displayName": "Vishal Lal",
      "photoUrl": "",
      "userId": "14499003186519065342"
     },
     "user_tz": 480
    },
    "id": "DpIMYK__CjwA"
   },
   "outputs": [],
   "source": [
    "#Perform KGTK Concatenate Transformation for FDA KGTK triples- NODES edges:\n",
    "#4 Files- QRXNode_PNode, QRXNode_PRXNode, QNode_PNode, QNode_PRXNode\n",
    "!kgtk cat -i ../results/fda/kgtk_triples_id/nodes/qrxnode_pnode_fda_id.tsv ../results/fda/kgtk_triples_id/nodes/qrxnode_prxnode_fda_id.tsv ../results/fda/kgtk_triples_id/nodes/qnode_pnode_fda_id.tsv ../results/fda/kgtk_triples_id/nodes/qnode_prxnode_fda_id.tsv -o ../results/fda/kgtk_merged/nodes_edges_merged_fda.tsv"
   ]
  },
  {
   "cell_type": "code",
   "execution_count": null,
   "metadata": {
    "executionInfo": {
     "elapsed": 13953,
     "status": "ok",
     "timestamp": 1608222098010,
     "user": {
      "displayName": "Vishal Lal",
      "photoUrl": "",
      "userId": "14499003186519065342"
     },
     "user_tz": 480
    },
    "id": "ECCxa9KkEQ3Y"
   },
   "outputs": [],
   "source": [
    "#Perform KGTK Concatenate Transformation for FDA KGTK triples- QUALIFIERS edges:\n",
    "#4 Files- QRXNode_PNode_Qualifier, QRXNode_PRXNode_Qualifier, QNode_PNode_Qualifier, QNode_PRXNode_Qualifier\n",
    "!kgtk cat -i ../results/fda/kgtk_triples_id/qualifiers/qrxnode_prxnode_fda_qualifier_id.tsv ../results/fda/kgtk_triples_id/qualifiers/qnode_prxnode_fda_qualifier_id.tsv -o ../results/fda/kgtk_merged/qualifiers_edges_merged_fda.tsv"
   ]
  },
  {
   "cell_type": "code",
   "execution_count": null,
   "metadata": {
    "executionInfo": {
     "elapsed": 3032,
     "status": "ok",
     "timestamp": 1608222101038,
     "user": {
      "displayName": "Vishal Lal",
      "photoUrl": "",
      "userId": "14499003186519065342"
     },
     "user_tz": 480
    },
    "id": "frTSmIanE6TO"
   },
   "outputs": [],
   "source": [
    "#Perform KGTK Concatenate Transformation for FDA KGTK triples- PROPERTIES edges and PROPERTIES datatype:\n",
    "#2 Files- PRXNode, PRXNode_Qualifier\n",
    "!kgtk cat -i ../results/fda/kgtk_triples_id/properties/prxnode_edges_fda_id.tsv ../results/fda/kgtk_triples_id/properties/prxnode_edges_fda_qualifier_id.tsv -o ../results/fda/kgtk_merged/properties_edges_merged_fda.tsv\n",
    "!kgtk cat -i ../results/fda/kgtk_triples/properties/prxnode_datatype_fda.tsv ../results/fda/kgtk_triples/properties/prxnode_datatype_fda_qualifier.tsv -o ../results/fda/kgtk_merged/properties_datatype_merged_fda.tsv"
   ]
  },
  {
   "cell_type": "markdown",
   "metadata": {
    "id": "JRamfZ4e_odK"
   },
   "source": [
    "# **Step 10C: Merge RXNORM All Edges and FDA All Edges [Nodes+Properties+Qualifiers]**\n",
    "1. Perform KGTK Concatenate Transformation for RXNROM KGTK triples- ALL edges:<br>\n",
    "3 Files- NODES_EDGES, PROPERTIES_EDGES and QUALFIERS_EDGES\n",
    "2. Perform KGTK Concatenate Transformation for FDA KGTK triples- ALL edges:<br>\n",
    "3 Files- NODES_EDGES, PROPERTIES_EDGES and QUALFIERS_EDGES"
   ]
  },
  {
   "cell_type": "code",
   "execution_count": null,
   "metadata": {
    "executionInfo": {
     "elapsed": 61704,
     "status": "ok",
     "timestamp": 1608222162739,
     "user": {
      "displayName": "Vishal Lal",
      "photoUrl": "",
      "userId": "14499003186519065342"
     },
     "user_tz": 480
    },
    "id": "j0KWr9aWFhut"
   },
   "outputs": [],
   "source": [
    "#Perform KGTK Concatenate Transformation for RXNorm KGTK triples- NODES edges, PROPERTIES edges and QUALIFIERS edges:\n",
    "#3 Files- Node_Edges_Merged, Properties_Edges_Merged, Qualifiers_Edges_Merged\n",
    "!kgtk cat -i ../results/rxnorm/kgtk_merged/nodes_edges_merged_rxnorm.tsv ../results/rxnorm/kgtk_merged/properties_edges_merged_rxnorm.tsv ../results/rxnorm/kgtk_merged/qualifiers_edges_merged_rxnorm.tsv -o ../results/merged_ingestion/intermediate/nodes_properties_qualifiers_alledges_rxnorm.tsv"
   ]
  },
  {
   "cell_type": "code",
   "execution_count": null,
   "metadata": {
    "executionInfo": {
     "elapsed": 61272,
     "status": "ok",
     "timestamp": 1608222224002,
     "user": {
      "displayName": "Vishal Lal",
      "photoUrl": "",
      "userId": "14499003186519065342"
     },
     "user_tz": 480
    },
    "id": "ix2Y8yxdG1Xn"
   },
   "outputs": [],
   "source": [
    "#Perform KGTK Concatenate Transformation for FDA KGTK triples- NODES edges, PROPERTIES edges and QUALIFIERS edges:\n",
    "#3 Files- Node_Edges_Merged, Properties_Edges_Merged, Qualifiers_Edges_Merged\n",
    "!kgtk cat -i ../results/fda/kgtk_merged/nodes_edges_merged_fda.tsv ../results/fda/kgtk_merged/properties_edges_merged_fda.tsv ../results/fda/kgtk_merged/qualifiers_edges_merged_fda.tsv -o ../results/merged_ingestion/intermediate/nodes_properties_qualifiers_alledges_fda.tsv"
   ]
  },
  {
   "cell_type": "markdown",
   "metadata": {
    "id": "wVwuOxYyAUlW"
   },
   "source": [
    "# **Step 10D: FINAL Merge for RXNORM+FDA Combined- ALL Edges AND Property DataType**\n",
    "1. Perform KGTK Concatenate Transformation for ALL edges:<br>\n",
    "2 Files- ALLEDGES_RXNORM, ALLEDGES_FDA\n",
    "2. Perform KGTK Concatenate Transformation for ALL Property DataType:<br>\n",
    "2 Files- PRXNODE_DATATYPE_RXNORM, PRXNODE_DATATYPE_FDA"
   ]
  },
  {
   "cell_type": "code",
   "execution_count": null,
   "metadata": {
    "executionInfo": {
     "elapsed": 1081,
     "status": "ok",
     "timestamp": 1608222225073,
     "user": {
      "displayName": "Vishal Lal",
      "photoUrl": "",
      "userId": "14499003186519065342"
     },
     "user_tz": 480
    },
    "id": "vafFCHOBHX9T"
   },
   "outputs": [],
   "source": [
    "#Perform FINAL KGTK Concatenate Transformation for Merged KGTK triples- RXNORM ALL Datatypes and FDA ALL Datatypes:\n",
    "#2 Files- RXNorm_Properties_Merged, FDA_Properties_Merged\n",
    "!kgtk cat -i ../results/rxnorm/kgtk_merged/properties_datatype_merged_rxnorm.tsv ../results/fda/kgtk_merged/properties_datatype_merged_fda.tsv -o ../results/merged_ingestion/final/properties_datatype_merged.tsv"
   ]
  },
  {
   "cell_type": "code",
   "execution_count": null,
   "metadata": {
    "executionInfo": {
     "elapsed": 124680,
     "status": "ok",
     "timestamp": 1608222349749,
     "user": {
      "displayName": "Vishal Lal",
      "photoUrl": "",
      "userId": "14499003186519065342"
     },
     "user_tz": 480
    },
    "id": "64_HLY4MHz3x"
   },
   "outputs": [],
   "source": [
    "#Perform FINAL KGTK Concatenate Transformation for Merged KGTK triples- RXNORM ALL Edges and FDA ALL Edges:\n",
    "#2 Files- RXNorm_AllEdges_Merged, FDA_AllEdges_Merged\n",
    "!kgtk cat -i ../results/merged_ingestion/intermediate/nodes_properties_qualifiers_alledges_rxnorm.tsv ../results/merged_ingestion/intermediate/nodes_properties_qualifiers_alledges_fda.tsv -o ../results/merged_ingestion/final/nodes_properties_qualifiers_alledges_merged.tsv"
   ]
  }
 ],
 "metadata": {
  "accelerator": "GPU",
  "celltoolbar": "Tags",
  "colab": {
   "collapsed_sections": [],
   "name": "generate_triples_rxnorm_fda.ipynb",
   "provenance": []
  },
  "kernelspec": {
   "display_name": "Python 3",
   "language": "python",
   "name": "python3"
  },
  "language_info": {
   "codemirror_mode": {
    "name": "ipython",
    "version": 3
   },
   "file_extension": ".py",
   "mimetype": "text/x-python",
   "name": "python",
   "nbconvert_exporter": "python",
   "pygments_lexer": "ipython3",
   "version": "3.7.3"
  }
 },
 "nbformat": 4,
 "nbformat_minor": 1
}
