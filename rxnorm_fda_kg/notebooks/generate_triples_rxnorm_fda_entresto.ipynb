{
 "cells": [
  {
   "cell_type": "code",
   "execution_count": null,
   "metadata": {
    "colab": {
     "base_uri": "https://localhost:8080/"
    },
    "executionInfo": {
     "elapsed": 5121,
     "status": "ok",
     "timestamp": 1608101194136,
     "user": {
      "displayName": "Vishal Lal",
      "photoUrl": "",
      "userId": "14499003186519065342"
     },
     "user_tz": 480
    },
    "id": "aSjC5BQhv9JT",
    "outputId": "6f92f61b-e228-4476-95a8-1c3d3b91429a"
   },
   "outputs": [],
   "source": [
    "!pip install kgtk"
   ]
  },
  {
   "cell_type": "code",
   "execution_count": null,
   "metadata": {
    "colab": {
     "base_uri": "https://localhost:8080/"
    },
    "executionInfo": {
     "elapsed": 5108,
     "status": "ok",
     "timestamp": 1608101194137,
     "user": {
      "displayName": "Vishal Lal",
      "photoUrl": "",
      "userId": "14499003186519065342"
     },
     "user_tz": 480
    },
    "id": "FyYK5QrJwEfW",
    "outputId": "69d572ca-cce9-4299-f28d-b64a9aac7b1a"
   },
   "outputs": [],
   "source": [
    "cd sample_data/"
   ]
  },
  {
   "cell_type": "code",
   "execution_count": null,
   "metadata": {
    "colab": {
     "base_uri": "https://localhost:8080/"
    },
    "executionInfo": {
     "elapsed": 5099,
     "status": "ok",
     "timestamp": 1608101194138,
     "user": {
      "displayName": "Vishal Lal",
      "photoUrl": "",
      "userId": "14499003186519065342"
     },
     "user_tz": 480
    },
    "id": "a9kvqWTbwQ1r",
    "outputId": "c91a12d4-c734-4b39-abcc-6c774b756a31"
   },
   "outputs": [],
   "source": [
    "from google.colab import drive\n",
    "drive.mount('/content/drive')"
   ]
  },
  {
   "cell_type": "code",
   "execution_count": null,
   "metadata": {
    "colab": {
     "base_uri": "https://localhost:8080/"
    },
    "executionInfo": {
     "elapsed": 5089,
     "status": "ok",
     "timestamp": 1608101194139,
     "user": {
      "displayName": "Vishal Lal",
      "photoUrl": "",
      "userId": "14499003186519065342"
     },
     "user_tz": 480
    },
    "id": "s4vL-qI5wRti",
    "outputId": "ce817d0f-c186-4635-9a68-631149e2c149"
   },
   "outputs": [],
   "source": [
    "cd ../drive/MyDrive/Colab\\ Notebooks/rxnorm_fda_kg/notebooks"
   ]
  },
  {
   "cell_type": "code",
   "execution_count": null,
   "metadata": {
    "executionInfo": {
     "elapsed": 5080,
     "status": "ok",
     "timestamp": 1608101194140,
     "user": {
      "displayName": "Vishal Lal",
      "photoUrl": "",
      "userId": "14499003186519065342"
     },
     "user_tz": 480
    },
    "id": "QrAzo65lvxxc"
   },
   "outputs": [],
   "source": [
    "import csv\n",
    "import json\n",
    "from SPARQLWrapper import SPARQLWrapper, JSON\n",
    "import sys\n",
    "import re"
   ]
  },
  {
   "cell_type": "code",
   "execution_count": null,
   "metadata": {
    "executionInfo": {
     "elapsed": 5074,
     "status": "ok",
     "timestamp": 1608101194140,
     "user": {
      "displayName": "Vishal Lal",
      "photoUrl": "",
      "userId": "14499003186519065342"
     },
     "user_tz": 480
    },
    "id": "Tr3dQhAlPMOC"
   },
   "outputs": [],
   "source": [
    "def write_tsv(file_name, data_lists):\n",
    "\twith open(file_name, \"w\", encoding=\"utf-8\") as f:\n",
    "\t\tf.write(\"node1\\tlabel\\tnode2\\n\")\n",
    "\t\tfor data in data_lists:\n",
    "\t\t\tline = \"\\t\".join(data)\n",
    "\t\t\tline += \"\\n\"\n",
    "\t\t\tf.write(line)"
   ]
  },
  {
   "cell_type": "code",
   "execution_count": null,
   "metadata": {
    "executionInfo": {
     "elapsed": 5068,
     "status": "ok",
     "timestamp": 1608101194140,
     "user": {
      "displayName": "Vishal Lal",
      "photoUrl": "",
      "userId": "14499003186519065342"
     },
     "user_tz": 480
    },
    "id": "FGjcyhuzPQse"
   },
   "outputs": [],
   "source": [
    "subject_list= ['1656341', '317541', '69749', '1656328', '1656339', '1656346', '1656351', '1656356', '1656342', '1656350', '1656355', '1656343', '1656340', '1656349', '1656354', '1656334', '1656335', '1656347', '1656348', '1656352', '1656353', '1656338', '1656336', '1656337', '1656344', '1656345', '1151131', '1151133']"
   ]
  },
  {
   "cell_type": "code",
   "execution_count": null,
   "metadata": {
    "executionInfo": {
     "elapsed": 5063,
     "status": "ok",
     "timestamp": 1608101194141,
     "user": {
      "displayName": "Vishal Lal",
      "photoUrl": "",
      "userId": "14499003186519065342"
     },
     "user_tz": 480
    },
    "id": "5zG3AHT7PWJ8"
   },
   "outputs": [],
   "source": [
    "triples_all=[]"
   ]
  },
  {
   "cell_type": "code",
   "execution_count": null,
   "metadata": {
    "colab": {
     "base_uri": "https://localhost:8080/"
    },
    "executionInfo": {
     "elapsed": 8841,
     "status": "ok",
     "timestamp": 1608101197925,
     "user": {
      "displayName": "Vishal Lal",
      "photoUrl": "",
      "userId": "14499003186519065342"
     },
     "user_tz": 480
    },
    "id": "JTRhtc-OPYs3",
    "outputId": "615e1e65-101d-427e-d953-1c2d1d54ad73"
   },
   "outputs": [],
   "source": [
    "rxcui_tty_dict={}\n",
    "rxcui_identifier_qual_dict={}\n",
    "with open('../data/rxnorm/rxnconso.csv', encoding=\"utf-8\") as f:\n",
    "    reader = csv.reader(f)\n",
    "    \n",
    "    header_list = next(reader)\n",
    "    print(\"Header=\", header_list)\n",
    "    \n",
    "    \n",
    "    for row in reader:\n",
    "        triples=[]\n",
    "        \n",
    "        if row[0] in subject_list and row[11] != 'RXNORM':\n",
    "        #if row[11] != 'RXNORM':\n",
    "            #print(\"Subject Identifier=\",row[0])\n",
    "            triples.append(\"\\\"\"+row[0]+\"\\\"\")\n",
    "            triples.append(row[11])\n",
    "            triples.append(\"\\\"\"+row[13]+\"\\\"\")\n",
    "            rxcui_identifier_qual_dict_key=row[0]+\"_\"+row[11]\n",
    "            if rxcui_identifier_qual_dict_key not in rxcui_identifier_qual_dict:\n",
    "              rxcui_identifier_qual_dict[rxcui_identifier_qual_dict_key]=[]\n",
    "              rxcui_identifier_qual_dict[rxcui_identifier_qual_dict_key].append(str(row[14]))\n",
    "            else:\n",
    "              rxcui_identifier_qual_dict[rxcui_identifier_qual_dict_key].append(str(row[14]))\n",
    "            triples_all.append(triples)\n",
    "                #print(row[0], row[11], row[13])\n",
    "        triples_lang=[]\n",
    "        triples_rxcui=[]\n",
    "        triples_tty=[]\n",
    "        triples_name=[]\n",
    "        triples_suppress=[]\n",
    "        triples_synonym=[]\n",
    "        \n",
    "        if row[0] in subject_list and row[11] == 'RXNORM' and row[12] not in ('SY', 'TMSY', 'PSN'):\n",
    "        #if row[11] == 'RXNORM' and row[12] not in ('SY', 'TMSY', 'PSN'):\n",
    "            #print(\"Subject Triples=\",row[0])\n",
    "            triples_lang.append(\"\\\"\"+row[0]+\"\\\"\")\n",
    "            triples_lang.append(\"language\")\n",
    "            triples_lang.append(\"\\\"\"+row[1]+\"\\\"\")\n",
    "            \n",
    "            triples_rxcui.append(\"\\\"\"+row[0]+\"\\\"\")\n",
    "            triples_rxcui.append(\"rxcui\")\n",
    "            triples_rxcui.append(\"\\\"\"+row[13]+\"\\\"\")\n",
    "            \n",
    "            triples_tty.append(\"\\\"\"+row[0]+\"\\\"\")\n",
    "            triples_tty.append(\"tty\")\n",
    "            triples_tty.append(\"\\\"\"+row[12]+\"\\\"\")\n",
    "            rxcui_tty_dict[row[0]]=row[12]\n",
    "            \n",
    "            triples_name.append(\"\\\"\"+row[0]+\"\\\"\")\n",
    "            triples_name.append(\"name\")\n",
    "            triples_name.append(\"\\\"\"+row[14]+\"\\\"\")\n",
    "            \n",
    "            triples_suppress.append(\"\\\"\"+row[0]+\"\\\"\")\n",
    "            triples_suppress.append(\"suppress\")\n",
    "            triples_suppress.append(\"\\\"\"+row[16]+\"\\\"\")\n",
    "            \n",
    "            if triples_lang != []:\n",
    "                triples_all.append(triples_lang)\n",
    "            if triples_rxcui != []:\n",
    "                triples_all.append(triples_rxcui)\n",
    "            if triples_tty != []:\n",
    "                triples_all.append(triples_tty)\n",
    "            if triples_name != []:\n",
    "                triples_all.append(triples_name)\n",
    "            if triples_suppress !=[]:\n",
    "                triples_all.append(triples_suppress)\n",
    "        \n",
    "        if row[0] in subject_list and row[11] == 'RXNORM' and row[12] in ('SY', 'TMSY', 'PSN'):\n",
    "        #if row[11] == 'RXNORM' and row[12] in ('SY', 'TMSY', 'PSN'):\n",
    "            #print(\"Subject Triples=\",row[0])\n",
    "            triples_synonym.append(\"\\\"\"+row[0]+\"\\\"\")\n",
    "            triples_synonym.append(\"synonym\")\n",
    "            triples_synonym.append(\"\\\"\"+row[14]+\"\\\"\")\n",
    "            if triples_synonym !=[]:\n",
    "                triples_all.append(triples_synonym)\n",
    "\n",
    "print(\"Added Triples from RXNCONSO\")"
   ]
  },
  {
   "cell_type": "code",
   "execution_count": null,
   "metadata": {
    "executionInfo": {
     "elapsed": 8830,
     "status": "ok",
     "timestamp": 1608101197925,
     "user": {
      "displayName": "Vishal Lal",
      "photoUrl": "",
      "userId": "14499003186519065342"
     },
     "user_tz": 480
    },
    "id": "Xjmc_GM7R0tn"
   },
   "outputs": [],
   "source": [
    "write_tsv('../results/rxnorm/intermediate_triples/rxnorm_triples.tsv', triples_all)"
   ]
  },
  {
   "cell_type": "code",
   "execution_count": null,
   "metadata": {
    "colab": {
     "base_uri": "https://localhost:8080/"
    },
    "executionInfo": {
     "elapsed": 12096,
     "status": "ok",
     "timestamp": 1608101201197,
     "user": {
      "displayName": "Vishal Lal",
      "photoUrl": "",
      "userId": "14499003186519065342"
     },
     "user_tz": 480
    },
    "id": "LwLCaJ1PS7JZ",
    "outputId": "3b86a3f0-2706-4496-e84c-72de0d477914"
   },
   "outputs": [],
   "source": [
    "rxcui_rel_dict={}\n",
    "with open('../data/rxnorm/rxnrel.csv', encoding=\"utf-8\") as f:\n",
    "    reader = csv.reader(f)\n",
    "    \n",
    "    header_list = next(reader)\n",
    "    print(\"Header=\", header_list)\n",
    "    \n",
    "    \n",
    "    for row in reader:\n",
    "        triples=[]\n",
    "        \n",
    "        if row[2]=='AUI':\n",
    "            break\n",
    "        x=row[4].split(\".\",1)[0]\n",
    "    \n",
    "        if x in subject_list and row[2]=='CUI' and row[6]=='CUI':\n",
    "        #if row[2]=='CUI' and row[6]=='CUI':\n",
    "            subject=x\n",
    "            #print(\"Subject Rel=\",x)\n",
    "            triples.append(\"\\\"\"+subject+\"\\\"\")\n",
    "            triples.append(row[7])\n",
    "            obj=row[0].split(\".\",1)[0]\n",
    "            triples.append(\"\\\"\"+obj+\"\\\"\")\n",
    "            if subject not in rxcui_rel_dict:\n",
    "                 rxcui_rel_dict[subject]=[]\n",
    "                 rxcui_rel_dict[subject].append([row[7],obj])\n",
    "            else:\n",
    "                rxcui_rel_dict[subject].append([row[7],obj])\n",
    "            #rxcui_rel_dict[subject].add(obj)\n",
    "            triples_all.append(triples)\n",
    "           # print(row[4], row[7], row[0])\n",
    "print(\"Added Triples from RXNREL\")"
   ]
  },
  {
   "cell_type": "code",
   "execution_count": null,
   "metadata": {
    "executionInfo": {
     "elapsed": 12085,
     "status": "ok",
     "timestamp": 1608101201198,
     "user": {
      "displayName": "Vishal Lal",
      "photoUrl": "",
      "userId": "14499003186519065342"
     },
     "user_tz": 480
    },
    "id": "cBtFFF4gTLMi"
   },
   "outputs": [],
   "source": [
    "write_tsv('../results/rxnorm/intermediate_triples/rxnorm_triples.tsv', triples_all)"
   ]
  },
  {
   "cell_type": "code",
   "execution_count": null,
   "metadata": {
    "executionInfo": {
     "elapsed": 12079,
     "status": "ok",
     "timestamp": 1608101201199,
     "user": {
      "displayName": "Vishal Lal",
      "photoUrl": "",
      "userId": "14499003186519065342"
     },
     "user_tz": 480
    },
    "id": "B6KtpaFfTPKK"
   },
   "outputs": [],
   "source": [
    "ndc11_dict={}\n",
    "ndc2seg_dict={}\n",
    "ndc3seg_dict={}\n",
    "spl_setid_dict={}\n",
    "application_dict={}"
   ]
  },
  {
   "cell_type": "code",
   "execution_count": null,
   "metadata": {
    "colab": {
     "base_uri": "https://localhost:8080/"
    },
    "executionInfo": {
     "elapsed": 27284,
     "status": "ok",
     "timestamp": 1608101216409,
     "user": {
      "displayName": "Vishal Lal",
      "photoUrl": "",
      "userId": "14499003186519065342"
     },
     "user_tz": 480
    },
    "id": "vsKQ7qlpTTbK",
    "outputId": "cceaa357-1154-4252-9caf-99ec36b5c458"
   },
   "outputs": [],
   "source": [
    "with open('../data/rxnorm/rxnsat.csv', encoding=\"utf-8\") as f:\n",
    "    reader = csv.reader(f)\n",
    "    \n",
    "    header_list = next(reader)\n",
    "    print(\"Header=\", header_list)\n",
    "    \n",
    "    \n",
    "    for row in reader:\n",
    "        \n",
    "          \n",
    "        if row[0] in subject_list and ((row[9]== 'RXNORM') or row[8] in ('NDC', 'SPL_SET_ID', 'NDA', 'ANDA')):\n",
    "        #if row[9]== 'RXNORM' and row[8] in ('NDC', 'UMLSCUI'):\n",
    "            #print(\"Subject SAT=\",row[0])\n",
    "            \n",
    "            counter = row[10].count('-') \n",
    "            if row[8] =='NDC':\n",
    "                if counter==0:\n",
    "                    ndc11_dict[row[10]]=row[0]\n",
    "                    triples=[]\n",
    "                    triples.append(\"\\\"\"+row[0]+\"\\\"\")\n",
    "                    triples.append(row[8])\n",
    "                    triples.append(\"\\\"\"+row[10]+\"\\\"\")\n",
    "                    triples_all.append(triples)\n",
    "                    \n",
    "                elif counter==1:\n",
    "                    ndc2seg_dict[row[10]]=row[0]\n",
    "                    triples=[]\n",
    "                    triples.append(\"\\\"\"+row[0]+\"\\\"\")\n",
    "                    triples.append(\"NDC 2 Segment\")\n",
    "                    triples.append(\"\\\"\"+row[10]+\"\\\"\")\n",
    "                    triples_all.append(triples)\n",
    "                elif counter==2:\n",
    "                    ndc3seg_dict[row[10]]=row[0]\n",
    "                    triples=[]\n",
    "                    triples.append(\"\\\"\"+row[0]+\"\\\"\")\n",
    "                    triples.append(\"NDC 3 Segment\")\n",
    "                    triples.append(\"\\\"\"+row[10]+\"\\\"\")\n",
    "                    triples_all.append(triples)\n",
    "                    \n",
    "                    ndc2seg='-'.join(row[10].split('-')[0:2])\n",
    "                    ndc2seg_dict[ndc2seg]=row[0]\n",
    "                    triples=[]\n",
    "                    triples.append(\"\\\"\"+row[0]+\"\\\"\")\n",
    "                    triples.append(\"NDC 2 Segment\")\n",
    "                    triples.append(\"\\\"\"+ndc2seg+\"\\\"\")\n",
    "                    triples_all.append(triples)\n",
    "            elif row[8] in ('NDA', 'ANDA'):\n",
    "                application_dict[row[10]]=row[0]\n",
    "                triples=[]\n",
    "                triples.append(\"\\\"\"+row[0]+\"\\\"\")\n",
    "                triples.append(\"DrugsFDA Application Number\")\n",
    "                triples.append(\"\\\"\"+row[10]+\"\\\"\")\n",
    "                triples_all.append(triples)\n",
    "            elif row[8] in ('SPL_SET_ID'):\n",
    "                \n",
    "                spl_setid_dict[row[10]]=row[0]\n",
    "                triples=[]\n",
    "                triples.append(\"\\\"\"+row[0]+\"\\\"\")\n",
    "                triples.append(row[8])\n",
    "                triples.append(\"\\\"\"+row[10]+\"\\\"\")\n",
    "                triples_all.append(triples)\n",
    "            else:\n",
    "                triples=[]\n",
    "                triples.append(\"\\\"\"+row[0]+\"\\\"\")\n",
    "                triples.append(row[8])\n",
    "                triples.append(\"\\\"\"+row[10]+\"\\\"\")\n",
    "                triples_all.append(triples)\n",
    "print(\"Added Triples from RXNSAT\")"
   ]
  },
  {
   "cell_type": "code",
   "execution_count": null,
   "metadata": {
    "executionInfo": {
     "elapsed": 27272,
     "status": "ok",
     "timestamp": 1608101216410,
     "user": {
      "displayName": "Vishal Lal",
      "photoUrl": "",
      "userId": "14499003186519065342"
     },
     "user_tz": 480
    },
    "id": "Mto9UMTHThtr"
   },
   "outputs": [],
   "source": [
    "write_tsv('../results/rxnorm/intermediate_triples/rxnorm_triples.tsv', triples_all)"
   ]
  },
  {
   "cell_type": "code",
   "execution_count": null,
   "metadata": {
    "executionInfo": {
     "elapsed": 27266,
     "status": "ok",
     "timestamp": 1608101216411,
     "user": {
      "displayName": "Vishal Lal",
      "photoUrl": "",
      "userId": "14499003186519065342"
     },
     "user_tz": 480
    },
    "id": "PmFJqRPdTkpS"
   },
   "outputs": [],
   "source": [
    "identifier_source_list=[\n",
    "\"USP\"\n",
    ",\"GS\"\n",
    ",\"SNOMEDCT_US\"\n",
    ",\"VANDF\"\n",
    ",\"MTHSPL\"\n",
    ",\"NDDF\"\n",
    ",\"ATC\"\n",
    ",\"MMSL\"\n",
    ",\"MSH\"\n",
    ",\"DRUGBANK\"\n",
    ",\"MMX\"\n",
    ",\"NDC\"\n",
    ",\"NDC 3 Segment\"\n",
    ",\"NDC 2 Segment\"\n",
    ",\"SPL_SET_ID\"\n",
    ",\"DrugsFDA Application Number\"\n",
    ",\"spl_id\"\n",
    ",\"product_id\"\n",
    ",\"unii\"\n",
    ",\"event_id\"\n",
    ",\"upc\"]"
   ]
  },
  {
   "cell_type": "code",
   "execution_count": null,
   "metadata": {
    "executionInfo": {
     "elapsed": 27260,
     "status": "ok",
     "timestamp": 1608101216411,
     "user": {
      "displayName": "Vishal Lal",
      "photoUrl": "",
      "userId": "14499003186519065342"
     },
     "user_tz": 480
    },
    "id": "DFe-0ECdToEj"
   },
   "outputs": [],
   "source": [
    "rela_types_list=[\n",
    "'consists_of',\n",
    "'constitutes',\n",
    "'contained_in',\n",
    "'contains',\n",
    "'dose_form_of',\n",
    "'form_of',\n",
    "'has_dose_form',\n",
    "'doseformgroup_of',\n",
    "'has_form',\n",
    "'has_ingredient',\n",
    "'has_ingredients',\n",
    "'has_part',\n",
    "'has_precise_ingredient',\n",
    "'has_quantified_form',\n",
    "'has_tradename',\n",
    "'has_doseformgroup',\n",
    "'ingredient_of',\n",
    "'ingredients_of',\n",
    "'inverse_isa',\n",
    "'isa',\n",
    "'part_of',\n",
    "'precise_ingredient_of',\n",
    "'quantified_form_of',\n",
    "'reformulated_to',\n",
    "'reformulation_of',\n",
    "'tradename_of'\n",
    "]"
   ]
  },
  {
   "cell_type": "code",
   "execution_count": null,
   "metadata": {
    "executionInfo": {
     "elapsed": 27254,
     "status": "ok",
     "timestamp": 1608101216411,
     "user": {
      "displayName": "Vishal Lal",
      "photoUrl": "",
      "userId": "14499003186519065342"
     },
     "user_tz": 480
    },
    "id": "9cxE8tv2TrVn"
   },
   "outputs": [],
   "source": [
    "tty_dict={\n",
    "   'BN': 'brand_name'\t    \n",
    "  ,'BPCK': 'branded_pack'\t    \n",
    "  ,'DF': 'dose_form'\t    \n",
    "  ,'DFG': 'dose_form_group'\t\n",
    "  ,'ET': 'dose_form_entry_term'    \n",
    "  ,'GPCK': 'generic_pack'\t    \n",
    "  ,'IN': 'ingredient'\t    \n",
    "  ,'MIN': 'multiple_ingredients'\t    \n",
    "  ,'PIN': 'precise_ingredient'\t    \n",
    "  ,'SBD': 'branded_drug'\n",
    "  ,'SBDC': 'branded_drug_component'\n",
    "  ,'SBDF': 'branded_dose_form'\n",
    "  ,'SBDG': 'branded_dose_form_group'\n",
    "  ,'SCD': 'clinical_drug'\n",
    "  ,'SCDC': 'clinical_drug_component'\n",
    "  ,'SCDF': 'clinical_dose_form'\n",
    "  ,'SCDG': 'clinical_dose_form_group'}"
   ]
  },
  {
   "cell_type": "code",
   "execution_count": null,
   "metadata": {
    "executionInfo": {
     "elapsed": 27247,
     "status": "ok",
     "timestamp": 1608101216412,
     "user": {
      "displayName": "Vishal Lal",
      "photoUrl": "",
      "userId": "14499003186519065342"
     },
     "user_tz": 480
    },
    "id": "HruNd5wLTuKz"
   },
   "outputs": [],
   "source": [
    "pred_wikidata_dict={\n",
    "        'instanceOf':'P31'\n",
    "        ,'rxcui':'P3345'\n",
    "        ,'UMLSCUI':'P2892'\n",
    "        ,'SNOMEDCT_US':'P5806'\n",
    "        ,'MSH':'P486'\n",
    "        ,'DRUGBANK':'P715'\n",
    "        ,'NDC': 'P3640'\n",
    "        ,'ATC': 'P267'\n",
    "        ,'unii':'P652'\n",
    "        ,'manufacturer_name':'P176'\n",
    "        ,'sponsor_name':'P859'\n",
    "        ,'postal_code':'P281'\n",
    "        }"
   ]
  },
  {
   "cell_type": "code",
   "execution_count": null,
   "metadata": {
    "executionInfo": {
     "elapsed": 27241,
     "status": "ok",
     "timestamp": 1608101216412,
     "user": {
      "displayName": "Vishal Lal",
      "photoUrl": "",
      "userId": "14499003186519065342"
     },
     "user_tz": 480
    },
    "id": "u9oCv_PqTxlZ"
   },
   "outputs": [],
   "source": [
    "pred_notinwikidata_dict_rxnorm={}"
   ]
  },
  {
   "cell_type": "code",
   "execution_count": null,
   "metadata": {
    "executionInfo": {
     "elapsed": 27235,
     "status": "ok",
     "timestamp": 1608101216412,
     "user": {
      "displayName": "Vishal Lal",
      "photoUrl": "",
      "userId": "14499003186519065342"
     },
     "user_tz": 480
    },
    "id": "1vNwokAxT0U2"
   },
   "outputs": [],
   "source": [
    "output_rows_qnode_pnode_rxnorm=[]\n",
    "output_rows_qnode_prxnode_rxnorm=[]\n",
    "output_rows_qrxnode_pnode_rxnorm=[]\n",
    "output_rows_qrxnode_prxnode_rxnorm=[]\n",
    "output_rows_prxnode_rxnorm=[]\n",
    "output_rows_prxnode_edges_rxnorm=[]\n",
    "output_rows_prxnode_datatype_rxnorm=[]"
   ]
  },
  {
   "cell_type": "code",
   "execution_count": null,
   "metadata": {
    "executionInfo": {
     "elapsed": 27229,
     "status": "ok",
     "timestamp": 1608101216413,
     "user": {
      "displayName": "Vishal Lal",
      "photoUrl": "",
      "userId": "14499003186519065342"
     },
     "user_tz": 480
    },
    "id": "3DGUddrKT3ee"
   },
   "outputs": [],
   "source": [
    "def get_query(identifier):\n",
    "    query = \"\"\"#All items with a property\n",
    "    # Sample to query all values of a property\n",
    "    # Property talk pages on Wikidata include basic queries adapted to each property\n",
    "    SELECT\n",
    "      ?item ?itemLabel\n",
    "      ?value ?valueLabel\n",
    "    # valueLabel is only useful for properties with item-datatype\n",
    "    WHERE \n",
    "    {\n",
    "      ?item wdt:\"\"\"+pred_wikidata_dict[identifier]+\"\"\" ?value\n",
    "              \n",
    "      SERVICE wikibase:label { bd:serviceParam wikibase:language \"[AUTO_LANGUAGE],en\". }\n",
    "    }\n",
    "    # remove or change limit for more results\n",
    "    \"\"\"\n",
    "    return query"
   ]
  },
  {
   "cell_type": "code",
   "execution_count": null,
   "metadata": {
    "executionInfo": {
     "elapsed": 27223,
     "status": "ok",
     "timestamp": 1608101216413,
     "user": {
      "displayName": "Vishal Lal",
      "photoUrl": "",
      "userId": "14499003186519065342"
     },
     "user_tz": 480
    },
    "id": "xuxksx29T7s5"
   },
   "outputs": [],
   "source": [
    "def get_results(endpoint_url, query):\n",
    "    user_agent = \"WDQS-example Python/%s.%s\" % (sys.version_info[0], sys.version_info[1])\n",
    "    # TODO adjust user agent; see https://w.wiki/CX6\n",
    "    sparql = SPARQLWrapper(endpoint_url, agent=user_agent)\n",
    "    sparql.setQuery(query)\n",
    "    sparql.setReturnFormat(JSON)\n",
    "    return sparql.query().convert()"
   ]
  },
  {
   "cell_type": "code",
   "execution_count": null,
   "metadata": {
    "executionInfo": {
     "elapsed": 27217,
     "status": "ok",
     "timestamp": 1608101216413,
     "user": {
      "displayName": "Vishal Lal",
      "photoUrl": "",
      "userId": "14499003186519065342"
     },
     "user_tz": 480
    },
    "id": "IR8OdusvT-fZ"
   },
   "outputs": [],
   "source": [
    "qnode_dict_inwiki={}\n",
    "endpoint_url = \"https://query.wikidata.org/sparql\"\n",
    "identifier=\"rxcui\"\n",
    "query=get_query(identifier)"
   ]
  },
  {
   "cell_type": "code",
   "execution_count": null,
   "metadata": {
    "executionInfo": {
     "elapsed": 32142,
     "status": "ok",
     "timestamp": 1608101221344,
     "user": {
      "displayName": "Vishal Lal",
      "photoUrl": "",
      "userId": "14499003186519065342"
     },
     "user_tz": 480
    },
    "id": "4mIUEJRPUCgq"
   },
   "outputs": [],
   "source": [
    "results = get_results(endpoint_url, query)\n",
    "   \n",
    "   \n",
    "for result in results[\"results\"][\"bindings\"]:\n",
    "    \n",
    "    if result['item']['type']=='uri':\n",
    "        qnode=result['item']['value']\n",
    "        identifier_value=result['value']['value']\n",
    "        qnode=qnode.split(\"entity/\",1)[1]\n",
    "        if identifier=='rxcui':\n",
    "            qnode_dict_inwiki[identifier_value]=qnode"
   ]
  },
  {
   "cell_type": "code",
   "execution_count": null,
   "metadata": {
    "executionInfo": {
     "elapsed": 32137,
     "status": "ok",
     "timestamp": 1608101221345,
     "user": {
      "displayName": "Vishal Lal",
      "photoUrl": "",
      "userId": "14499003186519065342"
     },
     "user_tz": 480
    },
    "id": "EnPzV9CuUHC_"
   },
   "outputs": [],
   "source": [
    "triples_qnode_all=[]\n",
    "for x in qnode_dict_inwiki:\n",
    "    triples_qnode=[]\n",
    "    triples_qnode.append(qnode_dict_inwiki[x])\n",
    "    triples_qnode.append('P3345')\n",
    "    triples_qnode.append(\"\\\"\"+x+\"\\\"\")\n",
    "    triples_qnode_all.append(triples_qnode)"
   ]
  },
  {
   "cell_type": "code",
   "execution_count": null,
   "metadata": {
    "executionInfo": {
     "elapsed": 32131,
     "status": "ok",
     "timestamp": 1608101221345,
     "user": {
      "displayName": "Vishal Lal",
      "photoUrl": "",
      "userId": "14499003186519065342"
     },
     "user_tz": 480
    },
    "id": "QFvZCaYoUKCk"
   },
   "outputs": [],
   "source": [
    "write_tsv(\"../results/rxnorm/kgtk_triples/nodes/qnode_pnode_rxnorm.tsv\", triples_qnode_all)"
   ]
  },
  {
   "cell_type": "code",
   "execution_count": null,
   "metadata": {
    "colab": {
     "base_uri": "https://localhost:8080/"
    },
    "executionInfo": {
     "elapsed": 32125,
     "status": "ok",
     "timestamp": 1608101221346,
     "user": {
      "displayName": "Vishal Lal",
      "photoUrl": "",
      "userId": "14499003186519065342"
     },
     "user_tz": 480
    },
    "id": "2brO_q_UUMzV",
    "outputId": "9cc29e47-0346-46a0-ca9f-fcf3d0fe58ad"
   },
   "outputs": [],
   "source": [
    "with open('../results/rxnorm/intermediate_triples/rxnorm_triples.tsv', encoding=\"utf-8\") as f:\n",
    "    reader = csv.reader(f, delimiter='\\t')\n",
    "    \n",
    "    header_list = next(reader)\n",
    "    print(\"Header=\", header_list)\n",
    "    \n",
    "    \n",
    "    qnode_dict_notinwiki={}\n",
    "    label=''\n",
    "    desc=''\n",
    "    \n",
    "    for row in reader:\n",
    "        output_row=[]\n",
    "        \n",
    "       \n",
    "        #output_row.append(str(row[0]))\n",
    "        \n",
    "        if row[1]=='name':\n",
    "            label=str(row[2])\n",
    "            \n",
    "        if row[1]=='tty':\n",
    "            desc=str(tty_dict[row[2]].replace(\"_\",\" \"))\n",
    "           \n",
    "        if row[0] not in qnode_dict_notinwiki and row[0] not in qnode_dict_inwiki:\n",
    "            qnode_dict_notinwiki[row[0]]='QRX'+str(row[0])\n",
    "            #label_desc_dict[row[0]]=label+'-'+desc\n",
    "        \n",
    "#print(qnode_dict_notinwiki)"
   ]
  },
  {
   "cell_type": "code",
   "execution_count": null,
   "metadata": {
    "executionInfo": {
     "elapsed": 32115,
     "status": "ok",
     "timestamp": 1608101221346,
     "user": {
      "displayName": "Vishal Lal",
      "photoUrl": "",
      "userId": "14499003186519065342"
     },
     "user_tz": 480
    },
    "id": "818jHyb0USon"
   },
   "outputs": [],
   "source": [
    "for x in qnode_dict_notinwiki.keys():\n",
    "   \n",
    "    #print(x)\n",
    "    output_row=[]  \n",
    "   \n",
    "    output_row.append(qnode_dict_notinwiki[x])\n",
    "    output_row.append(pred_wikidata_dict['instanceOf'])    \n",
    "    output_row.append(\"Q28885102\")\n",
    "    #print(output_row)\n",
    "    output_rows_qrxnode_pnode_rxnorm.append(output_row)"
   ]
  },
  {
   "cell_type": "code",
   "execution_count": null,
   "metadata": {
    "executionInfo": {
     "elapsed": 32110,
     "status": "ok",
     "timestamp": 1608101221347,
     "user": {
      "displayName": "Vishal Lal",
      "photoUrl": "",
      "userId": "14499003186519065342"
     },
     "user_tz": 480
    },
    "id": "WG5GNvuHUWGd"
   },
   "outputs": [],
   "source": [
    "write_tsv(\"../results/rxnorm/kgtk_triples/nodes/qrxnode_pnode_rxnorm.tsv\", output_rows_qrxnode_pnode_rxnorm)"
   ]
  },
  {
   "cell_type": "code",
   "execution_count": null,
   "metadata": {
    "colab": {
     "base_uri": "https://localhost:8080/"
    },
    "executionInfo": {
     "elapsed": 41546,
     "status": "ok",
     "timestamp": 1608101230790,
     "user": {
      "displayName": "Vishal Lal",
      "photoUrl": "",
      "userId": "14499003186519065342"
     },
     "user_tz": 480
    },
    "id": "R8NBhVCmUZCE",
    "outputId": "d1f12541-81bc-47ca-a5a5-6460b7b44541"
   },
   "outputs": [],
   "source": [
    "active_ingredients_dict={}\n",
    "with open('../data/fda/drug-ndc-0001-of-0001.json') as ndc_json:\n",
    "    data=json.load(ndc_json)\n",
    "    #Check meta-data\n",
    "    #print(data['meta'])\n",
    "    triples_product_ndc=[]\n",
    "    triples_spl_ndc=[]\n",
    "    triples_package_ndc=[]\n",
    "    for entry in data['results']:\n",
    "        \n",
    "        product_ndc=entry['product_ndc']\n",
    "        #print(product_ndc)\n",
    "        klist=entry.keys()\n",
    "        if product_ndc in ndc2seg_dict:\n",
    "        \n",
    "            \n",
    "            #print(klist)\n",
    "            \n",
    "            #if product_ndc=='0002-8824':\n",
    "            for k in klist:\n",
    "                triple=[]\n",
    "                #marketing_start_date= entry['marketing_start_date']\n",
    "                if k not in ('product_ndc', 'openfda', 'packaging', 'route', 'pharm_class', 'active_ingredients'):\n",
    "                    triple.append(product_ndc)\n",
    "                    triple.append(str(k))\n",
    "                    triple.append(str(entry[k]))\n",
    "                    triples_product_ndc.append(triple)\n",
    "                elif k in ('route', 'pharm_class'):\n",
    "                    for field in entry[k]:\n",
    "                        triple=[]\n",
    "                        triple.append(product_ndc)\n",
    "                        triple.append(str(k))\n",
    "                        triple.append(str(field))\n",
    "                        triples_product_ndc.append(triple)\n",
    "                elif k in ('active_ingredients'):\n",
    "                    for field in entry[k]:\n",
    "                        #if 'strength' in field and 'name' in field:\n",
    "                        triple=[]\n",
    "                        triple.append(product_ndc)\n",
    "                        triple.append(str(k))\n",
    "                        triple.append(str(field['name']))\n",
    "                        active_ingredients_dict_key=ndc2seg_dict[product_ndc]+\"_\"+str(field['name'])\n",
    "                        active_ingredients_dict[active_ingredients_dict_key]=str(field['strength'])\n",
    "                        triples_product_ndc.append(triple)\n",
    "                    \n",
    "         \n",
    "      \n",
    "        \n",
    "        if 'spl_set_id' in entry['openfda'].keys():\n",
    "            spl_set_id=str(entry['openfda']['spl_set_id']).replace(\"['\",\"\").replace(\"']\",\"\")\n",
    "            #print(spl_set_id)\n",
    "            \n",
    "            #if product_ndc in ndc2seg_dict or spl_set_id in spl_setid_dict:\n",
    "            if spl_set_id in spl_setid_dict:\n",
    "                openfda=entry['openfda']\n",
    "                slist=openfda.keys()\n",
    "                \n",
    "                \"\"\"\n",
    "                triple=[]\n",
    "                triple.append(product_ndc)\n",
    "                triple.append('spl_set_id')\n",
    "                triple.append(str(spl_set_id))\n",
    "                triples_product_ndc.append(triple)\n",
    "                \"\"\"\n",
    "                \n",
    "                for p in slist:\n",
    "                    triple=[]\n",
    "                    #marketing_start_date= entry['marketing_start_date']\n",
    "                    if p != 'spl_set_id':\n",
    "                        for field in openfda[p]:\n",
    "                            triple=[]\n",
    "                            triple.append(str(spl_set_id))\n",
    "                            triple.append(str(p))\n",
    "                            triple.append(str(field))\n",
    "                            triples_spl_ndc.append(triple)\n",
    "        \n",
    "        if 'packaging' in klist:\n",
    "            for package in entry['packaging']:\n",
    "                package_ndc=package['package_ndc']\n",
    "                #print(package_ndc)\n",
    "                \n",
    "                #if product_ndc in ndc2seg_dict or spl_set_id in spl_setid_dict or package_ndc in ndc3seg_dict:\n",
    "                if package_ndc in ndc3seg_dict:\n",
    "                    #print(package_ndc)\n",
    "                    #packaging=entry['packaging']\n",
    "                    plist=package.keys()\n",
    "                    \n",
    "                    \"\"\"\n",
    "                    triple=[]\n",
    "                    triple.append(product_ndc)\n",
    "                    triple.append('package_ndc')\n",
    "                    triple.append(str(package_ndc))\n",
    "                    triples_product_ndc.append(triple)\n",
    "                    \"\"\"\n",
    "                    \n",
    "                    for p in plist:\n",
    "                        triple=[]\n",
    "                        #marketing_start_date= entry['marketing_start_date']\n",
    "                        if p != 'package_ndc':\n",
    "                            triple.append(str(package_ndc))\n",
    "                            triple.append(str(p))\n",
    "                            triple.append(str(package[p]))\n",
    "                            triples_package_ndc.append(triple)\n",
    "print(\"Added triples from FDA NDC\")"
   ]
  },
  {
   "cell_type": "code",
   "execution_count": null,
   "metadata": {
    "executionInfo": {
     "elapsed": 41537,
     "status": "ok",
     "timestamp": 1608101230791,
     "user": {
      "displayName": "Vishal Lal",
      "photoUrl": "",
      "userId": "14499003186519065342"
     },
     "user_tz": 480
    },
    "id": "f211PeCUUlH2"
   },
   "outputs": [],
   "source": [
    "write_tsv('../results/fda/intermediate_triples/fda_triples_product_ndc.tsv', triples_product_ndc)\n",
    "write_tsv('../results/fda/intermediate_triples/fda_triples_spl_ndc.tsv', triples_spl_ndc)\n",
    "write_tsv('../results/fda/intermediate_triples/fda_triples_package_ndc.tsv', triples_package_ndc)"
   ]
  },
  {
   "cell_type": "code",
   "execution_count": null,
   "metadata": {
    "colab": {
     "base_uri": "https://localhost:8080/"
    },
    "executionInfo": {
     "elapsed": 182606,
     "status": "ok",
     "timestamp": 1608101371867,
     "user": {
      "displayName": "Vishal Lal",
      "photoUrl": "",
      "userId": "14499003186519065342"
     },
     "user_tz": 480
    },
    "id": "z8VBkX-YUyPv",
    "outputId": "e95b2eb8-6d57-4659-fac1-c80e9caf23e9"
   },
   "outputs": [],
   "source": [
    "triples=[]\n",
    "for counter in range(1,10):\n",
    "    print(counter)\n",
    "    filename='../data/fda/drug-label-000'+str(counter)+'-of-0009.json'\n",
    "    print(filename)\n",
    "    \n",
    "    with open(filename) as ndc_json: \n",
    "\n",
    "        data=json.load(ndc_json)\n",
    "        #Check meta-data\n",
    "        #print(data['meta'])\n",
    "        \n",
    "        for entry in data['results']:\n",
    "            \n",
    "            set_id=entry['set_id']\n",
    "            #print(set_id)\n",
    "            \n",
    "            \n",
    "            klist=entry.keys()\n",
    "            #print(klist)\n",
    "            \n",
    "            if set_id in spl_setid_dict:\n",
    "   \n",
    "                #if product_ndc=='0002-8824':\n",
    "                for k in klist:\n",
    "                    if k not in ('openfda'):\n",
    "                        if type(entry[k])== list:\n",
    "                            for field in entry[k]:\n",
    "                                triple=[]\n",
    "                                #marketing_start_date= entry['marketing_start_date']\n",
    "                                triple.append(str(set_id))\n",
    "                                triple.append(str(k))\n",
    "                                triple.append(str(field))\n",
    "                                triples.append(triple)\n",
    "                        else:\n",
    "                            triple=[]\n",
    "                            triple.append(str(set_id))\n",
    "                            triple.append(str(k))\n",
    "                            triple.append(str(entry[k]))\n",
    "                            triples.append(triple)\n",
    "                    elif k== 'openfda':\n",
    "                        openfda=entry['openfda']\n",
    "                        slist=openfda.keys()\n",
    "                        \n",
    "                        for p in slist:\n",
    "                            if type(openfda[p]) == list:\n",
    "                                for field in openfda[p]:\n",
    "                                    triple=[]\n",
    "                                    triple.append(str(set_id))\n",
    "                                    triple.append(str(p))\n",
    "                                    triple.append(str(field))\n",
    "                                    triples.append(triple)\n",
    "                            else:\n",
    "                                triple=[]\n",
    "                                triple.append(str(set_id))\n",
    "                                triple.append(str(p))\n",
    "                                triple.append(str(openfda[p]))\n",
    "                                triples.append(triple)\n",
    "                \n",
    "                #triple.append\n",
    "            #print(\"Triples=\", triples)\n",
    "print(\"Added triples from FDA labeling\")"
   ]
  },
  {
   "cell_type": "code",
   "execution_count": null,
   "metadata": {
    "executionInfo": {
     "elapsed": 182598,
     "status": "ok",
     "timestamp": 1608101371868,
     "user": {
      "displayName": "Vishal Lal",
      "photoUrl": "",
      "userId": "14499003186519065342"
     },
     "user_tz": 480
    },
    "id": "09WRzsr3VbJT"
   },
   "outputs": [],
   "source": [
    "write_tsv('../results/fda/intermediate_triples/fda_triples_spl_labeling.tsv', triples)"
   ]
  },
  {
   "cell_type": "code",
   "execution_count": null,
   "metadata": {
    "colab": {
     "base_uri": "https://localhost:8080/"
    },
    "executionInfo": {
     "elapsed": 185399,
     "status": "ok",
     "timestamp": 1608101374676,
     "user": {
      "displayName": "Vishal Lal",
      "photoUrl": "",
      "userId": "14499003186519065342"
     },
     "user_tz": 480
    },
    "id": "2a45JXC6Vdz6",
    "outputId": "d1314a36-db9c-4c9e-862a-093499273c69"
   },
   "outputs": [],
   "source": [
    "triples=[]\n",
    "products_dict={}\n",
    "submisions_dict={}\n",
    "with open('../data/fda/drug-drugsfda-0001-of-0001.json') as drugsfda_json:\n",
    "    data=json.load(drugsfda_json)\n",
    "    \n",
    "    for entry in data['results']:\n",
    "        \n",
    "        #product_ndc=entry['product_ndc']\n",
    "        klist=entry.keys()\n",
    "        #print(klist)\n",
    "        if 'application_number' in klist:\n",
    "            application_no=entry['application_number']\n",
    "            \n",
    "            if application_no in application_dict:\n",
    "      \n",
    "                for k in klist:\n",
    "                    if k=='openfda':\n",
    "                        openfda=entry['openfda']\n",
    "                        slist=openfda.keys()\n",
    "                        \n",
    "                        for p in slist:\n",
    "                            if type(openfda[p]) == list:\n",
    "                                for field in openfda[p]:\n",
    "                                    #if (p=='product_ndc' and field in ndc2seg_list) or (p=='package_ndc' and field in ndc3seg_list) or (p=='spl_set_id' and field in spl_setid_list):\n",
    "                                    triple=[]\n",
    "                                    triple.append(str(application_no))\n",
    "                                    triple.append(str(p))\n",
    "                                    triple.append(str(field))\n",
    "                                    triples.append(triple)\n",
    "                            else:\n",
    "                                triple=[]\n",
    "                                triple.append(str(application_no))\n",
    "                                triple.append(str(p))\n",
    "                                triple.append(str(openfda[p]))\n",
    "                                triples.append(triple)\n",
    "                    elif k  in ('sponsor_name', 'application_number'):\n",
    "                        triple=[]\n",
    "                        triple.append(str(application_no))\n",
    "                        triple.append(str(k))\n",
    "                        triple.append(str(entry[k]))\n",
    "                        triples.append(triple)\n",
    "                    elif k in ('products'):\n",
    "                        products=entry[k]\n",
    "                        for prod in products:\n",
    "                            slist=prod.keys()\n",
    "                            prod_no=prod['product_number']\n",
    "                            for p in slist:\n",
    "                                    \n",
    "                                if type(prod[p]) == list:\n",
    "                                    for field in prod[p]:\n",
    "                                        #if (p=='product_ndc' and field in ndc2seg_list) or (p=='package_ndc' and field in ndc3seg_list) or (p=='spl_set_id' and field in spl_setid_list):\n",
    "                                        triple=[]\n",
    "                                        triple.append(str(application_no))\n",
    "                                        triple.append(str(p))\n",
    "                                        triple.append(str(field))\n",
    "                                        #triples.append(triple)\n",
    "                                else:\n",
    "                                    triple=[]\n",
    "                                    triple.append(str(application_no))\n",
    "                                    triple.append(str(p))\n",
    "                                    triple.append(str(prod[p]))\n",
    "                                    \n",
    "                                if p=='product_number':\n",
    "                                    triples.append(triple)\n",
    "                                else:\n",
    "                                    product_dict_key=str(application_dict[application_no])+\"_\"+str(prod_no)\n",
    "                                    if product_dict_key not in products_dict:\n",
    "                                         products_dict[product_dict_key]=[]\n",
    "                                         products_dict[product_dict_key].append(triple)\n",
    "                                    else:\n",
    "                                        products_dict[product_dict_key].append(triple)\n",
    "                    elif k == 'submissions':\n",
    "                        submissions=entry[k]\n",
    "                        for sub in submissions:\n",
    "                            slist=sub.keys()\n",
    "                            #print(slist)\n",
    "                            sub_date=sub['submission_status_date']\n",
    "                            for p in slist:\n",
    "                                    \n",
    "                                if type(sub[p]) == list:\n",
    "                                    for field in sub[p]:\n",
    "                                        #if (p=='product_ndc' and field in ndc2seg_list) or (p=='package_ndc' and field in ndc3seg_list) or (p=='spl_set_id' and field in spl_setid_list):\n",
    "                                        triple=[]\n",
    "                                        triple.append(str(application_no))\n",
    "                                        triple.append(str(p))\n",
    "                                        triple.append(str(field))\n",
    "                                        #triples.append(triple)\n",
    "                                else:\n",
    "                                    triple=[]\n",
    "                                    triple.append(str(application_no))\n",
    "                                    triple.append(str(p))\n",
    "                                    triple.append(str(sub[p]))\n",
    "                                    \n",
    "                                if p=='submission_status_date':\n",
    "                                    triples.append(triple)\n",
    "                                else:\n",
    "                                    submisions_dict_key=str(application_dict[application_no])+\"_\"+str(sub_date)\n",
    "                                    if submisions_dict_key not in submisions_dict:\n",
    "                                         submisions_dict[submisions_dict_key]=[]\n",
    "                                         submisions_dict[submisions_dict_key].append(triple)\n",
    "                                    else:\n",
    "                                        submisions_dict[submisions_dict_key].append(triple)\n",
    "print(\"Added triples from FDA DrugsFDA\")"
   ]
  },
  {
   "cell_type": "code",
   "execution_count": null,
   "metadata": {
    "executionInfo": {
     "elapsed": 185390,
     "status": "ok",
     "timestamp": 1608101374677,
     "user": {
      "displayName": "Vishal Lal",
      "photoUrl": "",
      "userId": "14499003186519065342"
     },
     "user_tz": 480
    },
    "id": "2RatLJoFVndI"
   },
   "outputs": [],
   "source": [
    "write_tsv('../results/fda/intermediate_triples/fda_triples_application_drugsfda.tsv', triples)   "
   ]
  },
  {
   "cell_type": "code",
   "execution_count": null,
   "metadata": {
    "colab": {
     "base_uri": "https://localhost:8080/"
    },
    "executionInfo": {
     "elapsed": 186384,
     "status": "ok",
     "timestamp": 1608101375677,
     "user": {
      "displayName": "Vishal Lal",
      "photoUrl": "",
      "userId": "14499003186519065342"
     },
     "user_tz": 480
    },
    "id": "3bE1gPFQVq58",
    "outputId": "09dfa37e-77ed-4be7-b650-f1f1a16803f7"
   },
   "outputs": [],
   "source": [
    "with open('../data/fda/drug-enforcement-0001-of-0001.json') as ndc_json:\n",
    "    data=json.load(ndc_json)\n",
    "    #Check meta-data\n",
    "    #print(data['meta'])\n",
    "    triples=[]\n",
    "    for entry in data['results']:\n",
    "        if \"NDC\" in entry['product_description']:\n",
    "            code = re.search(r'(\\d+-?){1,3}$', entry['product_description'])\n",
    "            #product_ndc=entry['product_description'].split(\"NDC # \",1)[1]\n",
    "            if code != None:\n",
    "                #if str(entry['event_id'])=='67118':\n",
    "                #print(\"Event=\",entry['event_id'])\n",
    "            \n",
    "                #print(code.group())\n",
    "                #print(product_ndc)\n",
    "                subj=code.group()\n",
    "                if (len(str(code.group()))>10) and subj in ndc3seg_dict:\n",
    "                    \n",
    "            \n",
    "                    klist=entry.keys()\n",
    "                    #print(klist)\n",
    "                    \n",
    "                    #if product_ndc=='0002-8824':\n",
    "                    for k in klist:\n",
    "                        triple=[]\n",
    "                        #marketing_start_date= entry['marketing_start_date']\n",
    "                        triple.append(subj)\n",
    "                        triple.append(str(k))\n",
    "                        triple.append(str(entry[k]))\n",
    "                        triples.append(triple)\n",
    "print(\"Added triples from FDA Enforcement\")"
   ]
  },
  {
   "cell_type": "code",
   "execution_count": null,
   "metadata": {
    "executionInfo": {
     "elapsed": 186374,
     "status": "ok",
     "timestamp": 1608101375677,
     "user": {
      "displayName": "Vishal Lal",
      "photoUrl": "",
      "userId": "14499003186519065342"
     },
     "user_tz": 480
    },
    "id": "GYLeRAadV0MF"
   },
   "outputs": [],
   "source": [
    "write_tsv('../results/fda/intermediate_triples/fda_triples_package_enforcement.tsv', triples)"
   ]
  },
  {
   "cell_type": "code",
   "execution_count": null,
   "metadata": {
    "colab": {
     "base_uri": "https://localhost:8080/"
    },
    "executionInfo": {
     "elapsed": 186598,
     "status": "ok",
     "timestamp": 1608101375908,
     "user": {
      "displayName": "Vishal Lal",
      "photoUrl": "",
      "userId": "14499003186519065342"
     },
     "user_tz": 480
    },
    "id": "2Ojt5cU4WBgf",
    "outputId": "71a61110-a5d9-4da1-8cc4-99913c00da37"
   },
   "outputs": [],
   "source": [
    "with open('../results/rxnorm/intermediate_triples/rxnorm_triples.tsv', encoding=\"utf-8\") as f:\n",
    "    reader = csv.reader(f, delimiter='\\t')\n",
    "    \n",
    "    header_list = next(reader)\n",
    "    print(\"Header=\", header_list)\n",
    "    \n",
    "    #umlscui_dict={}\n",
    "    \n",
    "    \n",
    "    for row in reader:\n",
    "        output_row=[]\n",
    "    \n",
    "        #if row[0]=='284460':\n",
    "        obj=str(row[2])\n",
    "        #print(obj[:1])\n",
    "        pred=str(row[1])\n",
    "        #print(\"\\n\")\n",
    "        #print(\"Obj=\",obj)\n",
    "        #print(\"Pred=\",pred)\n",
    "        \n",
    "        #if obj[:1].isdigit() and pred in (\"name\", \"synonym\"):\n",
    "            #obj=\"Qty\"+obj\n",
    "        #if obj[:1].isdigit() and pred in (\"umlscui\"):\n",
    "            #obj=\"RXCUI-\"+obj\n",
    "        #elif obj[:1]=='C':\n",
    "            #print(\"OBJ IS\", obj)\n",
    "            #print(\"PRED IS\", pred)\n",
    "            #umlscui_dict[row[0]]=obj\n",
    "        if pred==\"name\":\n",
    "            pred=\"label\"\n",
    "        elif pred==\"tty\":\n",
    "            pred=\"description\"\n",
    "            obj=tty_dict[obj].replace(\"_\",\" \")\n",
    "        elif pred==\"synonym\":\n",
    "            pred=\"alias\"\n",
    "        \n",
    "        elif pred in tty_dict.keys():\n",
    "            pred=tty_dict[pred]\n",
    "            if obj in qnode_dict_notinwiki.keys():\n",
    "                obj=qnode_dict_notinwiki[obj]\n",
    "            elif obj in qnode_dict_inwiki.keys():\n",
    "                obj=qnode_dict_inwiki[obj]\n",
    "            else:\n",
    "                print(\"Not in Both!\")\n",
    "        elif pred in rela_types_list:\n",
    "             #  print(\"GET OUT\")\n",
    "             if obj in qnode_dict_notinwiki.keys():\n",
    "                obj=qnode_dict_notinwiki[obj]\n",
    "             elif obj in qnode_dict_inwiki.keys():\n",
    "                obj=qnode_dict_inwiki[obj]\n",
    "             else:\n",
    "                obj=\"QRX\"+obj #temp\n",
    "                \n",
    "           \n",
    "        \n",
    "        \n",
    "        \n",
    "        if pred in (\"alias\", \"label\", \"description\", \"suppress\"):\n",
    "            if \"'\" in obj:\n",
    "                obj=obj.replace(\"\\'\",\"\")\n",
    "            if obj != '':\n",
    "                obj=\"\\'\"+obj+\"\\'\"+\"@en\"   #This is hardcoded for now\n",
    "        if pred in ( \"rxcui\", \"UMLSCUI\", \"UMLSAUI\") or pred in identifier_source_list or pred == 'NDC' or \"RXN_\" in pred or \"ORIG_\" in pred:\n",
    "            obj=\"\\\"\"+obj+\"\\\"\"\n",
    "        elif pred ==\"language\":\n",
    "            obj=\"en\"\n",
    "        \n",
    "        \n",
    "        \n",
    "\n",
    "        if pred in (\"alias\",\"label\",\"description\", \"rxcui\", \"UMLSCUI\", \"SNOMEDCT_US\", \"MSH\", \"DRUGBANK\", \"NDC\", \"ATC\") and str(obj) != '':\n",
    "            if pred in (\"rxcui\", \"UMLSCUI\",\"SNOMEDCT_US\", \"MSH\", \"DRUGBANK\", \"NDC\", \"ATC\"):\n",
    "                pred=pred_wikidata_dict[pred]\n",
    "            if row[0] in qnode_dict_notinwiki:\n",
    "                output_row.append(str(qnode_dict_notinwiki[row[0]]))\n",
    "                output_row.append(str(pred))\n",
    "                output_row.append(str(obj))\n",
    "            \n",
    "                output_rows_qrxnode_pnode_rxnorm.append(output_row)\n",
    "            else:\n",
    "                output_row.append(str(qnode_dict_inwiki[row[0]]))\n",
    "                output_row.append(str(pred))\n",
    "                output_row.append(str(obj))\n",
    "            \n",
    "                output_rows_qnode_pnode_rxnorm.append(output_row)\n",
    "        else:\n",
    "            if pred not in(\"language\") and str(obj) != '':\n",
    "                if pred in tty_dict.values():\n",
    "                    pred_notinwikidata_dict_rxnorm[pred]=\"PRX_TTY_\"+pred\n",
    "                elif pred in identifier_source_list:\n",
    "                    pred_notinwikidata_dict_rxnorm[pred]=\"PRX_ID_\"+pred\n",
    "                elif pred in rela_types_list:\n",
    "                    pred_notinwikidata_dict_rxnorm[pred]=\"PRX_REL_\"+pred\n",
    "                else:\n",
    "                     pred_notinwikidata_dict_rxnorm[pred]=\"PRX_\"+pred\n",
    "                pred=pred_notinwikidata_dict_rxnorm[pred]\n",
    "                \n",
    "                if row[0] in qnode_dict_notinwiki:\n",
    "                    output_row.append(str(qnode_dict_notinwiki[row[0]]))\n",
    "                    \n",
    "                    output_row.append(str(pred))\n",
    "                    output_row.append(str(obj))\n",
    "                    output_rows_qrxnode_prxnode_rxnorm.append(output_row)\n",
    "                else:\n",
    "                    output_row.append(str(qnode_dict_inwiki[row[0]]))\n",
    "                    output_row.append(str(pred))\n",
    "                    output_row.append(str(obj))\n",
    "                \n",
    "                    output_rows_qnode_prxnode_rxnorm.append(output_row)\n",
    "\n",
    "print(output_rows_qrxnode_pnode_rxnorm)"
   ]
  },
  {
   "cell_type": "code",
   "execution_count": null,
   "metadata": {
    "executionInfo": {
     "elapsed": 186588,
     "status": "ok",
     "timestamp": 1608101375908,
     "user": {
      "displayName": "Vishal Lal",
      "photoUrl": "",
      "userId": "14499003186519065342"
     },
     "user_tz": 480
    },
    "id": "zTDOAk7PWHgf"
   },
   "outputs": [],
   "source": [
    "write_tsv(\"../results/rxnorm/kgtk_triples/nodes/qrxnode_pnode_rxnorm.tsv\", output_rows_qrxnode_pnode_rxnorm)\n",
    "write_tsv(\"../results/rxnorm/kgtk_triples/nodes/qrxnode_prxnode_rxnorm.tsv\", output_rows_qrxnode_prxnode_rxnorm)\n",
    "  \n",
    "write_tsv(\"../results/rxnorm/kgtk_triples/nodes/qnode_pnode_rxnorm.tsv\", output_rows_qnode_pnode_rxnorm)\n",
    "write_tsv(\"../results/rxnorm/kgtk_triples/nodes/qnode_prxnode_rxnorm.tsv\", output_rows_qnode_prxnode_rxnorm)"
   ]
  },
  {
   "cell_type": "code",
   "execution_count": null,
   "metadata": {
    "colab": {
     "base_uri": "https://localhost:8080/"
    },
    "executionInfo": {
     "elapsed": 186583,
     "status": "ok",
     "timestamp": 1608101375909,
     "user": {
      "displayName": "Vishal Lal",
      "photoUrl": "",
      "userId": "14499003186519065342"
     },
     "user_tz": 480
    },
    "id": "TEeqOCTMWLVL",
    "outputId": "73c1fb8a-e4c3-4f75-e7b8-755b2bf2ea71"
   },
   "outputs": [],
   "source": [
    "for x in pred_notinwikidata_dict_rxnorm.keys():\n",
    "    \n",
    "    print(x)\n",
    "    \n",
    "    output_row=[]\n",
    "    pred_value=pred_notinwikidata_dict_rxnorm[x]\n",
    "    output_row.append(pred_value)\n",
    "    output_row.append(\"label\")\n",
    "    output_row.append(\"\\'\"+x+\"\\'\"+\"@en\")\n",
    "    output_rows_prxnode_rxnorm.append(output_row)\n",
    "    output_rows_prxnode_edges_rxnorm.append(output_row)\n",
    "    \n",
    "    output_row=[]\n",
    "    output_row.append(pred_value)\n",
    "    output_row.append(\"description\")\n",
    "    output_row.append(\"\\'\"+x+\"\\'\"+\"@en\")\n",
    "    output_rows_prxnode_rxnorm.append(output_row)\n",
    "    output_rows_prxnode_edges_rxnorm.append(output_row)\n",
    "    \n",
    "    output_row=[]\n",
    "    output_row.append(pred_value)\n",
    "    output_row.append(\"data_type\")\n",
    "    if (\"PRX_REL_\" in pred_value or \"PRX_TTY_\" in pred_value):\n",
    "        output_row.append(\"\\\"\"+\"item\"+\"\\\"\")\n",
    "    elif (\"PRX_ID_\" in pred_value):\n",
    "        output_row.append(\"\\\"\"+\"external-identifier\"+\"\\\"\")\n",
    "    elif (\"PRX_\" in pred_value):\n",
    "        output_row.append(\"\\\"\"+\"string\"+\"\\\"\")\n",
    "    #output_row.append(\"\\\"String\\\"\")\n",
    "    output_rows_prxnode_rxnorm.append(output_row)\n",
    "    output_rows_prxnode_datatype_rxnorm.append(output_row)"
   ]
  },
  {
   "cell_type": "code",
   "execution_count": null,
   "metadata": {
    "executionInfo": {
     "elapsed": 186573,
     "status": "ok",
     "timestamp": 1608101375909,
     "user": {
      "displayName": "Vishal Lal",
      "photoUrl": "",
      "userId": "14499003186519065342"
     },
     "user_tz": 480
    },
    "id": "VlIwWAcuWQCR"
   },
   "outputs": [],
   "source": [
    "write_tsv(\"../results/rxnorm/kgtk_triples/properties/prxnode_rxnorm.tsv\", output_rows_prxnode_rxnorm)\n",
    "write_tsv(\"../results/rxnorm/kgtk_triples/properties/prxnode_edges_rxnorm.tsv\", output_rows_prxnode_edges_rxnorm)\n",
    "write_tsv(\"../results/rxnorm/kgtk_triples/properties/prxnode_datatype_rxnorm.tsv\", output_rows_prxnode_datatype_rxnorm)"
   ]
  },
  {
   "cell_type": "code",
   "execution_count": null,
   "metadata": {
    "executionInfo": {
     "elapsed": 186568,
     "status": "ok",
     "timestamp": 1608101375910,
     "user": {
      "displayName": "Vishal Lal",
      "photoUrl": "",
      "userId": "14499003186519065342"
     },
     "user_tz": 480
    },
    "id": "r0H1ko-VWTgv"
   },
   "outputs": [],
   "source": [
    "output_rows_qnode_pnode_fda=[]\n",
    "output_rows_qnode_prxnode_fda=[]\n",
    "output_rows_qrxnode_pnode_fda=[]\n",
    "output_rows_qrxnode_prxnode_fda=[]\n",
    "output_rows_prxnode_fda=[]\n",
    "output_rows_prxnode_edges_fda=[]\n",
    "output_rows_prxnode_datatype_fda=[]"
   ]
  },
  {
   "cell_type": "code",
   "execution_count": null,
   "metadata": {
    "executionInfo": {
     "elapsed": 186562,
     "status": "ok",
     "timestamp": 1608101375910,
     "user": {
      "displayName": "Vishal Lal",
      "photoUrl": "",
      "userId": "14499003186519065342"
     },
     "user_tz": 480
    },
    "id": "fzyxOMwcWWi2"
   },
   "outputs": [],
   "source": [
    "pred_notinwikidata_dict_fda={}"
   ]
  },
  {
   "cell_type": "code",
   "execution_count": null,
   "metadata": {
    "colab": {
     "base_uri": "https://localhost:8080/"
    },
    "executionInfo": {
     "elapsed": 186815,
     "status": "ok",
     "timestamp": 1608101376169,
     "user": {
      "displayName": "Vishal Lal",
      "photoUrl": "",
      "userId": "14499003186519065342"
     },
     "user_tz": 480
    },
    "id": "wKSh54KzWY0r",
    "outputId": "0d5e51aa-d963-43b4-9d54-22cf8db5d84b"
   },
   "outputs": [],
   "source": [
    "with open('../results/fda/intermediate_triples/fda_triples_product_ndc.tsv', encoding=\"utf-8\") as f:\n",
    "    reader = csv.reader(f, delimiter='\\t')\n",
    "    \n",
    "    header_list = next(reader)\n",
    "    print(\"Header=\", header_list)\n",
    "    \n",
    "    #umlscui_dict={}\n",
    "    \n",
    "   \n",
    "    for row in reader:\n",
    "        output_row=[]\n",
    "        \n",
    "        obj=str(row[2])\n",
    "        if \"'\" in obj:\n",
    "            obj=obj.replace(\"\\'\",\"\\\\'\")\n",
    "\n",
    "            \n",
    "        #print(obj[:1])\n",
    "        pred=str(row[1])\n",
    "        if pred== \"package_ndc\":\n",
    "            pred=\"NDC 3 Segment\"\n",
    "        elif pred== \"spl_set_id\":\n",
    "            pred=\"SPL_SET_ID\"\n",
    "        elif pred==\"rxcui\":\n",
    "            pred=\"Related RXNorm\"\n",
    "        \n",
    "       \n",
    "        subj=ndc2seg_dict[str(row[0])]\n",
    "        \n",
    "        \n",
    "        if \"date\" in pred:\n",
    "            obj=\"^\"+'-'.join([obj[:4], obj[4:6], obj[6:]])\n",
    "        elif pred in (\"NDC 3 Segment\", \"SPL_SET_ID\", \"spl_id\", \"product_id\"):\n",
    "            obj=\"\\\"\"+obj+\"\\\"\"\n",
    "        elif pred not in (\"finished\"):\n",
    "            obj=\"\\'\"+obj+\"\\'\"+\"@en\" \n",
    "            \n",
    "        if subj in qnode_dict_notinwiki and pred in pred_wikidata_dict:\n",
    "            subj=qnode_dict_notinwiki[subj]\n",
    "            output_row.append(str(subj))\n",
    "            output_row.append(str(pred_wikidata_dict[pred]))\n",
    "            output_row.append(str(obj))\n",
    "        \n",
    "            output_rows_qrxnode_pnode_fda.append(output_row)\n",
    "        elif subj in qnode_dict_notinwiki and pred not in pred_wikidata_dict:\n",
    "            subj=qnode_dict_notinwiki[subj]\n",
    "            output_row.append(str(subj))\n",
    "            if pred in identifier_source_list:\n",
    "                pred_notinwikidata_dict_fda[pred]=\"PRX_ID_\"+pred\n",
    "            else:\n",
    "                pred_notinwikidata_dict_fda[pred]=\"PRX_FDA_\"+pred\n",
    "            pred=pred_notinwikidata_dict_fda[pred]\n",
    "            output_row.append(str(pred))\n",
    "            output_row.append(str(obj))\n",
    "        \n",
    "            output_rows_qrxnode_prxnode_fda.append(output_row)\n",
    "            \n",
    "        elif subj not in qnode_dict_notinwiki and pred in pred_wikidata_dict:\n",
    "            subj=qnode_dict_inwiki[subj]\n",
    "            output_row.append(str(subj))\n",
    "            output_row.append(str(pred_wikidata_dict[pred]))\n",
    "            output_row.append(str(obj))\n",
    "        \n",
    "            output_rows_qnode_pnode_fda.append(output_row)\n",
    "        elif subj not in qnode_dict_notinwiki and pred not in pred_wikidata_dict:\n",
    "            subj=qnode_dict_inwiki[subj]\n",
    "            output_row.append(str(subj))\n",
    "            if pred in identifier_source_list:\n",
    "                pred_notinwikidata_dict_fda[pred]=\"PRX_ID_\"+pred\n",
    "            else:\n",
    "                pred_notinwikidata_dict_fda[pred]=\"PRX_FDA_\"+pred\n",
    "            pred=pred_notinwikidata_dict_fda[pred]\n",
    "            output_row.append(str(pred))\n",
    "            output_row.append(str(obj))\n",
    "        \n",
    "            output_rows_qnode_prxnode_fda.append(output_row)"
   ]
  },
  {
   "cell_type": "code",
   "execution_count": null,
   "metadata": {
    "colab": {
     "base_uri": "https://localhost:8080/"
    },
    "executionInfo": {
     "elapsed": 186805,
     "status": "ok",
     "timestamp": 1608101376169,
     "user": {
      "displayName": "Vishal Lal",
      "photoUrl": "",
      "userId": "14499003186519065342"
     },
     "user_tz": 480
    },
    "id": "2KFO7FxBWdDb",
    "outputId": "0db0202f-190f-4619-dd62-58a7c2ede46f"
   },
   "outputs": [],
   "source": [
    "with open('../results/fda/intermediate_triples/fda_triples_package_ndc.tsv', encoding=\"utf-8\") as f:\n",
    "    reader = csv.reader(f, delimiter='\\t')\n",
    "    \n",
    "    header_list = next(reader)\n",
    "    print(\"Header=\", header_list)\n",
    "    \n",
    "    #umlscui_dict={}\n",
    "    \n",
    "   \n",
    "    for row in reader:\n",
    "        output_row=[]\n",
    "        \n",
    "        obj=str(row[2])\n",
    "        if \"'\" in obj:\n",
    "            obj=obj.replace(\"\\'\",\"\\\\'\")\n",
    "        #print(obj[:1])\n",
    "        pred=str(row[1])\n",
    "        if pred== \"package_ndc\":\n",
    "            pred=\"NDC 3 Segment\"\n",
    "        elif pred== \"spl_set_id\":\n",
    "            pred=\"SPL_SET_ID\"\n",
    "        elif pred==\"rxcui\":\n",
    "            pred=\"Related RXNorm\"\n",
    "            \n",
    "        subj=ndc3seg_dict[str(row[0])]\n",
    "        \n",
    "        if \"date\" in pred:\n",
    "            obj=\"^\"+'-'.join([obj[:4], obj[4:6], obj[6:]])\n",
    "        elif pred in (\"NDC 3 Segment\", \"SPL_SET_ID\", \"spl_id\", \"product_id\"):\n",
    "            obj=\"\\\"\"+obj+\"\\\"\"\n",
    "        elif pred not in (\"sample\"):\n",
    "            obj=\"\\'\"+obj+\"\\'\"+\"@en\" \n",
    "        \n",
    "        if subj in qnode_dict_notinwiki and pred in pred_wikidata_dict:\n",
    "            subj=qnode_dict_notinwiki[subj]\n",
    "            output_row.append(str(subj))\n",
    "            output_row.append(str(pred_wikidata_dict[pred]))\n",
    "            output_row.append(str(obj))\n",
    "        \n",
    "            output_rows_qrxnode_pnode_fda.append(output_row)\n",
    "        elif subj in qnode_dict_notinwiki and pred not in pred_wikidata_dict:\n",
    "            subj=qnode_dict_notinwiki[subj]\n",
    "            output_row.append(str(subj))\n",
    "            if pred in identifier_source_list:\n",
    "                pred_notinwikidata_dict_fda[pred]=\"PRX_ID_\"+pred\n",
    "            else:\n",
    "                pred_notinwikidata_dict_fda[pred]=\"PRX_FDA_\"+pred\n",
    "            pred=pred_notinwikidata_dict_fda[pred]\n",
    "            output_row.append(str(pred))\n",
    "            output_row.append(str(obj))\n",
    "        \n",
    "            output_rows_qrxnode_prxnode_fda.append(output_row)\n",
    "            \n",
    "        elif subj not in qnode_dict_notinwiki and pred in pred_wikidata_dict:\n",
    "            subj=qnode_dict_inwiki[subj]\n",
    "            output_row.append(str(subj))\n",
    "            output_row.append(str(pred_wikidata_dict[pred]))\n",
    "            output_row.append(str(obj))\n",
    "        \n",
    "            output_rows_qnode_pnode_fda.append(output_row)\n",
    "        elif subj not in qnode_dict_notinwiki and pred not in pred_wikidata_dict:\n",
    "            subj=qnode_dict_inwiki[subj]\n",
    "            output_row.append(str(subj))\n",
    "            if pred in identifier_source_list:\n",
    "                pred_notinwikidata_dict_fda[pred]=\"PRX_ID_\"+pred\n",
    "            else:\n",
    "                pred_notinwikidata_dict_fda[pred]=\"PRX_FDA_\"+pred\n",
    "            pred=pred_notinwikidata_dict_fda[pred]\n",
    "            output_row.append(str(pred))\n",
    "            output_row.append(str(obj))\n",
    "        \n",
    "            output_rows_qnode_prxnode_fda.append(output_row)"
   ]
  },
  {
   "cell_type": "code",
   "execution_count": null,
   "metadata": {
    "colab": {
     "base_uri": "https://localhost:8080/"
    },
    "executionInfo": {
     "elapsed": 186795,
     "status": "ok",
     "timestamp": 1608101376169,
     "user": {
      "displayName": "Vishal Lal",
      "photoUrl": "",
      "userId": "14499003186519065342"
     },
     "user_tz": 480
    },
    "id": "iXHlfi9rWmNX",
    "outputId": "de813061-d207-4cde-d710-c5e10a74c7eb"
   },
   "outputs": [],
   "source": [
    "with open('../results/fda/intermediate_triples/fda_triples_spl_ndc.tsv', encoding=\"utf-8\") as f:\n",
    "    reader = csv.reader(f, delimiter='\\t')\n",
    "    \n",
    "    header_list = next(reader)\n",
    "    print(\"Header=\", header_list)\n",
    "    \n",
    "    #umlscui_dict={}\n",
    "    \n",
    "   \n",
    "    for row in reader:\n",
    "        output_row=[]\n",
    "        \n",
    "        obj=str(row[2])\n",
    "        if \"'\" in obj:\n",
    "            obj=obj.replace(\"\\'\",\"\\\\'\")\n",
    "        #print(obj[:1])\n",
    "        pred=str(row[1])\n",
    "        if pred== \"package_ndc\":\n",
    "            pred=\"NDC 3 Segment\"\n",
    "        elif pred== \"spl_set_id\":\n",
    "            pred=\"SPL_SET_ID\"\n",
    "        elif pred==\"rxcui\":\n",
    "            pred=\"Related RXNorm\"\n",
    "        \n",
    "        \n",
    "        subj=spl_setid_dict[str(row[0])]\n",
    "        if \"date\" in pred:\n",
    "            obj=\"^\"+'-'.join([obj[:4], obj[4:6], obj[6:]])\n",
    "        elif pred in (\"NDC 3 Segment\", \"SPL_SET_ID\", \"spl_id\", \"product_id\", \"Related RXNorm\", \"unii\", \"upc\"):\n",
    "            obj=\"\\\"\"+obj+\"\\\"\"\n",
    "        else:\n",
    "            obj=\"\\'\"+obj+\"\\'\"+\"@en\" \n",
    "        if subj in qnode_dict_notinwiki and pred in pred_wikidata_dict:\n",
    "            subj=qnode_dict_notinwiki[subj]\n",
    "            output_row.append(str(subj))\n",
    "            output_row.append(str(pred_wikidata_dict[pred]))\n",
    "            output_row.append(str(obj))\n",
    "        \n",
    "            output_rows_qrxnode_pnode_fda.append(output_row)\n",
    "        elif subj in qnode_dict_notinwiki and pred not in pred_wikidata_dict:\n",
    "            subj=qnode_dict_notinwiki[subj]\n",
    "            output_row.append(str(subj))\n",
    "            if pred in identifier_source_list:\n",
    "                pred_notinwikidata_dict_fda[pred]=\"PRX_ID_\"+pred\n",
    "            else:\n",
    "                pred_notinwikidata_dict_fda[pred]=\"PRX_FDA_\"+pred\n",
    "            pred=pred_notinwikidata_dict_fda[pred]\n",
    "            output_row.append(str(pred))\n",
    "            output_row.append(str(obj))\n",
    "        \n",
    "            output_rows_qrxnode_prxnode_fda.append(output_row)\n",
    "            \n",
    "        elif subj not in qnode_dict_notinwiki and pred in pred_wikidata_dict:\n",
    "            subj=qnode_dict_inwiki[subj]\n",
    "            output_row.append(str(subj))\n",
    "            output_row.append(str(pred_wikidata_dict[pred]))\n",
    "            output_row.append(str(obj))\n",
    "        \n",
    "            output_rows_qnode_pnode_fda.append(output_row)\n",
    "        elif subj not in qnode_dict_notinwiki and pred not in pred_wikidata_dict:\n",
    "            subj=qnode_dict_inwiki[subj]\n",
    "            output_row.append(str(subj))\n",
    "            if pred in identifier_source_list:\n",
    "                pred_notinwikidata_dict_fda[pred]=\"PRX_ID_\"+pred\n",
    "            else:\n",
    "                pred_notinwikidata_dict_fda[pred]=\"PRX_FDA_\"+pred\n",
    "            pred=pred_notinwikidata_dict_fda[pred]\n",
    "            output_row.append(str(pred))\n",
    "            output_row.append(str(obj))\n",
    "        \n",
    "            output_rows_qnode_prxnode_fda.append(output_row)"
   ]
  },
  {
   "cell_type": "code",
   "execution_count": null,
   "metadata": {
    "colab": {
     "base_uri": "https://localhost:8080/"
    },
    "executionInfo": {
     "elapsed": 187021,
     "status": "ok",
     "timestamp": 1608101376405,
     "user": {
      "displayName": "Vishal Lal",
      "photoUrl": "",
      "userId": "14499003186519065342"
     },
     "user_tz": 480
    },
    "id": "W3HuCGKEWoR9",
    "outputId": "bc6fa4e3-eacc-474c-e431-7f550b2b1bd1"
   },
   "outputs": [],
   "source": [
    "with open('../results/fda/intermediate_triples/fda_triples_spl_labeling.tsv', encoding=\"utf-8\") as f:\n",
    "    reader = csv.reader(f, delimiter='\\t')\n",
    "    \n",
    "    header_list = next(reader)\n",
    "    print(\"Header=\", header_list)\n",
    "    \n",
    "    #umlscui_dict={}\n",
    "    \n",
    "   \n",
    "    for row in reader:\n",
    "        output_row=[]\n",
    "        \n",
    "        obj=str(row[2])\n",
    "        if \"'\" in obj:\n",
    "            obj=obj.replace(\"\\'\",\"\\\\'\")\n",
    "        #print(obj[:1])\n",
    "        pred=str(row[1])\n",
    "        if pred== \"package_ndc\":\n",
    "            pred=\"NDC 3 Segment\"\n",
    "        elif pred== \"spl_set_id\":\n",
    "            pred=\"SPL_SET_ID\"\n",
    "        elif pred==\"rxcui\":\n",
    "            pred=\"Related RXNorm\"\n",
    "        \n",
    "        subj=spl_setid_dict[str(row[0])]\n",
    "        if \"date\" in pred:\n",
    "            obj=\"^\"+'-'.join([obj[:4], obj[4:6], obj[6:]])\n",
    "        elif pred in (\"NDC 3 Segment\", \"SPL_SET_ID\", \"spl_id\", \"product_id\", \"Related RXNorm\", \"unii\", \"upc\"):\n",
    "            obj=\"\\\"\"+obj+\"\\\"\"\n",
    "        else:\n",
    "            obj=\"\\'\"+obj+\"\\'\"+\"@en\" \n",
    "        if subj in qnode_dict_notinwiki and pred in pred_wikidata_dict:\n",
    "            subj=qnode_dict_notinwiki[subj]\n",
    "            output_row.append(str(subj))\n",
    "            output_row.append(str(pred_wikidata_dict[pred]))\n",
    "            output_row.append(str(obj))\n",
    "        \n",
    "            output_rows_qrxnode_pnode_fda.append(output_row)\n",
    "        elif subj in qnode_dict_notinwiki and pred not in pred_wikidata_dict:\n",
    "            subj=qnode_dict_notinwiki[subj]\n",
    "            output_row.append(str(subj))\n",
    "            if pred in identifier_source_list:\n",
    "                pred_notinwikidata_dict_fda[pred]=\"PRX_ID_\"+pred\n",
    "            else:\n",
    "                pred_notinwikidata_dict_fda[pred]=\"PRX_FDA_\"+pred\n",
    "            pred=pred_notinwikidata_dict_fda[pred]\n",
    "            output_row.append(str(pred))\n",
    "            output_row.append(str(obj))\n",
    "        \n",
    "            output_rows_qrxnode_prxnode_fda.append(output_row)\n",
    "            \n",
    "        elif subj not in qnode_dict_notinwiki and pred in pred_wikidata_dict:\n",
    "            subj=qnode_dict_inwiki[subj]\n",
    "            output_row.append(str(subj))\n",
    "            output_row.append(str(pred_wikidata_dict[pred]))\n",
    "            output_row.append(str(obj))\n",
    "        \n",
    "            output_rows_qnode_pnode_fda.append(output_row)\n",
    "        elif subj not in qnode_dict_notinwiki and pred not in pred_wikidata_dict:\n",
    "            subj=qnode_dict_inwiki[subj]\n",
    "            output_row.append(str(subj))\n",
    "            if pred in identifier_source_list:\n",
    "                pred_notinwikidata_dict_fda[pred]=\"PRX_ID_\"+pred\n",
    "            else:\n",
    "                pred_notinwikidata_dict_fda[pred]=\"PRX_FDA_\"+pred\n",
    "            pred=pred_notinwikidata_dict_fda[pred]\n",
    "            output_row.append(str(pred))\n",
    "            output_row.append(str(obj))\n",
    "        \n",
    "            output_rows_qnode_prxnode_fda.append(output_row)"
   ]
  },
  {
   "cell_type": "code",
   "execution_count": null,
   "metadata": {
    "colab": {
     "base_uri": "https://localhost:8080/"
    },
    "executionInfo": {
     "elapsed": 187231,
     "status": "ok",
     "timestamp": 1608101376625,
     "user": {
      "displayName": "Vishal Lal",
      "photoUrl": "",
      "userId": "14499003186519065342"
     },
     "user_tz": 480
    },
    "id": "r92GVFlPWsrW",
    "outputId": "95012770-51e5-46d0-ec9b-d6f849fe9371"
   },
   "outputs": [],
   "source": [
    "with open('../results/fda/intermediate_triples/fda_triples_application_drugsfda.tsv', encoding=\"utf-8\") as f:\n",
    "    reader = csv.reader(f, delimiter='\\t')\n",
    "    \n",
    "    header_list = next(reader)\n",
    "    print(\"Header=\", header_list)\n",
    "    \n",
    "    #umlscui_dict={}\n",
    "    \n",
    "   \n",
    "    for row in reader:\n",
    "        output_row=[]\n",
    "        \n",
    "        obj=str(row[2])\n",
    "        if \"'\" in obj:\n",
    "            obj=obj.replace(\"\\'\",\"\\\\'\")\n",
    "        #print(obj[:1])\n",
    "        pred=str(row[1])\n",
    "        if pred== \"package_ndc\":\n",
    "            pred=\"NDC 3 Segment\"\n",
    "        elif pred== \"spl_set_id\":\n",
    "            pred=\"SPL_SET_ID\"\n",
    "        elif pred==\"rxcui\":\n",
    "            pred=\"Related RXNorm\"\n",
    "        \n",
    "        subj=application_dict[str(row[0])]\n",
    "        if \"date\" in pred:\n",
    "            obj=\"^\"+'-'.join([obj[:4], obj[4:6], obj[6:]])\n",
    "        elif pred in (\"NDC 3 Segment\", \"SPL_SET_ID\", \"spl_id\", \"product_id\", \"Related RXNorm\", \"unii\", \"upc\"):\n",
    "            obj=\"\\\"\"+obj+\"\\\"\"\n",
    "        else:\n",
    "            obj=\"\\'\"+obj+\"\\'\"+\"@en\" \n",
    "        if subj in qnode_dict_notinwiki and pred in pred_wikidata_dict:\n",
    "            subj=qnode_dict_notinwiki[subj]\n",
    "            output_row.append(str(subj))\n",
    "            output_row.append(str(pred_wikidata_dict[pred]))\n",
    "            output_row.append(str(obj))\n",
    "        \n",
    "            output_rows_qrxnode_pnode_fda.append(output_row)\n",
    "        elif subj in qnode_dict_notinwiki and pred not in pred_wikidata_dict:\n",
    "            subj=qnode_dict_notinwiki[subj]\n",
    "            output_row.append(str(subj))\n",
    "            if pred in identifier_source_list:\n",
    "                pred_notinwikidata_dict_fda[pred]=\"PRX_ID_\"+pred\n",
    "            else:\n",
    "                pred_notinwikidata_dict_fda[pred]=\"PRX_FDA_\"+pred\n",
    "            pred=pred_notinwikidata_dict_fda[pred]\n",
    "            output_row.append(str(pred))\n",
    "            output_row.append(str(obj))\n",
    "        \n",
    "            output_rows_qrxnode_prxnode_fda.append(output_row)\n",
    "            \n",
    "        elif subj not in qnode_dict_notinwiki and pred in pred_wikidata_dict:\n",
    "            subj=qnode_dict_inwiki[subj]\n",
    "            output_row.append(str(subj))\n",
    "            output_row.append(str(pred_wikidata_dict[pred]))\n",
    "            output_row.append(str(obj))\n",
    "        \n",
    "            output_rows_qnode_pnode_fda.append(output_row)\n",
    "        elif subj not in qnode_dict_notinwiki and pred not in pred_wikidata_dict:\n",
    "            subj=qnode_dict_inwiki[subj]\n",
    "            output_row.append(str(subj))\n",
    "            if pred in identifier_source_list:\n",
    "                pred_notinwikidata_dict_fda[pred]=\"PRX_ID_\"+pred\n",
    "            else:\n",
    "                pred_notinwikidata_dict_fda[pred]=\"PRX_FDA_\"+pred\n",
    "            pred=pred_notinwikidata_dict_fda[pred]\n",
    "            output_row.append(str(pred))\n",
    "            output_row.append(str(obj))\n",
    "        \n",
    "            output_rows_qnode_prxnode_fda.append(output_row)"
   ]
  },
  {
   "cell_type": "code",
   "execution_count": null,
   "metadata": {
    "colab": {
     "base_uri": "https://localhost:8080/"
    },
    "executionInfo": {
     "elapsed": 187221,
     "status": "ok",
     "timestamp": 1608101376625,
     "user": {
      "displayName": "Vishal Lal",
      "photoUrl": "",
      "userId": "14499003186519065342"
     },
     "user_tz": 480
    },
    "id": "RS8UlWUqWxPn",
    "outputId": "b644480a-84ba-4eca-d5e9-089e9539a628"
   },
   "outputs": [],
   "source": [
    "with open('../results/fda/intermediate_triples/fda_triples_package_enforcement.tsv', encoding=\"utf-8\") as f:\n",
    "    reader = csv.reader(f, delimiter='\\t')\n",
    "    \n",
    "    header_list = next(reader)\n",
    "    print(\"Header=\", header_list)\n",
    "    \n",
    "    #umlscui_dict={}\n",
    "    \n",
    "   \n",
    "    for row in reader:\n",
    "        output_row=[]\n",
    "        \n",
    "        obj=str(row[2])\n",
    "        if \"'\" in obj:\n",
    "            obj=obj.replace(\"\\'\",\"\\\\'\")\n",
    "        #print(obj[:1])\n",
    "        pred=str(row[1])\n",
    "        if pred== \"package_ndc\":\n",
    "            pred=\"NDC 3 Segment\"\n",
    "        elif pred== \"spl_set_id\":\n",
    "            pred=\"SPL_SET_ID\"\n",
    "        elif pred==\"rxcui\":\n",
    "            pred=\"Related RXNorm\"\n",
    "        \n",
    "        subj=ndc3seg_dict[str(row[0])]\n",
    "        if \"date\" in pred:\n",
    "            obj=\"^\"+'-'.join([obj[:4], obj[4:6], obj[6:]])\n",
    "        elif pred in (\"NDC 3 Segment\", \"SPL_SET_ID\", \"spl_id\", \"product_id\", \"Related RXNorm\", \"unii\", \"upc\", \"event_id\"):\n",
    "            obj=\"\\\"\"+obj+\"\\\"\"\n",
    "        else:\n",
    "            obj=\"\\'\"+obj+\"\\'\"+\"@en\" \n",
    "        if subj in qnode_dict_notinwiki and pred in pred_wikidata_dict:\n",
    "            subj=qnode_dict_notinwiki[subj]\n",
    "            output_row.append(str(subj))\n",
    "            output_row.append(str(pred_wikidata_dict[pred]))\n",
    "            output_row.append(str(obj))\n",
    "        \n",
    "            output_rows_qrxnode_pnode_fda.append(output_row)\n",
    "        elif subj in qnode_dict_notinwiki and pred not in pred_wikidata_dict:\n",
    "            subj=qnode_dict_notinwiki[subj]\n",
    "            output_row.append(str(subj))\n",
    "            if pred in identifier_source_list:\n",
    "                pred_notinwikidata_dict_fda[pred]=\"PRX_ID_\"+pred\n",
    "            else:\n",
    "                pred_notinwikidata_dict_fda[pred]=\"PRX_FDA_\"+pred\n",
    "            pred=pred_notinwikidata_dict_fda[pred]\n",
    "            output_row.append(str(pred))\n",
    "            output_row.append(str(obj))\n",
    "        \n",
    "            output_rows_qrxnode_prxnode_fda.append(output_row)\n",
    "            \n",
    "        elif subj not in qnode_dict_notinwiki and pred in pred_wikidata_dict:\n",
    "            subj=qnode_dict_inwiki[subj]\n",
    "            output_row.append(str(subj))\n",
    "            output_row.append(str(pred_wikidata_dict[pred]))\n",
    "            output_row.append(str(obj))\n",
    "        \n",
    "            output_rows_qnode_pnode_fda.append(output_row)\n",
    "        elif subj not in qnode_dict_notinwiki and pred not in pred_wikidata_dict:\n",
    "            subj=qnode_dict_inwiki[subj]\n",
    "            output_row.append(str(subj))\n",
    "            if pred in identifier_source_list:\n",
    "                pred_notinwikidata_dict_fda[pred]=\"PRX_ID_\"+pred\n",
    "            else:\n",
    "                pred_notinwikidata_dict_fda[pred]=\"PRX_FDA_\"+pred\n",
    "            pred=pred_notinwikidata_dict_fda[pred]\n",
    "            output_row.append(str(pred))\n",
    "            output_row.append(str(obj))\n",
    "        \n",
    "            output_rows_qnode_prxnode_fda.append(output_row)"
   ]
  },
  {
   "cell_type": "code",
   "execution_count": null,
   "metadata": {
    "executionInfo": {
     "elapsed": 187810,
     "status": "ok",
     "timestamp": 1608101377225,
     "user": {
      "displayName": "Vishal Lal",
      "photoUrl": "",
      "userId": "14499003186519065342"
     },
     "user_tz": 480
    },
    "id": "2haIUnO5W0-5"
   },
   "outputs": [],
   "source": [
    "write_tsv('../results/fda/kgtk_triples/nodes/qrxnode_prxnode_fda.tsv', output_rows_qrxnode_prxnode_fda)\n",
    "write_tsv('../results/fda/kgtk_triples/nodes/qnode_prxnode_fda.tsv', output_rows_qnode_prxnode_fda)\n",
    "\n",
    "write_tsv('../results/fda/kgtk_triples/nodes/qrxnode_pnode_fda.tsv', output_rows_qrxnode_pnode_fda)\n",
    "write_tsv('../results/fda/kgtk_triples/nodes/qnode_pnode_fda.tsv', output_rows_qnode_pnode_fda)"
   ]
  },
  {
   "cell_type": "code",
   "execution_count": null,
   "metadata": {
    "colab": {
     "base_uri": "https://localhost:8080/"
    },
    "executionInfo": {
     "elapsed": 187803,
     "status": "ok",
     "timestamp": 1608101377225,
     "user": {
      "displayName": "Vishal Lal",
      "photoUrl": "",
      "userId": "14499003186519065342"
     },
     "user_tz": 480
    },
    "id": "BpBonQq4W4gt",
    "outputId": "9a4ff2e6-2a20-4482-e805-447e403f7a71"
   },
   "outputs": [],
   "source": [
    "for x in pred_notinwikidata_dict_fda.keys():\n",
    "    \n",
    "    print(x)\n",
    "    \n",
    "    output_row=[]\n",
    "    pred_value=pred_notinwikidata_dict_fda[x]\n",
    "    output_row.append(pred_value)\n",
    "    output_row.append(\"label\")\n",
    "    output_row.append(\"\\'\"+x+\"\\'\"+\"@en\")\n",
    "    output_rows_prxnode_fda.append(output_row)\n",
    "    output_rows_prxnode_edges_fda.append(output_row)\n",
    "    \n",
    "    output_row=[]\n",
    "    output_row.append(pred_value)\n",
    "    output_row.append(\"description\")\n",
    "    output_row.append(\"\\'\"+x+\"\\'\"+\"@en\")\n",
    "    output_rows_prxnode_fda.append(output_row)\n",
    "    output_rows_prxnode_edges_fda.append(output_row)\n",
    "    \n",
    "    output_row=[]\n",
    "    output_row.append(pred_value)\n",
    "    output_row.append(\"data_type\")\n",
    "    if (\"PRX_ID_\" in pred_value):\n",
    "        output_row.append(\"\\\"\"+\"external-identifier\"+\"\\\"\")\n",
    "    elif (\"PRX_FDA_\" in pred_value):\n",
    "        output_row.append(\"\\\"\"+\"string\"+\"\\\"\")\n",
    "    #output_row.append(\"\\\"String\\\"\")\n",
    "    output_rows_prxnode_fda.append(output_row)\n",
    "    output_rows_prxnode_datatype_fda.append(output_row)"
   ]
  },
  {
   "cell_type": "code",
   "execution_count": null,
   "metadata": {
    "executionInfo": {
     "elapsed": 187794,
     "status": "ok",
     "timestamp": 1608101377226,
     "user": {
      "displayName": "Vishal Lal",
      "photoUrl": "",
      "userId": "14499003186519065342"
     },
     "user_tz": 480
    },
    "id": "20FPgZbsW8g6"
   },
   "outputs": [],
   "source": [
    "write_tsv(\"../results/fda/kgtk_triples/properties/prxnode_fda.tsv\", output_rows_prxnode_fda)\n",
    "write_tsv(\"../results/fda/kgtk_triples/properties/prxnode_edges_fda.tsv\", output_rows_prxnode_edges_fda)\n",
    "write_tsv(\"../results/fda/kgtk_triples/properties/prxnode_datatype_fda.tsv\", output_rows_prxnode_datatype_fda)"
   ]
  },
  {
   "cell_type": "code",
   "execution_count": null,
   "metadata": {
    "executionInfo": {
     "elapsed": 191260,
     "status": "ok",
     "timestamp": 1608101380700,
     "user": {
      "displayName": "Vishal Lal",
      "photoUrl": "",
      "userId": "14499003186519065342"
     },
     "user_tz": 480
    },
    "id": "nK5E17xwXBBA"
   },
   "outputs": [],
   "source": [
    "!kgtk compact -i ../results/rxnorm/kgtk_triples/nodes/qrxnode_pnode_rxnorm.tsv -o ../results/rxnorm/kgtk_triples_compact/nodes/qrxnode_pnode_rxnorm_compact.tsv\n",
    "!kgtk compact -i ../results/rxnorm/kgtk_triples/nodes/qrxnode_prxnode_rxnorm.tsv -o ../results/rxnorm/kgtk_triples_compact/nodes/qrxnode_prxnode_rxnorm_compact.tsv\n",
    "!kgtk compact -i ../results/rxnorm/kgtk_triples/nodes/qnode_pnode_rxnorm.tsv -o ../results/rxnorm/kgtk_triples_compact/nodes/qnode_pnode_rxnorm_compact.tsv\n",
    "!kgtk compact -i ../results/rxnorm/kgtk_triples/nodes/qnode_prxnode_rxnorm.tsv -o ../results/rxnorm/kgtk_triples_compact/nodes/qnode_prxnode_rxnorm_compact.tsv"
   ]
  },
  {
   "cell_type": "code",
   "execution_count": null,
   "metadata": {
    "executionInfo": {
     "elapsed": 194968,
     "status": "ok",
     "timestamp": 1608101384414,
     "user": {
      "displayName": "Vishal Lal",
      "photoUrl": "",
      "userId": "14499003186519065342"
     },
     "user_tz": 480
    },
    "id": "TaDS2UfgarLQ"
   },
   "outputs": [],
   "source": [
    "!kgtk compact -i ../results/fda/kgtk_triples/nodes/qrxnode_pnode_fda.tsv -o ../results/fda/kgtk_triples_compact/nodes/qrxnode_pnode_fda_compact.tsv\n",
    "!kgtk compact -i ../results/fda/kgtk_triples/nodes/qrxnode_prxnode_fda.tsv -o ../results/fda/kgtk_triples_compact/nodes/qrxnode_prxnode_fda_compact.tsv\n",
    "!kgtk compact -i ../results/fda/kgtk_triples/nodes/qnode_pnode_fda.tsv -o ../results/fda/kgtk_triples_compact/nodes/qnode_pnode_fda_compact.tsv\n",
    "!kgtk compact -i ../results/fda/kgtk_triples/nodes/qnode_prxnode_fda.tsv -o ../results/fda/kgtk_triples_compact/nodes/qnode_prxnode_fda_compact.tsv"
   ]
  },
  {
   "cell_type": "code",
   "execution_count": null,
   "metadata": {
    "executionInfo": {
     "elapsed": 195541,
     "status": "ok",
     "timestamp": 1608101384993,
     "user": {
      "displayName": "Vishal Lal",
      "photoUrl": "",
      "userId": "14499003186519065342"
     },
     "user_tz": 480
    },
    "id": "rmFVaFHk5r_h"
   },
   "outputs": [],
   "source": [
    "!kgtk compact -i ../results/rxnorm/kgtk_triples/properties/prxnode_edges_rxnorm.tsv -o ../results/rxnorm/kgtk_triples_compact/properties/prxnode_edges_rxnorm_compact.tsv"
   ]
  },
  {
   "cell_type": "code",
   "execution_count": null,
   "metadata": {
    "executionInfo": {
     "elapsed": 196309,
     "status": "ok",
     "timestamp": 1608101385767,
     "user": {
      "displayName": "Vishal Lal",
      "photoUrl": "",
      "userId": "14499003186519065342"
     },
     "user_tz": 480
    },
    "id": "Nwqwu2QI58j-"
   },
   "outputs": [],
   "source": [
    "!kgtk compact -i ../results/fda/kgtk_triples/properties/prxnode_edges_fda.tsv -o ../results/fda/kgtk_triples_compact/properties/prxnode_edges_fda_compact.tsv"
   ]
  },
  {
   "cell_type": "code",
   "execution_count": null,
   "metadata": {
    "executionInfo": {
     "elapsed": 199581,
     "status": "ok",
     "timestamp": 1608101389044,
     "user": {
      "displayName": "Vishal Lal",
      "photoUrl": "",
      "userId": "14499003186519065342"
     },
     "user_tz": 480
    },
    "id": "HEW3d6rybCZy"
   },
   "outputs": [],
   "source": [
    "!kgtk add-id -i ../results/rxnorm/kgtk_triples_compact/nodes/qrxnode_pnode_rxnorm_compact.tsv -o ../results/rxnorm/kgtk_triples_id/nodes/qrxnode_pnode_rxnorm_id.tsv --id-style node1-label-node2-num\n",
    "!kgtk add-id -i ../results/rxnorm/kgtk_triples_compact/nodes/qrxnode_prxnode_rxnorm_compact.tsv -o ../results/rxnorm/kgtk_triples_id/nodes/qrxnode_prxnode_rxnorm_id.tsv --id-style node1-label-node2-num\n",
    "!kgtk add-id -i ../results/rxnorm/kgtk_triples_compact/nodes/qnode_pnode_rxnorm_compact.tsv -o ../results/rxnorm/kgtk_triples_id/nodes/qnode_pnode_rxnorm_id.tsv --id-style node1-label-node2-num\n",
    "!kgtk add-id -i ../results/rxnorm/kgtk_triples_compact/nodes/qnode_prxnode_rxnorm_compact.tsv -o ../results/rxnorm/kgtk_triples_id/nodes/qnode_prxnode_rxnorm_id.tsv --id-style node1-label-node2-num"
   ]
  },
  {
   "cell_type": "code",
   "execution_count": null,
   "metadata": {
    "executionInfo": {
     "elapsed": 202662,
     "status": "ok",
     "timestamp": 1608101392131,
     "user": {
      "displayName": "Vishal Lal",
      "photoUrl": "",
      "userId": "14499003186519065342"
     },
     "user_tz": 480
    },
    "id": "KN6BL1xHcoCU"
   },
   "outputs": [],
   "source": [
    "!kgtk add-id -i ../results/fda/kgtk_triples_compact/nodes/qrxnode_pnode_fda_compact.tsv -o ../results/fda/kgtk_triples_id/nodes/qrxnode_pnode_fda_id.tsv --id-style node1-label-node2-num\n",
    "!kgtk add-id -i ../results/fda/kgtk_triples_compact/nodes/qrxnode_prxnode_fda_compact.tsv -o ../results/fda/kgtk_triples_id/nodes/qrxnode_prxnode_fda_id.tsv --id-style node1-label-node2-num\n",
    "!kgtk add-id -i ../results/fda/kgtk_triples_compact/nodes/qnode_pnode_fda_compact.tsv -o ../results/fda/kgtk_triples_id/nodes/qnode_pnode_fda_id.tsv --id-style node1-label-node2-num\n",
    "!kgtk add-id -i ../results/fda/kgtk_triples_compact/nodes/qnode_prxnode_fda_compact.tsv -o ../results/fda/kgtk_triples_id/nodes/qnode_prxnode_fda_id.tsv --id-style node1-label-node2-num"
   ]
  },
  {
   "cell_type": "code",
   "execution_count": null,
   "metadata": {
    "executionInfo": {
     "elapsed": 203390,
     "status": "ok",
     "timestamp": 1608101392864,
     "user": {
      "displayName": "Vishal Lal",
      "photoUrl": "",
      "userId": "14499003186519065342"
     },
     "user_tz": 480
    },
    "id": "Rmrogb7z6JEH"
   },
   "outputs": [],
   "source": [
    "!kgtk add-id -i ../results/rxnorm/kgtk_triples_compact/properties/prxnode_edges_rxnorm_compact.tsv -o ../results/rxnorm/kgtk_triples_id/properties/prxnode_edges_rxnorm_id.tsv --id-style node1-label-node2-num"
   ]
  },
  {
   "cell_type": "code",
   "execution_count": null,
   "metadata": {
    "executionInfo": {
     "elapsed": 204165,
     "status": "ok",
     "timestamp": 1608101393646,
     "user": {
      "displayName": "Vishal Lal",
      "photoUrl": "",
      "userId": "14499003186519065342"
     },
     "user_tz": 480
    },
    "id": "QENJx9Gu6f4r"
   },
   "outputs": [],
   "source": [
    "!kgtk add-id -i ../results/fda/kgtk_triples_compact/properties/prxnode_edges_fda_compact.tsv -o ../results/fda/kgtk_triples_id/properties/prxnode_edges_fda_id.tsv --id-style node1-label-node2-num"
   ]
  },
  {
   "cell_type": "code",
   "execution_count": null,
   "metadata": {
    "colab": {
     "base_uri": "https://localhost:8080/"
    },
    "executionInfo": {
     "elapsed": 209097,
     "status": "ok",
     "timestamp": 1608101398584,
     "user": {
      "displayName": "Vishal Lal",
      "photoUrl": "",
      "userId": "14499003186519065342"
     },
     "user_tz": 480
    },
    "id": "A-zXcve_dQFW",
    "outputId": "69997588-da7b-4117-b992-847bf1441300"
   },
   "outputs": [],
   "source": [
    "!kgtk validate -i ../results/rxnorm/kgtk_triples_id/nodes/qrxnode_pnode_rxnorm_id.tsv -v\n",
    "!kgtk validate -i ../results/rxnorm/kgtk_triples_id/nodes/qrxnode_prxnode_rxnorm_id.tsv -v\n",
    "!kgtk validate -i ../results/rxnorm/kgtk_triples_id/nodes/qnode_pnode_rxnorm_id.tsv -v\n",
    "!kgtk validate -i ../results/rxnorm/kgtk_triples_id/nodes/qnode_prxnode_rxnorm_id.tsv -v"
   ]
  },
  {
   "cell_type": "code",
   "execution_count": null,
   "metadata": {
    "colab": {
     "base_uri": "https://localhost:8080/"
    },
    "executionInfo": {
     "elapsed": 214206,
     "status": "ok",
     "timestamp": 1608101403703,
     "user": {
      "displayName": "Vishal Lal",
      "photoUrl": "",
      "userId": "14499003186519065342"
     },
     "user_tz": 480
    },
    "id": "S1odj5LSeCbK",
    "outputId": "8f43a146-6763-4a7f-c68d-2d05683b4790"
   },
   "outputs": [],
   "source": [
    "!kgtk validate -i ../results/fda/kgtk_triples_id/nodes/qrxnode_pnode_fda_id.tsv -v\n",
    "!kgtk validate -i ../results/fda/kgtk_triples_id/nodes/qrxnode_prxnode_fda_id.tsv -v\n",
    "!kgtk validate -i ../results/fda/kgtk_triples_id/nodes/qnode_pnode_fda_id.tsv -v\n",
    "!kgtk validate -i ../results/fda/kgtk_triples_id/nodes/qnode_prxnode_fda_id.tsv -v"
   ]
  },
  {
   "cell_type": "code",
   "execution_count": null,
   "metadata": {
    "colab": {
     "base_uri": "https://localhost:8080/"
    },
    "executionInfo": {
     "elapsed": 215183,
     "status": "ok",
     "timestamp": 1608101404690,
     "user": {
      "displayName": "Vishal Lal",
      "photoUrl": "",
      "userId": "14499003186519065342"
     },
     "user_tz": 480
    },
    "id": "hKlAL8iM6o2W",
    "outputId": "9da8442d-12c8-4f61-b4c8-ded5cac2fa85"
   },
   "outputs": [],
   "source": [
    "!kgtk validate -i ../results/rxnorm/kgtk_triples_id/properties/prxnode_edges_rxnorm_id.tsv -v"
   ]
  },
  {
   "cell_type": "code",
   "execution_count": null,
   "metadata": {
    "colab": {
     "base_uri": "https://localhost:8080/"
    },
    "executionInfo": {
     "elapsed": 215584,
     "status": "ok",
     "timestamp": 1608101405101,
     "user": {
      "displayName": "Vishal Lal",
      "photoUrl": "",
      "userId": "14499003186519065342"
     },
     "user_tz": 480
    },
    "id": "PTaFuQBg7K0E",
    "outputId": "6028a8a4-132f-40df-8912-1e9cf1d10a97"
   },
   "outputs": [],
   "source": [
    "!kgtk validate -i ../results/fda/kgtk_triples_id/properties/prxnode_edges_fda_id.tsv -v"
   ]
  },
  {
   "cell_type": "code",
   "execution_count": null,
   "metadata": {
    "colab": {
     "base_uri": "https://localhost:8080/"
    },
    "executionInfo": {
     "elapsed": 216121,
     "status": "ok",
     "timestamp": 1608101405648,
     "user": {
      "displayName": "Vishal Lal",
      "photoUrl": "",
      "userId": "14499003186519065342"
     },
     "user_tz": 480
    },
    "id": "lFmbX50v3hJQ",
    "outputId": "9bb14b56-5505-4fb4-90ec-5d89fb3a42eb"
   },
   "outputs": [],
   "source": [
    "output_rows_qrxnode_prxnode_fda_qualifier=[]\n",
    "output_rows_qnode_prxnode_fda_qualifier=[]\n",
    "pred_notinwikidata_dict_fda_qualifier={}\n",
    "\n",
    "with open('../results/fda/kgtk_triples_id/nodes/qrxnode_prxnode_fda_id.tsv', encoding=\"utf-8\") as f:\n",
    "    reader = csv.reader(f, delimiter='\\t')\n",
    "    \n",
    "    header_list = next(reader)\n",
    "    print(\"Header=\", header_list)\n",
    "    \n",
    "    #umlscui_dict={}\n",
    "    print(submisions_dict)\n",
    "    print(products_dict)\n",
    "    print(active_ingredients_dict)\n",
    "   \n",
    "    for row in reader:\n",
    "        \n",
    "        if row[1] in ('PRX_FDA_product_number','PRX_FDA_submission_status_date', 'PRX_FDA_active_ingredients'):\n",
    "          print(row[0], row[2])\n",
    "          rxnode=row[0].split('QRX',1)[1]\n",
    "          if row[1]=='PRX_FDA_product_number':\n",
    "            prodno=row[2].split('@',1)[0].replace(\"'\",\"\")\n",
    "            rxnode_key=rxnode+\"_\"+prodno\n",
    "            print(rxnode_key)\n",
    "            if rxnode_key in products_dict:\n",
    "              product_associated_triples=products_dict[rxnode_key]\n",
    "              for val in product_associated_triples:\n",
    "                output_row=[]\n",
    "                output_row.append(row[3])\n",
    "                \n",
    "                pred=val[1]\n",
    "                if pred in identifier_source_list:\n",
    "                  pred_notinwikidata_dict_fda_qualifier[pred]=\"PRX_ID_\"+pred\n",
    "                else:\n",
    "                  pred_notinwikidata_dict_fda_qualifier[pred]=\"PRX_FDA_\"+pred \n",
    "                \n",
    "                pred=pred_notinwikidata_dict_fda_qualifier[pred]\n",
    "                output_row.append(pred)\n",
    "                output_row.append(\"\\\"\"+val[2]+\"\\\"\")\n",
    "                output_rows_qrxnode_prxnode_fda_qualifier.append(output_row)\n",
    "          elif row[1]=='PRX_FDA_submission_status_date':\n",
    "            prodno=row[2].split('^',1)[1].replace(\"-\",\"\")\n",
    "            rxnode_key=rxnode+\"_\"+prodno\n",
    "            print(rxnode_key)\n",
    "            if rxnode_key in submisions_dict:\n",
    "              sub_associated_triples=submisions_dict[rxnode_key]\n",
    "              for val in product_associated_triples:\n",
    "                output_row=[]\n",
    "                output_row.append(row[3])\n",
    "                pred=val[1]\n",
    "                if pred in identifier_source_list:\n",
    "                  pred_notinwikidata_dict_fda_qualifier[pred]=\"PRX_ID_\"+pred\n",
    "                else:\n",
    "                  pred_notinwikidata_dict_fda_qualifier[pred]=\"PRX_FDA_\"+pred \n",
    "                \n",
    "                pred=pred_notinwikidata_dict_fda_qualifier[pred]\n",
    "                output_row.append(pred)\n",
    "                output_row.append(\"\\\"\"+val[2]+\"\\\"\")\n",
    "                output_rows_qrxnode_prxnode_fda_qualifier.append(output_row)\n",
    "          else:\n",
    "            prodno=row[2].split('@',1)[0].replace(\"'\",\"\")\n",
    "            rxnode_key=rxnode+\"_\"+prodno\n",
    "            print(rxnode_key)\n",
    "            if rxnode_key in active_ingredients_dict:\n",
    "              val=active_ingredients_dict[rxnode_key]\n",
    "              \n",
    "              output_row=[]\n",
    "              output_row.append(row[3])\n",
    "              pred='strength'\n",
    "              if pred in identifier_source_list:\n",
    "                pred_notinwikidata_dict_fda_qualifier[pred]=\"PRX_ID_\"+pred\n",
    "              else:\n",
    "                pred_notinwikidata_dict_fda_qualifier[pred]=\"PRX_FDA_\"+pred \n",
    "              \n",
    "              pred=pred_notinwikidata_dict_fda_qualifier[pred]\n",
    "              output_row.append(pred)\n",
    "              output_row.append(\"\\\"\"+val+\"\\\"\")\n",
    "              output_rows_qrxnode_prxnode_fda_qualifier.append(output_row)\n",
    "\n",
    "print(output_rows_qrxnode_prxnode_fda_qualifier)\n",
    "\n",
    "with open('../results/fda/kgtk_triples_id/nodes/qnode_prxnode_fda_id.tsv', encoding=\"utf-8\") as f:\n",
    "    reader = csv.reader(f, delimiter='\\t')\n",
    "    \n",
    "    header_list = next(reader)\n",
    "    print(\"Header=\", header_list)\n",
    "    \n",
    "    #umlscui_dict={}\n",
    "    #print(submisions_dict)\n",
    "    #print(products_dict)\n",
    "   \n",
    "    for row in reader:\n",
    "        \n",
    "        if row[1] in ('PRX_FDA_product_number','PRX_FDA_submission_status_date', 'PRX_FDA_active_ingredients'):\n",
    "          print(row[0], row[2])\n",
    "          rxnode=get_key(row[0],qnode_dict_inwiki)\n",
    "          if row[1]=='PRX_FDA_product_number':\n",
    "            prodno=row[2].split('@',1)[0].replace(\"'\",\"\")\n",
    "            rxnode_key=rxnode+\"_\"+prodno\n",
    "            print(rxnode_key)\n",
    "            if rxnode_key in products_dict:\n",
    "              product_associated_triples=products_dict[rxnode_key]\n",
    "              for val in product_associated_triples:\n",
    "                output_row=[]\n",
    "                output_row.append(row[3])\n",
    "                pred=val[1]\n",
    "                if pred in identifier_source_list:\n",
    "                  pred_notinwikidata_dict_fda_qualifier[pred]=\"PRX_ID_\"+pred\n",
    "                else:\n",
    "                  pred_notinwikidata_dict_fda_qualifier[pred]=\"PRX_FDA_\"+pred \n",
    "                \n",
    "                pred=pred_notinwikidata_dict_fda_qualifier[pred]\n",
    "                output_row.append(pred)\n",
    "                output_row.append(\"\\\"\"+val[2]+\"\\\"\")\n",
    "                output_rows_qnode_prxnode_fda_qualifier.append(output_row)\n",
    "          elif row[1]=='PRX_FDA_submission_status_date':\n",
    "            prodno=row[2].split('^',1)[1].replace(\"-\",\"\")\n",
    "            rxnode_key=rxnode+\"_\"+prodno\n",
    "            print(rxnode_key)\n",
    "            if rxnode_key in submisions_dict:\n",
    "              sub_associated_triples=submisions_dict[rxnode_key]\n",
    "              for val in product_associated_triples:\n",
    "                output_row=[]\n",
    "                output_row.append(row[3])\n",
    "                pred=val[1]\n",
    "                if pred in identifier_source_list:\n",
    "                  pred_notinwikidata_dict_fda_qualifier[pred]=\"PRX_ID_\"+pred\n",
    "                else:\n",
    "                  pred_notinwikidata_dict_fda_qualifier[pred]=\"PRX_FDA_\"+pred \n",
    "                \n",
    "                pred=pred_notinwikidata_dict_fda_qualifier[pred]\n",
    "                output_row.append(pred)\n",
    "                output_row.append(\"\\\"\"+val[2]+\"\\\"\")\n",
    "                output_rows_qnode_prxnode_fda_qualifier.append(output_row)\n",
    "          else:\n",
    "            prodno=row[2].split('@',1)[0].replace(\"'\",\"\")\n",
    "            rxnode_key=rxnode+\"_\"+prodno\n",
    "            print(rxnode_key)\n",
    "            if rxnode_key in active_ingredients_dict:\n",
    "              val=active_ingredients_dict[rxnode_key]\n",
    "              \n",
    "              output_row=[]\n",
    "              output_row.append(row[3])\n",
    "              pred='strength'\n",
    "              if pred in identifier_source_list:\n",
    "                pred_notinwikidata_dict_fda_qualifier[pred]=\"PRX_ID_\"+pred\n",
    "              else:\n",
    "                pred_notinwikidata_dict_fda_qualifier[pred]=\"PRX_FDA_\"+pred \n",
    "              \n",
    "              pred=pred_notinwikidata_dict_fda_qualifier[pred]\n",
    "              output_row.append(pred)\n",
    "              output_row.append(\"\\\"\"+val+\"\\\"\")\n",
    "              output_rows_qnode_prxnode_fda_qualifier.append(output_row)\n",
    "\n",
    "print(output_rows_qnode_prxnode_fda_qualifier)\n"
   ]
  },
  {
   "cell_type": "code",
   "execution_count": null,
   "metadata": {
    "executionInfo": {
     "elapsed": 216112,
     "status": "ok",
     "timestamp": 1608101405649,
     "user": {
      "displayName": "Vishal Lal",
      "photoUrl": "",
      "userId": "14499003186519065342"
     },
     "user_tz": 480
    },
    "id": "fIyORA30HABj"
   },
   "outputs": [],
   "source": [
    "write_tsv(\"../results/fda/kgtk_triples/qualifiers/qrxnode_prxnode_fda_qualifier.tsv\", output_rows_qrxnode_prxnode_fda_qualifier)\n",
    "write_tsv(\"../results/fda/kgtk_triples/qualifiers/qnode_prxnode_fda_qualifier.tsv\", output_rows_qnode_prxnode_fda_qualifier)"
   ]
  },
  {
   "cell_type": "code",
   "execution_count": null,
   "metadata": {
    "colab": {
     "base_uri": "https://localhost:8080/"
    },
    "executionInfo": {
     "elapsed": 216275,
     "status": "ok",
     "timestamp": 1608101405819,
     "user": {
      "displayName": "Vishal Lal",
      "photoUrl": "",
      "userId": "14499003186519065342"
     },
     "user_tz": 480
    },
    "id": "unzld4DNDw-w",
    "outputId": "6d1eec30-2d5c-4a3f-a70f-8689e9fc1220"
   },
   "outputs": [],
   "source": [
    "output_rows_qrxnode_prxnode_rxnorm_qualifier=[]\n",
    "output_rows_qrxnode_pnode_rxnorm_qualifier=[]\n",
    "\n",
    "output_rows_qnode_prxnode_rxnorm_qualifier=[]\n",
    "output_rows_qnode_pnode_rxnorm_qualifier=[]\n",
    "\n",
    "def get_key(val, input_dict):\n",
    "    for key, value in input_dict.items():\n",
    "         if val == value:\n",
    "             return key\n",
    "\n",
    "with open('../results/rxnorm/kgtk_triples_id/nodes/qrxnode_prxnode_rxnorm_id.tsv', encoding=\"utf-8\") as f:\n",
    "    reader = csv.reader(f, delimiter='\\t')\n",
    "    \n",
    "    header_list = next(reader)\n",
    "    print(\"Header=\", header_list)\n",
    "    \n",
    "    #umlscui_dict={}\n",
    "    print(rxcui_identifier_qual_dict)\n",
    "   \n",
    "    for row in reader:\n",
    "      if row[1] in (\"PRX_ID_NDDF\", \"PRX_ID_MMSL\", \"PRX_ID_VANDF\", \"PRX_ID_MMSX\", \"PRX_ID_MTHSPL\", \"PRX_ID_GS\"):\n",
    "        print(row[0], row[1])\n",
    "        rxnode=row[0].split('QRX',1)[1]\n",
    "        identifier=row[1].split('PRX_ID_',1)[1]\n",
    "        rxnode_key=rxnode+\"_\"+identifier\n",
    "        if rxnode_key in rxcui_identifier_qual_dict:\n",
    "          alias_list=rxcui_identifier_qual_dict[rxnode_key]\n",
    "          for val in alias_list:\n",
    "            output_row=[]\n",
    "            output_row.append(row[3])\n",
    "            output_row.append('alias')\n",
    "            output_row.append(val)\n",
    "            output_rows_qrxnode_prxnode_rxnorm_qualifier.append(output_row)\n",
    "\n",
    "print(output_rows_qrxnode_prxnode_rxnorm_qualifier)   \n",
    "\n",
    "\n",
    "with open('../results/rxnorm/kgtk_triples_id/nodes/qrxnode_pnode_rxnorm_id.tsv', encoding=\"utf-8\") as f:\n",
    "    reader = csv.reader(f, delimiter='\\t')\n",
    "    \n",
    "    header_list = next(reader)\n",
    "    print(\"Header=\", header_list)\n",
    "    \n",
    "    #umlscui_dict={}\n",
    "    #print(rxcui_identifier_qual_dict)\n",
    "   \n",
    "    for row in reader:\n",
    "      if row[1] in (\"P5806\", \"P486\", \"P715\", \"P267\"):\n",
    "        print(row[0], row[1])\n",
    "        \n",
    "        rxnode=row[0].split('QRX',1)[1]\n",
    "        identifier=get_key(row[1], pred_wikidata_dict)\n",
    "        rxnode_key=rxnode+\"_\"+identifier\n",
    "        print(rxnode_key)\n",
    "        if rxnode_key in rxcui_identifier_qual_dict:\n",
    "          alias_list=rxcui_identifier_qual_dict[rxnode_key]\n",
    "          for val in alias_list:\n",
    "            output_row=[]\n",
    "            output_row.append(row[3])\n",
    "            output_row.append('alias')\n",
    "            output_row.append(val)\n",
    "            output_rows_qrxnode_pnode_rxnorm_qualifier.append(output_row)\n",
    "            \n",
    "\n",
    "print(output_rows_qrxnode_pnode_rxnorm_qualifier)   \n",
    "\n",
    "with open('../results/rxnorm/kgtk_triples_id/nodes/qnode_prxnode_rxnorm_id.tsv', encoding=\"utf-8\") as f:\n",
    "    reader = csv.reader(f, delimiter='\\t')\n",
    "    \n",
    "    header_list = next(reader)\n",
    "    print(\"Header=\", header_list)\n",
    "    \n",
    "    #umlscui_dict={}\n",
    "    print(rxcui_identifier_qual_dict)\n",
    "   \n",
    "    for row in reader:\n",
    "      if row[1] in (\"PRX_ID_NDDF\", \"PRX_ID_MMSL\", \"PRX_ID_VANDF\", \"PRX_ID_MMSX\", \"PRX_ID_MTHSPL\", \"PRX_ID_GS\"):\n",
    "        print(row[0], row[1])\n",
    "        rxnode=get_key(row[0],qnode_dict_inwiki)\n",
    "        identifier=row[1].split('PRX_ID_',1)[1]\n",
    "        rxnode_key=rxnode+\"_\"+identifier\n",
    "        if rxnode_key in rxcui_identifier_qual_dict:\n",
    "          alias_list=rxcui_identifier_qual_dict[rxnode_key]\n",
    "          for val in alias_list:\n",
    "            output_row=[]\n",
    "            output_row.append(row[3])\n",
    "            output_row.append('alias')\n",
    "            output_row.append(val)\n",
    "            output_rows_qnode_prxnode_rxnorm_qualifier.append(output_row)\n",
    "\n",
    "print(output_rows_qnode_prxnode_rxnorm_qualifier) \n",
    "\n",
    "\n",
    "with open('../results/rxnorm/kgtk_triples_id/nodes/qnode_pnode_rxnorm_id.tsv', encoding=\"utf-8\") as f:\n",
    "    reader = csv.reader(f, delimiter='\\t')\n",
    "    \n",
    "    header_list = next(reader)\n",
    "    print(\"Header=\", header_list)\n",
    "    \n",
    "    #umlscui_dict={}\n",
    "    #print(rxcui_identifier_qual_dict)\n",
    "   \n",
    "    for row in reader:\n",
    "      if row[1] in (\"P5806\", \"P486\", \"P715\", \"P267\"):\n",
    "        print(row[0], row[1])\n",
    "        \n",
    "        rxnode=get_key(row[0],qnode_dict_inwiki)\n",
    "        identifier=get_key(row[1], pred_wikidata_dict)\n",
    "        rxnode_key=rxnode+\"_\"+identifier\n",
    "        print(rxnode_key)\n",
    "        if rxnode_key in rxcui_identifier_qual_dict:\n",
    "          alias_list=rxcui_identifier_qual_dict[rxnode_key]\n",
    "          for val in alias_list:\n",
    "            output_row=[]\n",
    "            output_row.append(row[3])\n",
    "            output_row.append('alias')\n",
    "            output_row.append(val)\n",
    "            output_rows_qnode_pnode_rxnorm_qualifier.append(output_row)\n",
    "            \n",
    "\n",
    "print(output_rows_qnode_pnode_rxnorm_qualifier)"
   ]
  },
  {
   "cell_type": "code",
   "execution_count": null,
   "metadata": {
    "executionInfo": {
     "elapsed": 216267,
     "status": "ok",
     "timestamp": 1608101405820,
     "user": {
      "displayName": "Vishal Lal",
      "photoUrl": "",
      "userId": "14499003186519065342"
     },
     "user_tz": 480
    },
    "id": "n82KJXsXV7xu"
   },
   "outputs": [],
   "source": [
    "write_tsv(\"../results/rxnorm/kgtk_triples/qualifiers/qrxnode_prxnode_rxnorm_qualifier.tsv\", output_rows_qrxnode_prxnode_rxnorm_qualifier)\n",
    "write_tsv(\"../results/rxnorm/kgtk_triples/qualifiers/qnode_prxnode_rxnorm_qualifier.tsv\", output_rows_qnode_prxnode_rxnorm_qualifier)\n",
    "\n",
    "write_tsv(\"../results/rxnorm/kgtk_triples/qualifiers/qrxnode_pnode_rxnorm_qualifier.tsv\", output_rows_qrxnode_pnode_rxnorm_qualifier)\n",
    "write_tsv(\"../results/rxnorm/kgtk_triples/qualifiers/qnode_pnode_rxnorm_qualifier.tsv\", output_rows_qnode_pnode_rxnorm_qualifier)"
   ]
  },
  {
   "cell_type": "code",
   "execution_count": null,
   "metadata": {
    "colab": {
     "base_uri": "https://localhost:8080/"
    },
    "executionInfo": {
     "elapsed": 216451,
     "status": "ok",
     "timestamp": 1608101406011,
     "user": {
      "displayName": "Vishal Lal",
      "photoUrl": "",
      "userId": "14499003186519065342"
     },
     "user_tz": 480
    },
    "id": "s8IbGuaXww_O",
    "outputId": "f6d34fd7-4b4e-43c8-91fa-3c17ecd8cf63"
   },
   "outputs": [],
   "source": [
    "output_rows_prxnode_fda_qualifier=[]\n",
    "output_rows_prxnode_edges_fda_qualifier=[]\n",
    "output_rows_prxnode_datatype_fda_qualifier=[]\n",
    "for x in pred_notinwikidata_dict_fda_qualifier.keys():\n",
    "    \n",
    "    print(x)\n",
    "    \n",
    "    output_row=[]\n",
    "    pred_value=pred_notinwikidata_dict_fda_qualifier[x]\n",
    "    output_row.append(pred_value)\n",
    "    output_row.append(\"label\")\n",
    "    output_row.append(\"\\'\"+x+\"\\'\"+\"@en\")\n",
    "    output_rows_prxnode_fda_qualifier.append(output_row)\n",
    "    output_rows_prxnode_edges_fda_qualifier.append(output_row)\n",
    "    \n",
    "    output_row=[]\n",
    "    output_row.append(pred_value)\n",
    "    output_row.append(\"description\")\n",
    "    output_row.append(\"\\'\"+x+\"\\'\"+\"@en\")\n",
    "    output_rows_prxnode_fda_qualifier.append(output_row)\n",
    "    output_rows_prxnode_edges_fda_qualifier.append(output_row)\n",
    "    \n",
    "    output_row=[]\n",
    "    output_row.append(pred_value)\n",
    "    output_row.append(\"data_type\")\n",
    "    if (\"PRX_ID_\" in pred_value):\n",
    "        output_row.append(\"\\\"\"+\"external-identifier\"+\"\\\"\")\n",
    "    elif (\"PRX_FDA_\" in pred_value):\n",
    "        output_row.append(\"\\\"\"+\"string\"+\"\\\"\")\n",
    "    #output_row.append(\"\\\"String\\\"\")\n",
    "    output_rows_prxnode_fda_qualifier.append(output_row)\n",
    "    output_rows_prxnode_datatype_fda_qualifier.append(output_row)\n",
    "\n",
    "print(output_rows_prxnode_fda_qualifier)"
   ]
  },
  {
   "cell_type": "code",
   "execution_count": null,
   "metadata": {
    "executionInfo": {
     "elapsed": 216441,
     "status": "ok",
     "timestamp": 1608101406011,
     "user": {
      "displayName": "Vishal Lal",
      "photoUrl": "",
      "userId": "14499003186519065342"
     },
     "user_tz": 480
    },
    "id": "7q2S0bJhxwG3"
   },
   "outputs": [],
   "source": [
    "write_tsv(\"../results/fda/kgtk_triples/properties/prxnode_fda_qualifier.tsv\", output_rows_prxnode_fda_qualifier)\n",
    "write_tsv(\"../results/fda/kgtk_triples/properties/prxnode_edges_fda_qualifier.tsv\", output_rows_prxnode_edges_fda_qualifier)\n",
    "write_tsv(\"../results/fda/kgtk_triples/properties/prxnode_datatype_fda_qualifier.tsv\", output_rows_prxnode_datatype_fda_qualifier)"
   ]
  },
  {
   "cell_type": "code",
   "execution_count": null,
   "metadata": {
    "executionInfo": {
     "elapsed": 219420,
     "status": "ok",
     "timestamp": 1608101408996,
     "user": {
      "displayName": "Vishal Lal",
      "photoUrl": "",
      "userId": "14499003186519065342"
     },
     "user_tz": 480
    },
    "id": "6ohgXQrM7f49"
   },
   "outputs": [],
   "source": [
    "!kgtk compact -i ../results/rxnorm/kgtk_triples/qualifiers/qrxnode_pnode_rxnorm_qualifier.tsv -o ../results/rxnorm/kgtk_triples_compact/qualifiers/qrxnode_pnode_rxnorm_qualifier_compact.tsv\n",
    "!kgtk compact -i ../results/rxnorm/kgtk_triples/qualifiers/qrxnode_prxnode_rxnorm_qualifier.tsv -o ../results/rxnorm/kgtk_triples_compact/qualifiers/qrxnode_prxnode_rxnorm_qualifier_compact.tsv\n",
    "!kgtk compact -i ../results/rxnorm/kgtk_triples/qualifiers/qnode_pnode_rxnorm_qualifier.tsv -o ../results/rxnorm/kgtk_triples_compact/qualifiers/qnode_pnode_rxnorm_qualifier_compact.tsv\n",
    "!kgtk compact -i ../results/rxnorm/kgtk_triples/qualifiers/qnode_prxnode_rxnorm_qualifier.tsv -o ../results/rxnorm/kgtk_triples_compact/qualifiers/qnode_prxnode_rxnorm_qualifier_compact.tsv"
   ]
  },
  {
   "cell_type": "code",
   "execution_count": null,
   "metadata": {
    "executionInfo": {
     "elapsed": 220548,
     "status": "ok",
     "timestamp": 1608101410131,
     "user": {
      "displayName": "Vishal Lal",
      "photoUrl": "",
      "userId": "14499003186519065342"
     },
     "user_tz": 480
    },
    "id": "HirIYElj77s7"
   },
   "outputs": [],
   "source": [
    "!kgtk compact -i ../results/fda/kgtk_triples/qualifiers/qrxnode_prxnode_fda_qualifier.tsv -o ../results/fda/kgtk_triples_compact/qualifiers/qrxnode_prxnode_fda_qualifier_compact.tsv\n",
    "!kgtk compact -i ../results/fda/kgtk_triples/qualifiers/qnode_prxnode_fda_qualifier.tsv -o ../results/fda/kgtk_triples_compact/qualifiers/qnode_prxnode_fda_qualifier_compact.tsv"
   ]
  },
  {
   "cell_type": "code",
   "execution_count": null,
   "metadata": {
    "executionInfo": {
     "elapsed": 221236,
     "status": "ok",
     "timestamp": 1608101410825,
     "user": {
      "displayName": "Vishal Lal",
      "photoUrl": "",
      "userId": "14499003186519065342"
     },
     "user_tz": 480
    },
    "id": "nfQu18ak8j3w"
   },
   "outputs": [],
   "source": [
    "!kgtk compact -i ../results/fda/kgtk_triples/properties/prxnode_edges_fda_qualifier.tsv -o ../results/fda/kgtk_triples_compact/properties/prxnode_edges_fda_qualifier_compact.tsv"
   ]
  },
  {
   "cell_type": "code",
   "execution_count": null,
   "metadata": {
    "executionInfo": {
     "elapsed": 224795,
     "status": "ok",
     "timestamp": 1608101414391,
     "user": {
      "displayName": "Vishal Lal",
      "photoUrl": "",
      "userId": "14499003186519065342"
     },
     "user_tz": 480
    },
    "id": "yng8KfZ49F0E"
   },
   "outputs": [],
   "source": [
    "!kgtk add-id -i ../results/rxnorm/kgtk_triples_compact/qualifiers/qrxnode_pnode_rxnorm_qualifier_compact.tsv -o ../results/rxnorm/kgtk_triples_id/qualifiers/qrxnode_pnode_rxnorm_qualifier_id.tsv --id-style node1-label-node2-num\n",
    "!kgtk add-id -i ../results/rxnorm/kgtk_triples_compact/qualifiers/qrxnode_prxnode_rxnorm_qualifier_compact.tsv -o ../results/rxnorm/kgtk_triples_id/qualifiers/qrxnode_prxnode_rxnorm_qualifier_id.tsv --id-style node1-label-node2-num\n",
    "!kgtk add-id -i ../results/rxnorm/kgtk_triples_compact/qualifiers/qnode_pnode_rxnorm_qualifier_compact.tsv -o ../results/rxnorm/kgtk_triples_id/qualifiers/qnode_pnode_rxnorm_qualifier_id.tsv --id-style node1-label-node2-num\n",
    "!kgtk add-id -i ../results/rxnorm/kgtk_triples_compact/qualifiers/qnode_prxnode_rxnorm_qualifier_compact.tsv -o ../results/rxnorm/kgtk_triples_id/qualifiers/qnode_prxnode_rxnorm_qualifier_id.tsv --id-style node1-label-node2-num"
   ]
  },
  {
   "cell_type": "code",
   "execution_count": null,
   "metadata": {
    "executionInfo": {
     "elapsed": 226307,
     "status": "ok",
     "timestamp": 1608101415910,
     "user": {
      "displayName": "Vishal Lal",
      "photoUrl": "",
      "userId": "14499003186519065342"
     },
     "user_tz": 480
    },
    "id": "hfaW_BmU9_ff"
   },
   "outputs": [],
   "source": [
    "!kgtk add-id -i ../results/fda/kgtk_triples_compact/qualifiers/qrxnode_prxnode_fda_qualifier_compact.tsv -o ../results/fda/kgtk_triples_id/qualifiers/qrxnode_prxnode_fda_qualifier_id.tsv --id-style node1-label-node2-num\n",
    "!kgtk add-id -i ../results/fda/kgtk_triples_compact/qualifiers/qnode_prxnode_fda_qualifier_compact.tsv -o ../results/fda/kgtk_triples_id/qualifiers/qnode_prxnode_fda_qualifier_id.tsv --id-style node1-label-node2-num"
   ]
  },
  {
   "cell_type": "code",
   "execution_count": null,
   "metadata": {
    "executionInfo": {
     "elapsed": 226300,
     "status": "ok",
     "timestamp": 1608101415911,
     "user": {
      "displayName": "Vishal Lal",
      "photoUrl": "",
      "userId": "14499003186519065342"
     },
     "user_tz": 480
    },
    "id": "HBUBztWb_PhI"
   },
   "outputs": [],
   "source": [
    "!kgtk add-id -i ../results/fda/kgtk_triples_compact/properties/prxnode_edges_fda_qualifier_compact.tsv -o ../results/fda/kgtk_triples_id/properties/prxnode_edges_fda_qualifier_id.tsv --id-style node1-label-node2-num"
   ]
  },
  {
   "cell_type": "code",
   "execution_count": null,
   "metadata": {
    "colab": {
     "base_uri": "https://localhost:8080/"
    },
    "executionInfo": {
     "elapsed": 229077,
     "status": "ok",
     "timestamp": 1608101418696,
     "user": {
      "displayName": "Vishal Lal",
      "photoUrl": "",
      "userId": "14499003186519065342"
     },
     "user_tz": 480
    },
    "id": "-1x8YXn6_pqI",
    "outputId": "1afdc636-9d27-4781-d903-e01706184d9d"
   },
   "outputs": [],
   "source": [
    "!kgtk validate -i ../results/rxnorm/kgtk_triples_id/qualifiers/qrxnode_pnode_rxnorm_qualifier_id.tsv -v\n",
    "!kgtk validate -i ../results/rxnorm/kgtk_triples_id/qualifiers/qrxnode_prxnode_rxnorm_qualifier_id.tsv -v\n",
    "!kgtk validate -i ../results/rxnorm/kgtk_triples_id/qualifiers/qnode_pnode_rxnorm_qualifier_id.tsv -v\n",
    "!kgtk validate -i ../results/rxnorm/kgtk_triples_id/qualifiers/qnode_prxnode_rxnorm_qualifier_id.tsv -v"
   ]
  },
  {
   "cell_type": "code",
   "execution_count": null,
   "metadata": {
    "colab": {
     "base_uri": "https://localhost:8080/"
    },
    "executionInfo": {
     "elapsed": 230340,
     "status": "ok",
     "timestamp": 1608101419970,
     "user": {
      "displayName": "Vishal Lal",
      "photoUrl": "",
      "userId": "14499003186519065342"
     },
     "user_tz": 480
    },
    "id": "HYJyh4Pi_8hq",
    "outputId": "5db5b01d-f0f6-4b91-b545-ee6bb4213fc4"
   },
   "outputs": [],
   "source": [
    "!kgtk validate -i ../results/fda/kgtk_triples_id/qualifiers/qrxnode_prxnode_fda_qualifier_id.tsv -v\n",
    "!kgtk validate -i ../results/fda/kgtk_triples_id/qualifiers/qnode_prxnode_fda_qualifier_id.tsv -v"
   ]
  },
  {
   "cell_type": "code",
   "execution_count": null,
   "metadata": {
    "colab": {
     "base_uri": "https://localhost:8080/"
    },
    "executionInfo": {
     "elapsed": 231330,
     "status": "ok",
     "timestamp": 1608101420971,
     "user": {
      "displayName": "Vishal Lal",
      "photoUrl": "",
      "userId": "14499003186519065342"
     },
     "user_tz": 480
    },
    "id": "FXxxzMOYAZHq",
    "outputId": "da8c6709-f381-40a7-dccb-63fc1fe279c3"
   },
   "outputs": [],
   "source": [
    "!kgtk validate -i ../results/fda/kgtk_triples_id/properties/prxnode_edges_fda_qualifier_id.tsv -v"
   ]
  },
  {
   "cell_type": "code",
   "execution_count": null,
   "metadata": {
    "executionInfo": {
     "elapsed": 232137,
     "status": "ok",
     "timestamp": 1608101421789,
     "user": {
      "displayName": "Vishal Lal",
      "photoUrl": "",
      "userId": "14499003186519065342"
     },
     "user_tz": 480
    },
    "id": "ib7vkMjtAhYc"
   },
   "outputs": [],
   "source": [
    "!kgtk cat -i ../results/rxnorm/kgtk_triples_id/nodes/qrxnode_pnode_rxnorm_id.tsv ../results/rxnorm/kgtk_triples_id/nodes/qrxnode_prxnode_rxnorm_id.tsv ../results/rxnorm/kgtk_triples_id/nodes/qnode_pnode_rxnorm_id.tsv ../results/rxnorm/kgtk_triples_id/nodes/qnode_prxnode_rxnorm_id.tsv -o ../results/rxnorm/kgtk_merged/nodes_edges_merged_rxnorm.tsv"
   ]
  },
  {
   "cell_type": "code",
   "execution_count": null,
   "metadata": {
    "executionInfo": {
     "elapsed": 233392,
     "status": "ok",
     "timestamp": 1608101423050,
     "user": {
      "displayName": "Vishal Lal",
      "photoUrl": "",
      "userId": "14499003186519065342"
     },
     "user_tz": 480
    },
    "id": "Lju6pKyyDSEy"
   },
   "outputs": [],
   "source": [
    "!kgtk cat -i ../results/rxnorm/kgtk_triples_id/qualifiers/qrxnode_pnode_rxnorm_qualifier_id.tsv ../results/rxnorm/kgtk_triples_id/qualifiers/qrxnode_prxnode_rxnorm_qualifier_id.tsv ../results/rxnorm/kgtk_triples_id/qualifiers/qnode_pnode_rxnorm_qualifier_id.tsv ../results/rxnorm/kgtk_triples_id/qualifiers/qnode_prxnode_rxnorm_qualifier_id.tsv -o ../results/rxnorm/kgtk_merged/qualifiers_edges_merged_rxnorm.tsv"
   ]
  },
  {
   "cell_type": "code",
   "execution_count": null,
   "metadata": {
    "executionInfo": {
     "elapsed": 234851,
     "status": "ok",
     "timestamp": 1608101424516,
     "user": {
      "displayName": "Vishal Lal",
      "photoUrl": "",
      "userId": "14499003186519065342"
     },
     "user_tz": 480
    },
    "id": "0QDEaGM4EtX5"
   },
   "outputs": [],
   "source": [
    "!kgtk cat -i ../results/rxnorm/kgtk_triples_id/properties/prxnode_edges_rxnorm_id.tsv -o ../results/rxnorm/kgtk_merged/properties_edges_merged_rxnorm.tsv\n",
    "!kgtk cat -i ../results/rxnorm/kgtk_triples/properties/prxnode_datatype_rxnorm.tsv -o ../results/rxnorm/kgtk_merged/properties_datatype_merged_rxnorm.tsv"
   ]
  },
  {
   "cell_type": "code",
   "execution_count": null,
   "metadata": {
    "executionInfo": {
     "elapsed": 235280,
     "status": "ok",
     "timestamp": 1608101424951,
     "user": {
      "displayName": "Vishal Lal",
      "photoUrl": "",
      "userId": "14499003186519065342"
     },
     "user_tz": 480
    },
    "id": "DpIMYK__CjwA"
   },
   "outputs": [],
   "source": [
    "!kgtk cat -i ../results/fda/kgtk_triples_id/nodes/qrxnode_pnode_fda_id.tsv ../results/fda/kgtk_triples_id/nodes/qrxnode_prxnode_fda_id.tsv ../results/fda/kgtk_triples_id/nodes/qnode_pnode_fda_id.tsv ../results/fda/kgtk_triples_id/nodes/qnode_prxnode_fda_id.tsv -o ../results/fda/kgtk_merged/nodes_edges_merged_fda.tsv"
   ]
  },
  {
   "cell_type": "code",
   "execution_count": null,
   "metadata": {
    "executionInfo": {
     "elapsed": 236007,
     "status": "ok",
     "timestamp": 1608101425685,
     "user": {
      "displayName": "Vishal Lal",
      "photoUrl": "",
      "userId": "14499003186519065342"
     },
     "user_tz": 480
    },
    "id": "ECCxa9KkEQ3Y"
   },
   "outputs": [],
   "source": [
    "!kgtk cat -i ../results/fda/kgtk_triples_id/qualifiers/qrxnode_prxnode_fda_qualifier_id.tsv ../results/fda/kgtk_triples_id/qualifiers/qnode_prxnode_fda_qualifier_id.tsv -o ../results/fda/kgtk_merged/qualifiers_edges_merged_fda.tsv"
   ]
  },
  {
   "cell_type": "code",
   "execution_count": null,
   "metadata": {
    "executionInfo": {
     "elapsed": 237407,
     "status": "ok",
     "timestamp": 1608101427092,
     "user": {
      "displayName": "Vishal Lal",
      "photoUrl": "",
      "userId": "14499003186519065342"
     },
     "user_tz": 480
    },
    "id": "frTSmIanE6TO"
   },
   "outputs": [],
   "source": [
    "!kgtk cat -i ../results/fda/kgtk_triples_id/properties/prxnode_edges_fda_id.tsv ../results/fda/kgtk_triples_id/properties/prxnode_edges_fda_qualifier_id.tsv -o ../results/fda/kgtk_merged/properties_edges_merged_fda.tsv\n",
    "!kgtk cat -i ../results/fda/kgtk_triples/properties/prxnode_datatype_fda.tsv ../results/fda/kgtk_triples/properties/prxnode_datatype_fda_qualifier.tsv -o ../results/fda/kgtk_merged/properties_datatype_merged_fda.tsv"
   ]
  },
  {
   "cell_type": "code",
   "execution_count": null,
   "metadata": {
    "executionInfo": {
     "elapsed": 238417,
     "status": "ok",
     "timestamp": 1608101428108,
     "user": {
      "displayName": "Vishal Lal",
      "photoUrl": "",
      "userId": "14499003186519065342"
     },
     "user_tz": 480
    },
    "id": "j0KWr9aWFhut"
   },
   "outputs": [],
   "source": [
    "!kgtk cat -i ../results/rxnorm/kgtk_merged/nodes_edges_merged_rxnorm.tsv ../results/rxnorm/kgtk_merged/properties_edges_merged_rxnorm.tsv ../results/rxnorm/kgtk_merged/qualifiers_edges_merged_rxnorm.tsv -o ../results/merged_ingestion/intermediate/nodes_properties_qualifiers_alledges_rxnorm.tsv"
   ]
  },
  {
   "cell_type": "code",
   "execution_count": null,
   "metadata": {
    "executionInfo": {
     "elapsed": 239325,
     "status": "ok",
     "timestamp": 1608101429023,
     "user": {
      "displayName": "Vishal Lal",
      "photoUrl": "",
      "userId": "14499003186519065342"
     },
     "user_tz": 480
    },
    "id": "ix2Y8yxdG1Xn"
   },
   "outputs": [],
   "source": [
    "!kgtk cat -i ../results/fda/kgtk_merged/nodes_edges_merged_fda.tsv ../results/fda/kgtk_merged/properties_edges_merged_fda.tsv ../results/fda/kgtk_merged/qualifiers_edges_merged_fda.tsv -o ../results/merged_ingestion/intermediate/nodes_properties_qualifiers_alledges_fda.tsv"
   ]
  },
  {
   "cell_type": "code",
   "execution_count": null,
   "metadata": {
    "executionInfo": {
     "elapsed": 240100,
     "status": "ok",
     "timestamp": 1608101429805,
     "user": {
      "displayName": "Vishal Lal",
      "photoUrl": "",
      "userId": "14499003186519065342"
     },
     "user_tz": 480
    },
    "id": "vafFCHOBHX9T"
   },
   "outputs": [],
   "source": [
    "!kgtk cat -i ../results/rxnorm/kgtk_merged/properties_datatype_merged_rxnorm.tsv ../results/fda/kgtk_merged/properties_datatype_merged_fda.tsv -o ../results/merged_ingestion/final/properties_datatype_merged.tsv"
   ]
  },
  {
   "cell_type": "code",
   "execution_count": null,
   "metadata": {
    "executionInfo": {
     "elapsed": 241300,
     "status": "ok",
     "timestamp": 1608101431011,
     "user": {
      "displayName": "Vishal Lal",
      "photoUrl": "",
      "userId": "14499003186519065342"
     },
     "user_tz": 480
    },
    "id": "64_HLY4MHz3x"
   },
   "outputs": [],
   "source": [
    "!kgtk cat -i ../results/merged_ingestion/intermediate/nodes_properties_qualifiers_alledges_rxnorm.tsv ../results/merged_ingestion/intermediate/nodes_properties_qualifiers_alledges_fda.tsv -o ../results/merged_ingestion/final/nodes_properties_qualifiers_alledges_merged.tsv"
   ]
  }
 ],
 "metadata": {
  "celltoolbar": "Tags",
  "colab": {
   "collapsed_sections": [],
   "name": "generate_triples_rxnorm_fda_entresto.ipynb",
   "provenance": []
  },
  "kernelspec": {
   "display_name": "Python 3",
   "language": "python",
   "name": "python3"
  },
  "language_info": {
   "codemirror_mode": {
    "name": "ipython",
    "version": 3
   },
   "file_extension": ".py",
   "mimetype": "text/x-python",
   "name": "python",
   "nbconvert_exporter": "python",
   "pygments_lexer": "ipython3",
   "version": "3.7.3"
  }
 },
 "nbformat": 4,
 "nbformat_minor": 1
}
